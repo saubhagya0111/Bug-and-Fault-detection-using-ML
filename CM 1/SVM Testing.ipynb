{
 "cells": [
  {
   "cell_type": "code",
   "execution_count": 1,
   "metadata": {},
   "outputs": [
    {
     "name": "stdout",
     "output_type": "stream",
     "text": [
      "Requirement already satisfied: chart-studio in c:\\users\\saubh\\appdata\\local\\programs\\python\\python311\\lib\\site-packages (1.1.0)\n",
      "Requirement already satisfied: plotly in c:\\users\\saubh\\appdata\\local\\programs\\python\\python311\\lib\\site-packages (from chart-studio) (5.13.1)\n",
      "Requirement already satisfied: requests in c:\\users\\saubh\\appdata\\local\\programs\\python\\python311\\lib\\site-packages (from chart-studio) (2.28.2)\n",
      "Requirement already satisfied: retrying>=1.3.3 in c:\\users\\saubh\\appdata\\local\\programs\\python\\python311\\lib\\site-packages (from chart-studio) (1.3.4)\n",
      "Requirement already satisfied: six in c:\\users\\saubh\\appdata\\local\\programs\\python\\python311\\lib\\site-packages (from chart-studio) (1.16.0)\n",
      "Requirement already satisfied: tenacity>=6.2.0 in c:\\users\\saubh\\appdata\\local\\programs\\python\\python311\\lib\\site-packages (from plotly->chart-studio) (8.2.2)\n",
      "Requirement already satisfied: charset-normalizer<4,>=2 in c:\\users\\saubh\\appdata\\local\\programs\\python\\python311\\lib\\site-packages (from requests->chart-studio) (3.1.0)\n",
      "Requirement already satisfied: idna<4,>=2.5 in c:\\users\\saubh\\appdata\\local\\programs\\python\\python311\\lib\\site-packages (from requests->chart-studio) (3.4)\n",
      "Requirement already satisfied: urllib3<1.27,>=1.21.1 in c:\\users\\saubh\\appdata\\local\\programs\\python\\python311\\lib\\site-packages (from requests->chart-studio) (1.26.15)\n",
      "Requirement already satisfied: certifi>=2017.4.17 in c:\\users\\saubh\\appdata\\local\\programs\\python\\python311\\lib\\site-packages (from requests->chart-studio) (2022.12.7)\n",
      "Note: you may need to restart the kernel to use updated packages.\n"
     ]
    },
    {
     "data": {
      "text/html": [
       "        <script type=\"text/javascript\">\n",
       "        window.PlotlyConfig = {MathJaxConfig: 'local'};\n",
       "        if (window.MathJax && window.MathJax.Hub && window.MathJax.Hub.Config) {window.MathJax.Hub.Config({SVG: {font: \"STIX-Web\"}});}\n",
       "        if (typeof require !== 'undefined') {\n",
       "        require.undef(\"plotly\");\n",
       "        requirejs.config({\n",
       "            paths: {\n",
       "                'plotly': ['https://cdn.plot.ly/plotly-2.18.2.min']\n",
       "            }\n",
       "        });\n",
       "        require(['plotly'], function(Plotly) {\n",
       "            window._Plotly = Plotly;\n",
       "        });\n",
       "        }\n",
       "        </script>\n",
       "        "
      ]
     },
     "metadata": {},
     "output_type": "display_data"
    }
   ],
   "source": [
    "import numpy as np \n",
    "import pandas as pd \n",
    "import matplotlib.pyplot as plt \n",
    "import seaborn as sns\n",
    "%pip install chart-studio\n",
    "from chart_studio import plotly as py\n",
    "import plotly.graph_objs as go\n",
    "from plotly.offline import iplot\n",
    "from plotly.offline import init_notebook_mode, iplot\n",
    "init_notebook_mode(connected=True)\n",
    "import os"
   ]
  },
  {
   "cell_type": "code",
   "execution_count": 2,
   "metadata": {},
   "outputs": [],
   "source": [
    "# print(os.listdir(\"../Software_Defect\"))\n",
    "data = pd.read_csv('cm1.csv')"
   ]
  },
  {
   "cell_type": "code",
   "execution_count": 3,
   "metadata": {},
   "outputs": [
    {
     "name": "stdout",
     "output_type": "stream",
     "text": [
      "False:  449\n",
      "True:  49\n"
     ]
    }
   ],
   "source": [
    "defect_true_false = data.groupby('defects')['b'].apply(lambda x: x.count())\n",
    "print('False: ',defect_true_false[0])\n",
    "print('True: ',defect_true_false[1])"
   ]
  },
  {
   "cell_type": "code",
   "execution_count": 4,
   "metadata": {},
   "outputs": [
    {
     "data": {
      "application/vnd.plotly.v1+json": {
       "config": {
        "linkText": "Export to plot.ly",
        "plotlyServerURL": "https://plot.ly",
        "showLink": false
       },
       "data": [
        {
         "marker": {
          "color": "green"
         },
         "name": "Defects",
         "opacity": 0.75,
         "type": "histogram",
         "x": [
          false,
          true,
          false,
          false,
          false,
          false,
          false,
          false,
          false,
          false,
          false,
          false,
          false,
          false,
          false,
          false,
          false,
          false,
          false,
          false,
          false,
          false,
          false,
          false,
          false,
          false,
          false,
          false,
          false,
          false,
          false,
          false,
          false,
          false,
          false,
          false,
          false,
          false,
          false,
          false,
          false,
          false,
          false,
          false,
          false,
          false,
          false,
          false,
          false,
          false,
          false,
          false,
          false,
          false,
          false,
          false,
          false,
          false,
          false,
          false,
          false,
          false,
          false,
          false,
          false,
          false,
          false,
          false,
          false,
          false,
          false,
          false,
          false,
          false,
          false,
          false,
          false,
          false,
          false,
          false,
          false,
          false,
          false,
          false,
          false,
          false,
          false,
          false,
          false,
          false,
          false,
          false,
          false,
          false,
          false,
          false,
          false,
          false,
          false,
          false,
          false,
          false,
          false,
          false,
          false,
          false,
          false,
          false,
          false,
          false,
          false,
          false,
          false,
          false,
          false,
          false,
          false,
          false,
          false,
          false,
          false,
          false,
          false,
          false,
          false,
          false,
          false,
          false,
          false,
          false,
          false,
          false,
          false,
          false,
          false,
          false,
          false,
          false,
          false,
          false,
          false,
          false,
          false,
          false,
          false,
          false,
          false,
          false,
          false,
          false,
          false,
          false,
          false,
          false,
          false,
          false,
          false,
          false,
          false,
          false,
          false,
          false,
          false,
          false,
          false,
          false,
          false,
          false,
          false,
          false,
          false,
          false,
          false,
          false,
          false,
          false,
          false,
          false,
          false,
          false,
          false,
          false,
          false,
          false,
          false,
          false,
          false,
          false,
          false,
          false,
          false,
          false,
          false,
          false,
          false,
          false,
          false,
          false,
          false,
          false,
          false,
          false,
          false,
          false,
          false,
          false,
          false,
          false,
          false,
          false,
          false,
          false,
          false,
          false,
          false,
          false,
          false,
          false,
          false,
          false,
          false,
          false,
          false,
          false,
          false,
          false,
          false,
          false,
          false,
          false,
          false,
          false,
          false,
          false,
          false,
          false,
          false,
          false,
          false,
          false,
          false,
          false,
          false,
          false,
          false,
          false,
          false,
          false,
          false,
          false,
          false,
          false,
          false,
          false,
          false,
          false,
          false,
          false,
          false,
          false,
          false,
          false,
          false,
          false,
          false,
          false,
          false,
          false,
          false,
          false,
          false,
          false,
          false,
          false,
          false,
          false,
          false,
          false,
          false,
          false,
          false,
          false,
          false,
          false,
          false,
          false,
          false,
          false,
          false,
          false,
          false,
          false,
          false,
          false,
          false,
          false,
          false,
          false,
          false,
          false,
          false,
          false,
          false,
          false,
          false,
          false,
          false,
          false,
          false,
          false,
          false,
          false,
          false,
          false,
          false,
          false,
          false,
          false,
          false,
          false,
          false,
          false,
          false,
          false,
          false,
          false,
          false,
          false,
          false,
          false,
          false,
          false,
          false,
          false,
          false,
          false,
          false,
          false,
          false,
          false,
          false,
          false,
          false,
          false,
          false,
          false,
          false,
          false,
          false,
          false,
          false,
          false,
          false,
          false,
          false,
          false,
          false,
          false,
          false,
          false,
          false,
          false,
          false,
          false,
          false,
          false,
          false,
          false,
          false,
          false,
          false,
          false,
          false,
          false,
          false,
          false,
          false,
          false,
          false,
          false,
          false,
          false,
          false,
          false,
          false,
          false,
          false,
          false,
          false,
          false,
          false,
          false,
          false,
          false,
          false,
          false,
          false,
          false,
          false,
          false,
          false,
          false,
          false,
          false,
          false,
          false,
          false,
          false,
          false,
          false,
          false,
          false,
          false,
          false,
          false,
          false,
          false,
          false,
          false,
          false,
          false,
          false,
          false,
          false,
          false,
          false,
          false,
          false,
          false,
          false,
          false,
          false,
          false,
          false,
          false,
          false,
          false,
          false,
          false,
          false,
          false,
          false,
          false,
          false,
          false,
          false,
          false,
          false,
          false,
          false,
          true,
          true,
          true,
          true,
          true,
          true,
          true,
          true,
          true,
          true,
          true,
          true,
          true,
          true,
          true,
          true,
          true,
          true,
          true,
          true,
          true,
          true,
          true,
          true,
          true,
          true,
          true,
          true,
          true,
          true,
          true,
          true,
          true,
          true,
          true,
          true,
          true,
          true,
          true,
          true,
          true,
          true,
          true,
          true,
          true,
          true,
          true,
          true
         ]
        }
       ],
       "layout": {
        "barmode": "overlay",
        "template": {
         "data": {
          "bar": [
           {
            "error_x": {
             "color": "#2a3f5f"
            },
            "error_y": {
             "color": "#2a3f5f"
            },
            "marker": {
             "line": {
              "color": "#E5ECF6",
              "width": 0.5
             },
             "pattern": {
              "fillmode": "overlay",
              "size": 10,
              "solidity": 0.2
             }
            },
            "type": "bar"
           }
          ],
          "barpolar": [
           {
            "marker": {
             "line": {
              "color": "#E5ECF6",
              "width": 0.5
             },
             "pattern": {
              "fillmode": "overlay",
              "size": 10,
              "solidity": 0.2
             }
            },
            "type": "barpolar"
           }
          ],
          "carpet": [
           {
            "aaxis": {
             "endlinecolor": "#2a3f5f",
             "gridcolor": "white",
             "linecolor": "white",
             "minorgridcolor": "white",
             "startlinecolor": "#2a3f5f"
            },
            "baxis": {
             "endlinecolor": "#2a3f5f",
             "gridcolor": "white",
             "linecolor": "white",
             "minorgridcolor": "white",
             "startlinecolor": "#2a3f5f"
            },
            "type": "carpet"
           }
          ],
          "choropleth": [
           {
            "colorbar": {
             "outlinewidth": 0,
             "ticks": ""
            },
            "type": "choropleth"
           }
          ],
          "contour": [
           {
            "colorbar": {
             "outlinewidth": 0,
             "ticks": ""
            },
            "colorscale": [
             [
              0,
              "#0d0887"
             ],
             [
              0.1111111111111111,
              "#46039f"
             ],
             [
              0.2222222222222222,
              "#7201a8"
             ],
             [
              0.3333333333333333,
              "#9c179e"
             ],
             [
              0.4444444444444444,
              "#bd3786"
             ],
             [
              0.5555555555555556,
              "#d8576b"
             ],
             [
              0.6666666666666666,
              "#ed7953"
             ],
             [
              0.7777777777777778,
              "#fb9f3a"
             ],
             [
              0.8888888888888888,
              "#fdca26"
             ],
             [
              1,
              "#f0f921"
             ]
            ],
            "type": "contour"
           }
          ],
          "contourcarpet": [
           {
            "colorbar": {
             "outlinewidth": 0,
             "ticks": ""
            },
            "type": "contourcarpet"
           }
          ],
          "heatmap": [
           {
            "colorbar": {
             "outlinewidth": 0,
             "ticks": ""
            },
            "colorscale": [
             [
              0,
              "#0d0887"
             ],
             [
              0.1111111111111111,
              "#46039f"
             ],
             [
              0.2222222222222222,
              "#7201a8"
             ],
             [
              0.3333333333333333,
              "#9c179e"
             ],
             [
              0.4444444444444444,
              "#bd3786"
             ],
             [
              0.5555555555555556,
              "#d8576b"
             ],
             [
              0.6666666666666666,
              "#ed7953"
             ],
             [
              0.7777777777777778,
              "#fb9f3a"
             ],
             [
              0.8888888888888888,
              "#fdca26"
             ],
             [
              1,
              "#f0f921"
             ]
            ],
            "type": "heatmap"
           }
          ],
          "heatmapgl": [
           {
            "colorbar": {
             "outlinewidth": 0,
             "ticks": ""
            },
            "colorscale": [
             [
              0,
              "#0d0887"
             ],
             [
              0.1111111111111111,
              "#46039f"
             ],
             [
              0.2222222222222222,
              "#7201a8"
             ],
             [
              0.3333333333333333,
              "#9c179e"
             ],
             [
              0.4444444444444444,
              "#bd3786"
             ],
             [
              0.5555555555555556,
              "#d8576b"
             ],
             [
              0.6666666666666666,
              "#ed7953"
             ],
             [
              0.7777777777777778,
              "#fb9f3a"
             ],
             [
              0.8888888888888888,
              "#fdca26"
             ],
             [
              1,
              "#f0f921"
             ]
            ],
            "type": "heatmapgl"
           }
          ],
          "histogram": [
           {
            "marker": {
             "pattern": {
              "fillmode": "overlay",
              "size": 10,
              "solidity": 0.2
             }
            },
            "type": "histogram"
           }
          ],
          "histogram2d": [
           {
            "colorbar": {
             "outlinewidth": 0,
             "ticks": ""
            },
            "colorscale": [
             [
              0,
              "#0d0887"
             ],
             [
              0.1111111111111111,
              "#46039f"
             ],
             [
              0.2222222222222222,
              "#7201a8"
             ],
             [
              0.3333333333333333,
              "#9c179e"
             ],
             [
              0.4444444444444444,
              "#bd3786"
             ],
             [
              0.5555555555555556,
              "#d8576b"
             ],
             [
              0.6666666666666666,
              "#ed7953"
             ],
             [
              0.7777777777777778,
              "#fb9f3a"
             ],
             [
              0.8888888888888888,
              "#fdca26"
             ],
             [
              1,
              "#f0f921"
             ]
            ],
            "type": "histogram2d"
           }
          ],
          "histogram2dcontour": [
           {
            "colorbar": {
             "outlinewidth": 0,
             "ticks": ""
            },
            "colorscale": [
             [
              0,
              "#0d0887"
             ],
             [
              0.1111111111111111,
              "#46039f"
             ],
             [
              0.2222222222222222,
              "#7201a8"
             ],
             [
              0.3333333333333333,
              "#9c179e"
             ],
             [
              0.4444444444444444,
              "#bd3786"
             ],
             [
              0.5555555555555556,
              "#d8576b"
             ],
             [
              0.6666666666666666,
              "#ed7953"
             ],
             [
              0.7777777777777778,
              "#fb9f3a"
             ],
             [
              0.8888888888888888,
              "#fdca26"
             ],
             [
              1,
              "#f0f921"
             ]
            ],
            "type": "histogram2dcontour"
           }
          ],
          "mesh3d": [
           {
            "colorbar": {
             "outlinewidth": 0,
             "ticks": ""
            },
            "type": "mesh3d"
           }
          ],
          "parcoords": [
           {
            "line": {
             "colorbar": {
              "outlinewidth": 0,
              "ticks": ""
             }
            },
            "type": "parcoords"
           }
          ],
          "pie": [
           {
            "automargin": true,
            "type": "pie"
           }
          ],
          "scatter": [
           {
            "fillpattern": {
             "fillmode": "overlay",
             "size": 10,
             "solidity": 0.2
            },
            "type": "scatter"
           }
          ],
          "scatter3d": [
           {
            "line": {
             "colorbar": {
              "outlinewidth": 0,
              "ticks": ""
             }
            },
            "marker": {
             "colorbar": {
              "outlinewidth": 0,
              "ticks": ""
             }
            },
            "type": "scatter3d"
           }
          ],
          "scattercarpet": [
           {
            "marker": {
             "colorbar": {
              "outlinewidth": 0,
              "ticks": ""
             }
            },
            "type": "scattercarpet"
           }
          ],
          "scattergeo": [
           {
            "marker": {
             "colorbar": {
              "outlinewidth": 0,
              "ticks": ""
             }
            },
            "type": "scattergeo"
           }
          ],
          "scattergl": [
           {
            "marker": {
             "colorbar": {
              "outlinewidth": 0,
              "ticks": ""
             }
            },
            "type": "scattergl"
           }
          ],
          "scattermapbox": [
           {
            "marker": {
             "colorbar": {
              "outlinewidth": 0,
              "ticks": ""
             }
            },
            "type": "scattermapbox"
           }
          ],
          "scatterpolar": [
           {
            "marker": {
             "colorbar": {
              "outlinewidth": 0,
              "ticks": ""
             }
            },
            "type": "scatterpolar"
           }
          ],
          "scatterpolargl": [
           {
            "marker": {
             "colorbar": {
              "outlinewidth": 0,
              "ticks": ""
             }
            },
            "type": "scatterpolargl"
           }
          ],
          "scatterternary": [
           {
            "marker": {
             "colorbar": {
              "outlinewidth": 0,
              "ticks": ""
             }
            },
            "type": "scatterternary"
           }
          ],
          "surface": [
           {
            "colorbar": {
             "outlinewidth": 0,
             "ticks": ""
            },
            "colorscale": [
             [
              0,
              "#0d0887"
             ],
             [
              0.1111111111111111,
              "#46039f"
             ],
             [
              0.2222222222222222,
              "#7201a8"
             ],
             [
              0.3333333333333333,
              "#9c179e"
             ],
             [
              0.4444444444444444,
              "#bd3786"
             ],
             [
              0.5555555555555556,
              "#d8576b"
             ],
             [
              0.6666666666666666,
              "#ed7953"
             ],
             [
              0.7777777777777778,
              "#fb9f3a"
             ],
             [
              0.8888888888888888,
              "#fdca26"
             ],
             [
              1,
              "#f0f921"
             ]
            ],
            "type": "surface"
           }
          ],
          "table": [
           {
            "cells": {
             "fill": {
              "color": "#EBF0F8"
             },
             "line": {
              "color": "white"
             }
            },
            "header": {
             "fill": {
              "color": "#C8D4E3"
             },
             "line": {
              "color": "white"
             }
            },
            "type": "table"
           }
          ]
         },
         "layout": {
          "annotationdefaults": {
           "arrowcolor": "#2a3f5f",
           "arrowhead": 0,
           "arrowwidth": 1
          },
          "autotypenumbers": "strict",
          "coloraxis": {
           "colorbar": {
            "outlinewidth": 0,
            "ticks": ""
           }
          },
          "colorscale": {
           "diverging": [
            [
             0,
             "#8e0152"
            ],
            [
             0.1,
             "#c51b7d"
            ],
            [
             0.2,
             "#de77ae"
            ],
            [
             0.3,
             "#f1b6da"
            ],
            [
             0.4,
             "#fde0ef"
            ],
            [
             0.5,
             "#f7f7f7"
            ],
            [
             0.6,
             "#e6f5d0"
            ],
            [
             0.7,
             "#b8e186"
            ],
            [
             0.8,
             "#7fbc41"
            ],
            [
             0.9,
             "#4d9221"
            ],
            [
             1,
             "#276419"
            ]
           ],
           "sequential": [
            [
             0,
             "#0d0887"
            ],
            [
             0.1111111111111111,
             "#46039f"
            ],
            [
             0.2222222222222222,
             "#7201a8"
            ],
            [
             0.3333333333333333,
             "#9c179e"
            ],
            [
             0.4444444444444444,
             "#bd3786"
            ],
            [
             0.5555555555555556,
             "#d8576b"
            ],
            [
             0.6666666666666666,
             "#ed7953"
            ],
            [
             0.7777777777777778,
             "#fb9f3a"
            ],
            [
             0.8888888888888888,
             "#fdca26"
            ],
            [
             1,
             "#f0f921"
            ]
           ],
           "sequentialminus": [
            [
             0,
             "#0d0887"
            ],
            [
             0.1111111111111111,
             "#46039f"
            ],
            [
             0.2222222222222222,
             "#7201a8"
            ],
            [
             0.3333333333333333,
             "#9c179e"
            ],
            [
             0.4444444444444444,
             "#bd3786"
            ],
            [
             0.5555555555555556,
             "#d8576b"
            ],
            [
             0.6666666666666666,
             "#ed7953"
            ],
            [
             0.7777777777777778,
             "#fb9f3a"
            ],
            [
             0.8888888888888888,
             "#fdca26"
            ],
            [
             1,
             "#f0f921"
            ]
           ]
          },
          "colorway": [
           "#636efa",
           "#EF553B",
           "#00cc96",
           "#ab63fa",
           "#FFA15A",
           "#19d3f3",
           "#FF6692",
           "#B6E880",
           "#FF97FF",
           "#FECB52"
          ],
          "font": {
           "color": "#2a3f5f"
          },
          "geo": {
           "bgcolor": "white",
           "lakecolor": "white",
           "landcolor": "#E5ECF6",
           "showlakes": true,
           "showland": true,
           "subunitcolor": "white"
          },
          "hoverlabel": {
           "align": "left"
          },
          "hovermode": "closest",
          "mapbox": {
           "style": "light"
          },
          "paper_bgcolor": "white",
          "plot_bgcolor": "#E5ECF6",
          "polar": {
           "angularaxis": {
            "gridcolor": "white",
            "linecolor": "white",
            "ticks": ""
           },
           "bgcolor": "#E5ECF6",
           "radialaxis": {
            "gridcolor": "white",
            "linecolor": "white",
            "ticks": ""
           }
          },
          "scene": {
           "xaxis": {
            "backgroundcolor": "#E5ECF6",
            "gridcolor": "white",
            "gridwidth": 2,
            "linecolor": "white",
            "showbackground": true,
            "ticks": "",
            "zerolinecolor": "white"
           },
           "yaxis": {
            "backgroundcolor": "#E5ECF6",
            "gridcolor": "white",
            "gridwidth": 2,
            "linecolor": "white",
            "showbackground": true,
            "ticks": "",
            "zerolinecolor": "white"
           },
           "zaxis": {
            "backgroundcolor": "#E5ECF6",
            "gridcolor": "white",
            "gridwidth": 2,
            "linecolor": "white",
            "showbackground": true,
            "ticks": "",
            "zerolinecolor": "white"
           }
          },
          "shapedefaults": {
           "line": {
            "color": "#2a3f5f"
           }
          },
          "ternary": {
           "aaxis": {
            "gridcolor": "white",
            "linecolor": "white",
            "ticks": ""
           },
           "baxis": {
            "gridcolor": "white",
            "linecolor": "white",
            "ticks": ""
           },
           "bgcolor": "#E5ECF6",
           "caxis": {
            "gridcolor": "white",
            "linecolor": "white",
            "ticks": ""
           }
          },
          "title": {
           "x": 0.05
          },
          "xaxis": {
           "automargin": true,
           "gridcolor": "white",
           "linecolor": "white",
           "ticks": "",
           "title": {
            "standoff": 15
           },
           "zerolinecolor": "white",
           "zerolinewidth": 2
          },
          "yaxis": {
           "automargin": true,
           "gridcolor": "white",
           "linecolor": "white",
           "ticks": "",
           "title": {
            "standoff": 15
           },
           "zerolinecolor": "white",
           "zerolinewidth": 2
          }
         }
        },
        "title": {
         "text": "Defects"
        },
        "xaxis": {
         "title": {
          "text": "True - False"
         }
        },
        "yaxis": {
         "title": {
          "text": "Frequency"
         }
        }
       }
      },
      "text/html": [
       "<div>                            <div id=\"fadf5e92-0752-428e-b654-b3aac77b4193\" class=\"plotly-graph-div\" style=\"height:525px; width:100%;\"></div>            <script type=\"text/javascript\">                require([\"plotly\"], function(Plotly) {                    window.PLOTLYENV=window.PLOTLYENV || {};                                    if (document.getElementById(\"fadf5e92-0752-428e-b654-b3aac77b4193\")) {                    Plotly.newPlot(                        \"fadf5e92-0752-428e-b654-b3aac77b4193\",                        [{\"marker\":{\"color\":\"green\"},\"name\":\"Defects\",\"opacity\":0.75,\"x\":[false,true,false,false,false,false,false,false,false,false,false,false,false,false,false,false,false,false,false,false,false,false,false,false,false,false,false,false,false,false,false,false,false,false,false,false,false,false,false,false,false,false,false,false,false,false,false,false,false,false,false,false,false,false,false,false,false,false,false,false,false,false,false,false,false,false,false,false,false,false,false,false,false,false,false,false,false,false,false,false,false,false,false,false,false,false,false,false,false,false,false,false,false,false,false,false,false,false,false,false,false,false,false,false,false,false,false,false,false,false,false,false,false,false,false,false,false,false,false,false,false,false,false,false,false,false,false,false,false,false,false,false,false,false,false,false,false,false,false,false,false,false,false,false,false,false,false,false,false,false,false,false,false,false,false,false,false,false,false,false,false,false,false,false,false,false,false,false,false,false,false,false,false,false,false,false,false,false,false,false,false,false,false,false,false,false,false,false,false,false,false,false,false,false,false,false,false,false,false,false,false,false,false,false,false,false,false,false,false,false,false,false,false,false,false,false,false,false,false,false,false,false,false,false,false,false,false,false,false,false,false,false,false,false,false,false,false,false,false,false,false,false,false,false,false,false,false,false,false,false,false,false,false,false,false,false,false,false,false,false,false,false,false,false,false,false,false,false,false,false,false,false,false,false,false,false,false,false,false,false,false,false,false,false,false,false,false,false,false,false,false,false,false,false,false,false,false,false,false,false,false,false,false,false,false,false,false,false,false,false,false,false,false,false,false,false,false,false,false,false,false,false,false,false,false,false,false,false,false,false,false,false,false,false,false,false,false,false,false,false,false,false,false,false,false,false,false,false,false,false,false,false,false,false,false,false,false,false,false,false,false,false,false,false,false,false,false,false,false,false,false,false,false,false,false,false,false,false,false,false,false,false,false,false,false,false,false,false,false,false,false,false,false,false,false,false,false,false,false,false,false,false,false,false,false,false,false,false,false,false,false,false,false,false,false,false,false,false,false,false,false,false,false,false,false,false,false,false,false,false,false,false,false,false,false,false,false,false,false,false,false,false,false,false,false,false,false,false,false,false,true,true,true,true,true,true,true,true,true,true,true,true,true,true,true,true,true,true,true,true,true,true,true,true,true,true,true,true,true,true,true,true,true,true,true,true,true,true,true,true,true,true,true,true,true,true,true,true],\"type\":\"histogram\"}],                        {\"barmode\":\"overlay\",\"template\":{\"data\":{\"barpolar\":[{\"marker\":{\"line\":{\"color\":\"#E5ECF6\",\"width\":0.5},\"pattern\":{\"fillmode\":\"overlay\",\"size\":10,\"solidity\":0.2}},\"type\":\"barpolar\"}],\"bar\":[{\"error_x\":{\"color\":\"#2a3f5f\"},\"error_y\":{\"color\":\"#2a3f5f\"},\"marker\":{\"line\":{\"color\":\"#E5ECF6\",\"width\":0.5},\"pattern\":{\"fillmode\":\"overlay\",\"size\":10,\"solidity\":0.2}},\"type\":\"bar\"}],\"carpet\":[{\"aaxis\":{\"endlinecolor\":\"#2a3f5f\",\"gridcolor\":\"white\",\"linecolor\":\"white\",\"minorgridcolor\":\"white\",\"startlinecolor\":\"#2a3f5f\"},\"baxis\":{\"endlinecolor\":\"#2a3f5f\",\"gridcolor\":\"white\",\"linecolor\":\"white\",\"minorgridcolor\":\"white\",\"startlinecolor\":\"#2a3f5f\"},\"type\":\"carpet\"}],\"choropleth\":[{\"colorbar\":{\"outlinewidth\":0,\"ticks\":\"\"},\"type\":\"choropleth\"}],\"contourcarpet\":[{\"colorbar\":{\"outlinewidth\":0,\"ticks\":\"\"},\"type\":\"contourcarpet\"}],\"contour\":[{\"colorbar\":{\"outlinewidth\":0,\"ticks\":\"\"},\"colorscale\":[[0.0,\"#0d0887\"],[0.1111111111111111,\"#46039f\"],[0.2222222222222222,\"#7201a8\"],[0.3333333333333333,\"#9c179e\"],[0.4444444444444444,\"#bd3786\"],[0.5555555555555556,\"#d8576b\"],[0.6666666666666666,\"#ed7953\"],[0.7777777777777778,\"#fb9f3a\"],[0.8888888888888888,\"#fdca26\"],[1.0,\"#f0f921\"]],\"type\":\"contour\"}],\"heatmapgl\":[{\"colorbar\":{\"outlinewidth\":0,\"ticks\":\"\"},\"colorscale\":[[0.0,\"#0d0887\"],[0.1111111111111111,\"#46039f\"],[0.2222222222222222,\"#7201a8\"],[0.3333333333333333,\"#9c179e\"],[0.4444444444444444,\"#bd3786\"],[0.5555555555555556,\"#d8576b\"],[0.6666666666666666,\"#ed7953\"],[0.7777777777777778,\"#fb9f3a\"],[0.8888888888888888,\"#fdca26\"],[1.0,\"#f0f921\"]],\"type\":\"heatmapgl\"}],\"heatmap\":[{\"colorbar\":{\"outlinewidth\":0,\"ticks\":\"\"},\"colorscale\":[[0.0,\"#0d0887\"],[0.1111111111111111,\"#46039f\"],[0.2222222222222222,\"#7201a8\"],[0.3333333333333333,\"#9c179e\"],[0.4444444444444444,\"#bd3786\"],[0.5555555555555556,\"#d8576b\"],[0.6666666666666666,\"#ed7953\"],[0.7777777777777778,\"#fb9f3a\"],[0.8888888888888888,\"#fdca26\"],[1.0,\"#f0f921\"]],\"type\":\"heatmap\"}],\"histogram2dcontour\":[{\"colorbar\":{\"outlinewidth\":0,\"ticks\":\"\"},\"colorscale\":[[0.0,\"#0d0887\"],[0.1111111111111111,\"#46039f\"],[0.2222222222222222,\"#7201a8\"],[0.3333333333333333,\"#9c179e\"],[0.4444444444444444,\"#bd3786\"],[0.5555555555555556,\"#d8576b\"],[0.6666666666666666,\"#ed7953\"],[0.7777777777777778,\"#fb9f3a\"],[0.8888888888888888,\"#fdca26\"],[1.0,\"#f0f921\"]],\"type\":\"histogram2dcontour\"}],\"histogram2d\":[{\"colorbar\":{\"outlinewidth\":0,\"ticks\":\"\"},\"colorscale\":[[0.0,\"#0d0887\"],[0.1111111111111111,\"#46039f\"],[0.2222222222222222,\"#7201a8\"],[0.3333333333333333,\"#9c179e\"],[0.4444444444444444,\"#bd3786\"],[0.5555555555555556,\"#d8576b\"],[0.6666666666666666,\"#ed7953\"],[0.7777777777777778,\"#fb9f3a\"],[0.8888888888888888,\"#fdca26\"],[1.0,\"#f0f921\"]],\"type\":\"histogram2d\"}],\"histogram\":[{\"marker\":{\"pattern\":{\"fillmode\":\"overlay\",\"size\":10,\"solidity\":0.2}},\"type\":\"histogram\"}],\"mesh3d\":[{\"colorbar\":{\"outlinewidth\":0,\"ticks\":\"\"},\"type\":\"mesh3d\"}],\"parcoords\":[{\"line\":{\"colorbar\":{\"outlinewidth\":0,\"ticks\":\"\"}},\"type\":\"parcoords\"}],\"pie\":[{\"automargin\":true,\"type\":\"pie\"}],\"scatter3d\":[{\"line\":{\"colorbar\":{\"outlinewidth\":0,\"ticks\":\"\"}},\"marker\":{\"colorbar\":{\"outlinewidth\":0,\"ticks\":\"\"}},\"type\":\"scatter3d\"}],\"scattercarpet\":[{\"marker\":{\"colorbar\":{\"outlinewidth\":0,\"ticks\":\"\"}},\"type\":\"scattercarpet\"}],\"scattergeo\":[{\"marker\":{\"colorbar\":{\"outlinewidth\":0,\"ticks\":\"\"}},\"type\":\"scattergeo\"}],\"scattergl\":[{\"marker\":{\"colorbar\":{\"outlinewidth\":0,\"ticks\":\"\"}},\"type\":\"scattergl\"}],\"scattermapbox\":[{\"marker\":{\"colorbar\":{\"outlinewidth\":0,\"ticks\":\"\"}},\"type\":\"scattermapbox\"}],\"scatterpolargl\":[{\"marker\":{\"colorbar\":{\"outlinewidth\":0,\"ticks\":\"\"}},\"type\":\"scatterpolargl\"}],\"scatterpolar\":[{\"marker\":{\"colorbar\":{\"outlinewidth\":0,\"ticks\":\"\"}},\"type\":\"scatterpolar\"}],\"scatter\":[{\"fillpattern\":{\"fillmode\":\"overlay\",\"size\":10,\"solidity\":0.2},\"type\":\"scatter\"}],\"scatterternary\":[{\"marker\":{\"colorbar\":{\"outlinewidth\":0,\"ticks\":\"\"}},\"type\":\"scatterternary\"}],\"surface\":[{\"colorbar\":{\"outlinewidth\":0,\"ticks\":\"\"},\"colorscale\":[[0.0,\"#0d0887\"],[0.1111111111111111,\"#46039f\"],[0.2222222222222222,\"#7201a8\"],[0.3333333333333333,\"#9c179e\"],[0.4444444444444444,\"#bd3786\"],[0.5555555555555556,\"#d8576b\"],[0.6666666666666666,\"#ed7953\"],[0.7777777777777778,\"#fb9f3a\"],[0.8888888888888888,\"#fdca26\"],[1.0,\"#f0f921\"]],\"type\":\"surface\"}],\"table\":[{\"cells\":{\"fill\":{\"color\":\"#EBF0F8\"},\"line\":{\"color\":\"white\"}},\"header\":{\"fill\":{\"color\":\"#C8D4E3\"},\"line\":{\"color\":\"white\"}},\"type\":\"table\"}]},\"layout\":{\"annotationdefaults\":{\"arrowcolor\":\"#2a3f5f\",\"arrowhead\":0,\"arrowwidth\":1},\"autotypenumbers\":\"strict\",\"coloraxis\":{\"colorbar\":{\"outlinewidth\":0,\"ticks\":\"\"}},\"colorscale\":{\"diverging\":[[0,\"#8e0152\"],[0.1,\"#c51b7d\"],[0.2,\"#de77ae\"],[0.3,\"#f1b6da\"],[0.4,\"#fde0ef\"],[0.5,\"#f7f7f7\"],[0.6,\"#e6f5d0\"],[0.7,\"#b8e186\"],[0.8,\"#7fbc41\"],[0.9,\"#4d9221\"],[1,\"#276419\"]],\"sequential\":[[0.0,\"#0d0887\"],[0.1111111111111111,\"#46039f\"],[0.2222222222222222,\"#7201a8\"],[0.3333333333333333,\"#9c179e\"],[0.4444444444444444,\"#bd3786\"],[0.5555555555555556,\"#d8576b\"],[0.6666666666666666,\"#ed7953\"],[0.7777777777777778,\"#fb9f3a\"],[0.8888888888888888,\"#fdca26\"],[1.0,\"#f0f921\"]],\"sequentialminus\":[[0.0,\"#0d0887\"],[0.1111111111111111,\"#46039f\"],[0.2222222222222222,\"#7201a8\"],[0.3333333333333333,\"#9c179e\"],[0.4444444444444444,\"#bd3786\"],[0.5555555555555556,\"#d8576b\"],[0.6666666666666666,\"#ed7953\"],[0.7777777777777778,\"#fb9f3a\"],[0.8888888888888888,\"#fdca26\"],[1.0,\"#f0f921\"]]},\"colorway\":[\"#636efa\",\"#EF553B\",\"#00cc96\",\"#ab63fa\",\"#FFA15A\",\"#19d3f3\",\"#FF6692\",\"#B6E880\",\"#FF97FF\",\"#FECB52\"],\"font\":{\"color\":\"#2a3f5f\"},\"geo\":{\"bgcolor\":\"white\",\"lakecolor\":\"white\",\"landcolor\":\"#E5ECF6\",\"showlakes\":true,\"showland\":true,\"subunitcolor\":\"white\"},\"hoverlabel\":{\"align\":\"left\"},\"hovermode\":\"closest\",\"mapbox\":{\"style\":\"light\"},\"paper_bgcolor\":\"white\",\"plot_bgcolor\":\"#E5ECF6\",\"polar\":{\"angularaxis\":{\"gridcolor\":\"white\",\"linecolor\":\"white\",\"ticks\":\"\"},\"bgcolor\":\"#E5ECF6\",\"radialaxis\":{\"gridcolor\":\"white\",\"linecolor\":\"white\",\"ticks\":\"\"}},\"scene\":{\"xaxis\":{\"backgroundcolor\":\"#E5ECF6\",\"gridcolor\":\"white\",\"gridwidth\":2,\"linecolor\":\"white\",\"showbackground\":true,\"ticks\":\"\",\"zerolinecolor\":\"white\"},\"yaxis\":{\"backgroundcolor\":\"#E5ECF6\",\"gridcolor\":\"white\",\"gridwidth\":2,\"linecolor\":\"white\",\"showbackground\":true,\"ticks\":\"\",\"zerolinecolor\":\"white\"},\"zaxis\":{\"backgroundcolor\":\"#E5ECF6\",\"gridcolor\":\"white\",\"gridwidth\":2,\"linecolor\":\"white\",\"showbackground\":true,\"ticks\":\"\",\"zerolinecolor\":\"white\"}},\"shapedefaults\":{\"line\":{\"color\":\"#2a3f5f\"}},\"ternary\":{\"aaxis\":{\"gridcolor\":\"white\",\"linecolor\":\"white\",\"ticks\":\"\"},\"baxis\":{\"gridcolor\":\"white\",\"linecolor\":\"white\",\"ticks\":\"\"},\"bgcolor\":\"#E5ECF6\",\"caxis\":{\"gridcolor\":\"white\",\"linecolor\":\"white\",\"ticks\":\"\"}},\"title\":{\"x\":0.05},\"xaxis\":{\"automargin\":true,\"gridcolor\":\"white\",\"linecolor\":\"white\",\"ticks\":\"\",\"title\":{\"standoff\":15},\"zerolinecolor\":\"white\",\"zerolinewidth\":2},\"yaxis\":{\"automargin\":true,\"gridcolor\":\"white\",\"linecolor\":\"white\",\"ticks\":\"\",\"title\":{\"standoff\":15},\"zerolinecolor\":\"white\",\"zerolinewidth\":2}}},\"title\":{\"text\":\"Defects\"},\"xaxis\":{\"title\":{\"text\":\"True - False\"}},\"yaxis\":{\"title\":{\"text\":\"Frequency\"}}},                        {\"responsive\": true}                    ).then(function(){\n",
       "                            \n",
       "var gd = document.getElementById('fadf5e92-0752-428e-b654-b3aac77b4193');\n",
       "var x = new MutationObserver(function (mutations, observer) {{\n",
       "        var display = window.getComputedStyle(gd).display;\n",
       "        if (!display || display === 'none') {{\n",
       "            console.log([gd, 'removed!']);\n",
       "            Plotly.purge(gd);\n",
       "            observer.disconnect();\n",
       "        }}\n",
       "}});\n",
       "\n",
       "// Listen for the removal of the full notebook cells\n",
       "var notebookContainer = gd.closest('#notebook-container');\n",
       "if (notebookContainer) {{\n",
       "    x.observe(notebookContainer, {childList: true});\n",
       "}}\n",
       "\n",
       "// Listen for the clearing of the current output cell\n",
       "var outputEl = gd.closest('.output');\n",
       "if (outputEl) {{\n",
       "    x.observe(outputEl, {childList: true});\n",
       "}}\n",
       "\n",
       "                        })                };                });            </script>        </div>"
      ]
     },
     "metadata": {},
     "output_type": "display_data"
    }
   ],
   "source": [
    "trace = go.Histogram(\n",
    "    x = data.defects,\n",
    "    opacity = 0.75,\n",
    "    name = \"Defects\",\n",
    "    marker = dict(color = 'green'))\n",
    "\n",
    "hist_data = [trace]\n",
    "hist_layout = go.Layout(barmode='overlay',\n",
    "                   title = 'Defects',\n",
    "                   xaxis = dict(title = 'True - False'),\n",
    "                   yaxis = dict(title = 'Frequency'),\n",
    ")\n",
    "fig = go.Figure(data = hist_data, layout = hist_layout)\n",
    "iplot(fig)"
   ]
  },
  {
   "cell_type": "code",
   "execution_count": 5,
   "metadata": {},
   "outputs": [
    {
     "data": {
      "text/html": [
       "<div>\n",
       "<style scoped>\n",
       "    .dataframe tbody tr th:only-of-type {\n",
       "        vertical-align: middle;\n",
       "    }\n",
       "\n",
       "    .dataframe tbody tr th {\n",
       "        vertical-align: top;\n",
       "    }\n",
       "\n",
       "    .dataframe thead th {\n",
       "        text-align: right;\n",
       "    }\n",
       "</style>\n",
       "<table border=\"1\" class=\"dataframe\">\n",
       "  <thead>\n",
       "    <tr style=\"text-align: right;\">\n",
       "      <th></th>\n",
       "      <th>loc</th>\n",
       "      <th>v(g)</th>\n",
       "      <th>ev(g)</th>\n",
       "      <th>iv(g)</th>\n",
       "      <th>n</th>\n",
       "      <th>v</th>\n",
       "      <th>l</th>\n",
       "      <th>d</th>\n",
       "      <th>i</th>\n",
       "      <th>e</th>\n",
       "      <th>...</th>\n",
       "      <th>lOCode</th>\n",
       "      <th>lOComment</th>\n",
       "      <th>lOBlank</th>\n",
       "      <th>locCodeAndComment</th>\n",
       "      <th>uniq_Op</th>\n",
       "      <th>uniq_Opnd</th>\n",
       "      <th>total_Op</th>\n",
       "      <th>total_Opnd</th>\n",
       "      <th>branchCount</th>\n",
       "      <th>defects</th>\n",
       "    </tr>\n",
       "  </thead>\n",
       "  <tbody>\n",
       "    <tr>\n",
       "      <th>loc</th>\n",
       "      <td>1.000000</td>\n",
       "      <td>0.942908</td>\n",
       "      <td>0.773607</td>\n",
       "      <td>0.919270</td>\n",
       "      <td>0.940466</td>\n",
       "      <td>0.952699</td>\n",
       "      <td>-0.357998</td>\n",
       "      <td>0.728502</td>\n",
       "      <td>0.797565</td>\n",
       "      <td>0.814611</td>\n",
       "      <td>...</td>\n",
       "      <td>0.679721</td>\n",
       "      <td>0.862704</td>\n",
       "      <td>0.679942</td>\n",
       "      <td>-0.040300</td>\n",
       "      <td>0.803036</td>\n",
       "      <td>0.943241</td>\n",
       "      <td>0.941778</td>\n",
       "      <td>0.929347</td>\n",
       "      <td>0.940823</td>\n",
       "      <td>0.246467</td>\n",
       "    </tr>\n",
       "    <tr>\n",
       "      <th>v(g)</th>\n",
       "      <td>0.942908</td>\n",
       "      <td>1.000000</td>\n",
       "      <td>0.806544</td>\n",
       "      <td>0.929741</td>\n",
       "      <td>0.907581</td>\n",
       "      <td>0.919714</td>\n",
       "      <td>-0.342571</td>\n",
       "      <td>0.773446</td>\n",
       "      <td>0.668793</td>\n",
       "      <td>0.856458</td>\n",
       "      <td>...</td>\n",
       "      <td>0.733292</td>\n",
       "      <td>0.795747</td>\n",
       "      <td>0.666712</td>\n",
       "      <td>-0.029726</td>\n",
       "      <td>0.801255</td>\n",
       "      <td>0.860150</td>\n",
       "      <td>0.910242</td>\n",
       "      <td>0.894691</td>\n",
       "      <td>0.991826</td>\n",
       "      <td>0.166761</td>\n",
       "    </tr>\n",
       "    <tr>\n",
       "      <th>ev(g)</th>\n",
       "      <td>0.773607</td>\n",
       "      <td>0.806544</td>\n",
       "      <td>1.000000</td>\n",
       "      <td>0.714994</td>\n",
       "      <td>0.770008</td>\n",
       "      <td>0.773645</td>\n",
       "      <td>-0.280011</td>\n",
       "      <td>0.675765</td>\n",
       "      <td>0.554699</td>\n",
       "      <td>0.685490</td>\n",
       "      <td>...</td>\n",
       "      <td>0.605862</td>\n",
       "      <td>0.682972</td>\n",
       "      <td>0.568783</td>\n",
       "      <td>-0.020170</td>\n",
       "      <td>0.649567</td>\n",
       "      <td>0.710749</td>\n",
       "      <td>0.775750</td>\n",
       "      <td>0.753672</td>\n",
       "      <td>0.829226</td>\n",
       "      <td>0.105047</td>\n",
       "    </tr>\n",
       "    <tr>\n",
       "      <th>iv(g)</th>\n",
       "      <td>0.919270</td>\n",
       "      <td>0.929741</td>\n",
       "      <td>0.714994</td>\n",
       "      <td>1.000000</td>\n",
       "      <td>0.870063</td>\n",
       "      <td>0.889894</td>\n",
       "      <td>-0.300078</td>\n",
       "      <td>0.679901</td>\n",
       "      <td>0.696397</td>\n",
       "      <td>0.826191</td>\n",
       "      <td>...</td>\n",
       "      <td>0.674501</td>\n",
       "      <td>0.739883</td>\n",
       "      <td>0.647548</td>\n",
       "      <td>-0.024960</td>\n",
       "      <td>0.755188</td>\n",
       "      <td>0.857157</td>\n",
       "      <td>0.873645</td>\n",
       "      <td>0.856111</td>\n",
       "      <td>0.911202</td>\n",
       "      <td>0.202645</td>\n",
       "    </tr>\n",
       "    <tr>\n",
       "      <th>n</th>\n",
       "      <td>0.940466</td>\n",
       "      <td>0.907581</td>\n",
       "      <td>0.770008</td>\n",
       "      <td>0.870063</td>\n",
       "      <td>1.000000</td>\n",
       "      <td>0.993306</td>\n",
       "      <td>-0.397294</td>\n",
       "      <td>0.841433</td>\n",
       "      <td>0.810141</td>\n",
       "      <td>0.844168</td>\n",
       "      <td>...</td>\n",
       "      <td>0.727183</td>\n",
       "      <td>0.794619</td>\n",
       "      <td>0.731518</td>\n",
       "      <td>-0.038936</td>\n",
       "      <td>0.837047</td>\n",
       "      <td>0.947383</td>\n",
       "      <td>0.997563</td>\n",
       "      <td>0.994124</td>\n",
       "      <td>0.912958</td>\n",
       "      <td>0.214049</td>\n",
       "    </tr>\n",
       "    <tr>\n",
       "      <th>v</th>\n",
       "      <td>0.952699</td>\n",
       "      <td>0.919714</td>\n",
       "      <td>0.773645</td>\n",
       "      <td>0.889894</td>\n",
       "      <td>0.993306</td>\n",
       "      <td>1.000000</td>\n",
       "      <td>-0.346625</td>\n",
       "      <td>0.797672</td>\n",
       "      <td>0.792191</td>\n",
       "      <td>0.876855</td>\n",
       "      <td>...</td>\n",
       "      <td>0.731986</td>\n",
       "      <td>0.813944</td>\n",
       "      <td>0.721394</td>\n",
       "      <td>-0.032055</td>\n",
       "      <td>0.808148</td>\n",
       "      <td>0.948709</td>\n",
       "      <td>0.990824</td>\n",
       "      <td>0.987568</td>\n",
       "      <td>0.920633</td>\n",
       "      <td>0.206623</td>\n",
       "    </tr>\n",
       "    <tr>\n",
       "      <th>l</th>\n",
       "      <td>-0.357998</td>\n",
       "      <td>-0.342571</td>\n",
       "      <td>-0.280011</td>\n",
       "      <td>-0.300078</td>\n",
       "      <td>-0.397294</td>\n",
       "      <td>-0.346625</td>\n",
       "      <td>1.000000</td>\n",
       "      <td>-0.540916</td>\n",
       "      <td>-0.404108</td>\n",
       "      <td>-0.196933</td>\n",
       "      <td>...</td>\n",
       "      <td>-0.266412</td>\n",
       "      <td>-0.289062</td>\n",
       "      <td>-0.331775</td>\n",
       "      <td>0.398689</td>\n",
       "      <td>-0.629990</td>\n",
       "      <td>-0.402986</td>\n",
       "      <td>-0.397856</td>\n",
       "      <td>-0.392290</td>\n",
       "      <td>-0.358672</td>\n",
       "      <td>-0.132567</td>\n",
       "    </tr>\n",
       "    <tr>\n",
       "      <th>d</th>\n",
       "      <td>0.728502</td>\n",
       "      <td>0.773446</td>\n",
       "      <td>0.675765</td>\n",
       "      <td>0.679901</td>\n",
       "      <td>0.841433</td>\n",
       "      <td>0.797672</td>\n",
       "      <td>-0.540916</td>\n",
       "      <td>1.000000</td>\n",
       "      <td>0.514898</td>\n",
       "      <td>0.717773</td>\n",
       "      <td>...</td>\n",
       "      <td>0.614364</td>\n",
       "      <td>0.614590</td>\n",
       "      <td>0.642382</td>\n",
       "      <td>-0.057531</td>\n",
       "      <td>0.884115</td>\n",
       "      <td>0.697731</td>\n",
       "      <td>0.840947</td>\n",
       "      <td>0.834040</td>\n",
       "      <td>0.773032</td>\n",
       "      <td>0.168173</td>\n",
       "    </tr>\n",
       "    <tr>\n",
       "      <th>i</th>\n",
       "      <td>0.797565</td>\n",
       "      <td>0.668793</td>\n",
       "      <td>0.554699</td>\n",
       "      <td>0.696397</td>\n",
       "      <td>0.810141</td>\n",
       "      <td>0.792191</td>\n",
       "      <td>-0.404108</td>\n",
       "      <td>0.514898</td>\n",
       "      <td>1.000000</td>\n",
       "      <td>0.468739</td>\n",
       "      <td>...</td>\n",
       "      <td>0.511707</td>\n",
       "      <td>0.645486</td>\n",
       "      <td>0.580700</td>\n",
       "      <td>-0.060712</td>\n",
       "      <td>0.649853</td>\n",
       "      <td>0.914101</td>\n",
       "      <td>0.809787</td>\n",
       "      <td>0.802842</td>\n",
       "      <td>0.699037</td>\n",
       "      <td>0.267764</td>\n",
       "    </tr>\n",
       "    <tr>\n",
       "      <th>e</th>\n",
       "      <td>0.814611</td>\n",
       "      <td>0.856458</td>\n",
       "      <td>0.685490</td>\n",
       "      <td>0.826191</td>\n",
       "      <td>0.844168</td>\n",
       "      <td>0.876855</td>\n",
       "      <td>-0.196933</td>\n",
       "      <td>0.717773</td>\n",
       "      <td>0.468739</td>\n",
       "      <td>1.000000</td>\n",
       "      <td>...</td>\n",
       "      <td>0.664990</td>\n",
       "      <td>0.683293</td>\n",
       "      <td>0.591581</td>\n",
       "      <td>-0.015676</td>\n",
       "      <td>0.656657</td>\n",
       "      <td>0.715288</td>\n",
       "      <td>0.842162</td>\n",
       "      <td>0.839142</td>\n",
       "      <td>0.825467</td>\n",
       "      <td>0.097784</td>\n",
       "    </tr>\n",
       "    <tr>\n",
       "      <th>b</th>\n",
       "      <td>0.943339</td>\n",
       "      <td>0.912008</td>\n",
       "      <td>0.767676</td>\n",
       "      <td>0.882737</td>\n",
       "      <td>0.983928</td>\n",
       "      <td>0.991551</td>\n",
       "      <td>-0.292865</td>\n",
       "      <td>0.786756</td>\n",
       "      <td>0.780379</td>\n",
       "      <td>0.871322</td>\n",
       "      <td>...</td>\n",
       "      <td>0.726786</td>\n",
       "      <td>0.807475</td>\n",
       "      <td>0.714450</td>\n",
       "      <td>0.095367</td>\n",
       "      <td>0.792996</td>\n",
       "      <td>0.938821</td>\n",
       "      <td>0.981453</td>\n",
       "      <td>0.978368</td>\n",
       "      <td>0.912537</td>\n",
       "      <td>0.215214</td>\n",
       "    </tr>\n",
       "    <tr>\n",
       "      <th>t</th>\n",
       "      <td>0.814611</td>\n",
       "      <td>0.856457</td>\n",
       "      <td>0.685490</td>\n",
       "      <td>0.826190</td>\n",
       "      <td>0.844168</td>\n",
       "      <td>0.876855</td>\n",
       "      <td>-0.196929</td>\n",
       "      <td>0.717773</td>\n",
       "      <td>0.468739</td>\n",
       "      <td>1.000000</td>\n",
       "      <td>...</td>\n",
       "      <td>0.664990</td>\n",
       "      <td>0.683293</td>\n",
       "      <td>0.591581</td>\n",
       "      <td>-0.015667</td>\n",
       "      <td>0.656657</td>\n",
       "      <td>0.715288</td>\n",
       "      <td>0.842161</td>\n",
       "      <td>0.839142</td>\n",
       "      <td>0.825467</td>\n",
       "      <td>0.097785</td>\n",
       "    </tr>\n",
       "    <tr>\n",
       "      <th>lOCode</th>\n",
       "      <td>0.679721</td>\n",
       "      <td>0.733292</td>\n",
       "      <td>0.605862</td>\n",
       "      <td>0.674501</td>\n",
       "      <td>0.727183</td>\n",
       "      <td>0.731986</td>\n",
       "      <td>-0.266412</td>\n",
       "      <td>0.614364</td>\n",
       "      <td>0.511707</td>\n",
       "      <td>0.664990</td>\n",
       "      <td>...</td>\n",
       "      <td>1.000000</td>\n",
       "      <td>0.549449</td>\n",
       "      <td>0.693612</td>\n",
       "      <td>-0.015025</td>\n",
       "      <td>0.632740</td>\n",
       "      <td>0.678222</td>\n",
       "      <td>0.718539</td>\n",
       "      <td>0.733581</td>\n",
       "      <td>0.737888</td>\n",
       "      <td>0.063000</td>\n",
       "    </tr>\n",
       "    <tr>\n",
       "      <th>lOComment</th>\n",
       "      <td>0.862704</td>\n",
       "      <td>0.795747</td>\n",
       "      <td>0.682972</td>\n",
       "      <td>0.739883</td>\n",
       "      <td>0.794619</td>\n",
       "      <td>0.813944</td>\n",
       "      <td>-0.289062</td>\n",
       "      <td>0.614590</td>\n",
       "      <td>0.645486</td>\n",
       "      <td>0.683293</td>\n",
       "      <td>...</td>\n",
       "      <td>0.549449</td>\n",
       "      <td>1.000000</td>\n",
       "      <td>0.609803</td>\n",
       "      <td>-0.024781</td>\n",
       "      <td>0.689660</td>\n",
       "      <td>0.816564</td>\n",
       "      <td>0.795034</td>\n",
       "      <td>0.786305</td>\n",
       "      <td>0.802225</td>\n",
       "      <td>0.301556</td>\n",
       "    </tr>\n",
       "    <tr>\n",
       "      <th>lOBlank</th>\n",
       "      <td>0.679942</td>\n",
       "      <td>0.666712</td>\n",
       "      <td>0.568783</td>\n",
       "      <td>0.647548</td>\n",
       "      <td>0.731518</td>\n",
       "      <td>0.721394</td>\n",
       "      <td>-0.331775</td>\n",
       "      <td>0.642382</td>\n",
       "      <td>0.580700</td>\n",
       "      <td>0.591581</td>\n",
       "      <td>...</td>\n",
       "      <td>0.693612</td>\n",
       "      <td>0.609803</td>\n",
       "      <td>1.000000</td>\n",
       "      <td>-0.029773</td>\n",
       "      <td>0.686980</td>\n",
       "      <td>0.704932</td>\n",
       "      <td>0.726415</td>\n",
       "      <td>0.732367</td>\n",
       "      <td>0.665335</td>\n",
       "      <td>0.173542</td>\n",
       "    </tr>\n",
       "    <tr>\n",
       "      <th>locCodeAndComment</th>\n",
       "      <td>-0.040300</td>\n",
       "      <td>-0.029726</td>\n",
       "      <td>-0.020170</td>\n",
       "      <td>-0.024960</td>\n",
       "      <td>-0.038936</td>\n",
       "      <td>-0.032055</td>\n",
       "      <td>0.398689</td>\n",
       "      <td>-0.057531</td>\n",
       "      <td>-0.060712</td>\n",
       "      <td>-0.015676</td>\n",
       "      <td>...</td>\n",
       "      <td>-0.015025</td>\n",
       "      <td>-0.024781</td>\n",
       "      <td>-0.029773</td>\n",
       "      <td>1.000000</td>\n",
       "      <td>-0.088173</td>\n",
       "      <td>-0.043217</td>\n",
       "      <td>-0.038992</td>\n",
       "      <td>-0.037738</td>\n",
       "      <td>-0.032327</td>\n",
       "      <td>0.047509</td>\n",
       "    </tr>\n",
       "    <tr>\n",
       "      <th>uniq_Op</th>\n",
       "      <td>0.803036</td>\n",
       "      <td>0.801255</td>\n",
       "      <td>0.649567</td>\n",
       "      <td>0.755188</td>\n",
       "      <td>0.837047</td>\n",
       "      <td>0.808148</td>\n",
       "      <td>-0.629990</td>\n",
       "      <td>0.884115</td>\n",
       "      <td>0.649853</td>\n",
       "      <td>0.656657</td>\n",
       "      <td>...</td>\n",
       "      <td>0.632740</td>\n",
       "      <td>0.689660</td>\n",
       "      <td>0.686980</td>\n",
       "      <td>-0.088173</td>\n",
       "      <td>1.000000</td>\n",
       "      <td>0.812307</td>\n",
       "      <td>0.842038</td>\n",
       "      <td>0.821177</td>\n",
       "      <td>0.799938</td>\n",
       "      <td>0.249264</td>\n",
       "    </tr>\n",
       "    <tr>\n",
       "      <th>uniq_Opnd</th>\n",
       "      <td>0.943241</td>\n",
       "      <td>0.860150</td>\n",
       "      <td>0.710749</td>\n",
       "      <td>0.857157</td>\n",
       "      <td>0.947383</td>\n",
       "      <td>0.948709</td>\n",
       "      <td>-0.402986</td>\n",
       "      <td>0.697731</td>\n",
       "      <td>0.914101</td>\n",
       "      <td>0.715288</td>\n",
       "      <td>...</td>\n",
       "      <td>0.678222</td>\n",
       "      <td>0.816564</td>\n",
       "      <td>0.704932</td>\n",
       "      <td>-0.043217</td>\n",
       "      <td>0.812307</td>\n",
       "      <td>1.000000</td>\n",
       "      <td>0.943385</td>\n",
       "      <td>0.944432</td>\n",
       "      <td>0.874637</td>\n",
       "      <td>0.261552</td>\n",
       "    </tr>\n",
       "    <tr>\n",
       "      <th>total_Op</th>\n",
       "      <td>0.941778</td>\n",
       "      <td>0.910242</td>\n",
       "      <td>0.775750</td>\n",
       "      <td>0.873645</td>\n",
       "      <td>0.997563</td>\n",
       "      <td>0.990824</td>\n",
       "      <td>-0.397856</td>\n",
       "      <td>0.840947</td>\n",
       "      <td>0.809787</td>\n",
       "      <td>0.842162</td>\n",
       "      <td>...</td>\n",
       "      <td>0.718539</td>\n",
       "      <td>0.795034</td>\n",
       "      <td>0.726415</td>\n",
       "      <td>-0.038992</td>\n",
       "      <td>0.842038</td>\n",
       "      <td>0.943385</td>\n",
       "      <td>1.000000</td>\n",
       "      <td>0.984148</td>\n",
       "      <td>0.914498</td>\n",
       "      <td>0.214082</td>\n",
       "    </tr>\n",
       "    <tr>\n",
       "      <th>total_Opnd</th>\n",
       "      <td>0.929347</td>\n",
       "      <td>0.894691</td>\n",
       "      <td>0.753672</td>\n",
       "      <td>0.856111</td>\n",
       "      <td>0.994124</td>\n",
       "      <td>0.987568</td>\n",
       "      <td>-0.392290</td>\n",
       "      <td>0.834040</td>\n",
       "      <td>0.802842</td>\n",
       "      <td>0.839142</td>\n",
       "      <td>...</td>\n",
       "      <td>0.733581</td>\n",
       "      <td>0.786305</td>\n",
       "      <td>0.732367</td>\n",
       "      <td>-0.037738</td>\n",
       "      <td>0.821177</td>\n",
       "      <td>0.944432</td>\n",
       "      <td>0.984148</td>\n",
       "      <td>1.000000</td>\n",
       "      <td>0.901754</td>\n",
       "      <td>0.211999</td>\n",
       "    </tr>\n",
       "    <tr>\n",
       "      <th>branchCount</th>\n",
       "      <td>0.940823</td>\n",
       "      <td>0.991826</td>\n",
       "      <td>0.829226</td>\n",
       "      <td>0.911202</td>\n",
       "      <td>0.912958</td>\n",
       "      <td>0.920633</td>\n",
       "      <td>-0.358672</td>\n",
       "      <td>0.773032</td>\n",
       "      <td>0.699037</td>\n",
       "      <td>0.825467</td>\n",
       "      <td>...</td>\n",
       "      <td>0.737888</td>\n",
       "      <td>0.802225</td>\n",
       "      <td>0.665335</td>\n",
       "      <td>-0.032327</td>\n",
       "      <td>0.799938</td>\n",
       "      <td>0.874637</td>\n",
       "      <td>0.914498</td>\n",
       "      <td>0.901754</td>\n",
       "      <td>1.000000</td>\n",
       "      <td>0.169671</td>\n",
       "    </tr>\n",
       "    <tr>\n",
       "      <th>defects</th>\n",
       "      <td>0.246467</td>\n",
       "      <td>0.166761</td>\n",
       "      <td>0.105047</td>\n",
       "      <td>0.202645</td>\n",
       "      <td>0.214049</td>\n",
       "      <td>0.206623</td>\n",
       "      <td>-0.132567</td>\n",
       "      <td>0.168173</td>\n",
       "      <td>0.267764</td>\n",
       "      <td>0.097784</td>\n",
       "      <td>...</td>\n",
       "      <td>0.063000</td>\n",
       "      <td>0.301556</td>\n",
       "      <td>0.173542</td>\n",
       "      <td>0.047509</td>\n",
       "      <td>0.249264</td>\n",
       "      <td>0.261552</td>\n",
       "      <td>0.214082</td>\n",
       "      <td>0.211999</td>\n",
       "      <td>0.169671</td>\n",
       "      <td>1.000000</td>\n",
       "    </tr>\n",
       "  </tbody>\n",
       "</table>\n",
       "<p>22 rows × 22 columns</p>\n",
       "</div>"
      ],
      "text/plain": [
       "                        loc      v(g)     ev(g)     iv(g)         n         v  \\\n",
       "loc                1.000000  0.942908  0.773607  0.919270  0.940466  0.952699   \n",
       "v(g)               0.942908  1.000000  0.806544  0.929741  0.907581  0.919714   \n",
       "ev(g)              0.773607  0.806544  1.000000  0.714994  0.770008  0.773645   \n",
       "iv(g)              0.919270  0.929741  0.714994  1.000000  0.870063  0.889894   \n",
       "n                  0.940466  0.907581  0.770008  0.870063  1.000000  0.993306   \n",
       "v                  0.952699  0.919714  0.773645  0.889894  0.993306  1.000000   \n",
       "l                 -0.357998 -0.342571 -0.280011 -0.300078 -0.397294 -0.346625   \n",
       "d                  0.728502  0.773446  0.675765  0.679901  0.841433  0.797672   \n",
       "i                  0.797565  0.668793  0.554699  0.696397  0.810141  0.792191   \n",
       "e                  0.814611  0.856458  0.685490  0.826191  0.844168  0.876855   \n",
       "b                  0.943339  0.912008  0.767676  0.882737  0.983928  0.991551   \n",
       "t                  0.814611  0.856457  0.685490  0.826190  0.844168  0.876855   \n",
       "lOCode             0.679721  0.733292  0.605862  0.674501  0.727183  0.731986   \n",
       "lOComment          0.862704  0.795747  0.682972  0.739883  0.794619  0.813944   \n",
       "lOBlank            0.679942  0.666712  0.568783  0.647548  0.731518  0.721394   \n",
       "locCodeAndComment -0.040300 -0.029726 -0.020170 -0.024960 -0.038936 -0.032055   \n",
       "uniq_Op            0.803036  0.801255  0.649567  0.755188  0.837047  0.808148   \n",
       "uniq_Opnd          0.943241  0.860150  0.710749  0.857157  0.947383  0.948709   \n",
       "total_Op           0.941778  0.910242  0.775750  0.873645  0.997563  0.990824   \n",
       "total_Opnd         0.929347  0.894691  0.753672  0.856111  0.994124  0.987568   \n",
       "branchCount        0.940823  0.991826  0.829226  0.911202  0.912958  0.920633   \n",
       "defects            0.246467  0.166761  0.105047  0.202645  0.214049  0.206623   \n",
       "\n",
       "                          l         d         i         e  ...    lOCode  \\\n",
       "loc               -0.357998  0.728502  0.797565  0.814611  ...  0.679721   \n",
       "v(g)              -0.342571  0.773446  0.668793  0.856458  ...  0.733292   \n",
       "ev(g)             -0.280011  0.675765  0.554699  0.685490  ...  0.605862   \n",
       "iv(g)             -0.300078  0.679901  0.696397  0.826191  ...  0.674501   \n",
       "n                 -0.397294  0.841433  0.810141  0.844168  ...  0.727183   \n",
       "v                 -0.346625  0.797672  0.792191  0.876855  ...  0.731986   \n",
       "l                  1.000000 -0.540916 -0.404108 -0.196933  ... -0.266412   \n",
       "d                 -0.540916  1.000000  0.514898  0.717773  ...  0.614364   \n",
       "i                 -0.404108  0.514898  1.000000  0.468739  ...  0.511707   \n",
       "e                 -0.196933  0.717773  0.468739  1.000000  ...  0.664990   \n",
       "b                 -0.292865  0.786756  0.780379  0.871322  ...  0.726786   \n",
       "t                 -0.196929  0.717773  0.468739  1.000000  ...  0.664990   \n",
       "lOCode            -0.266412  0.614364  0.511707  0.664990  ...  1.000000   \n",
       "lOComment         -0.289062  0.614590  0.645486  0.683293  ...  0.549449   \n",
       "lOBlank           -0.331775  0.642382  0.580700  0.591581  ...  0.693612   \n",
       "locCodeAndComment  0.398689 -0.057531 -0.060712 -0.015676  ... -0.015025   \n",
       "uniq_Op           -0.629990  0.884115  0.649853  0.656657  ...  0.632740   \n",
       "uniq_Opnd         -0.402986  0.697731  0.914101  0.715288  ...  0.678222   \n",
       "total_Op          -0.397856  0.840947  0.809787  0.842162  ...  0.718539   \n",
       "total_Opnd        -0.392290  0.834040  0.802842  0.839142  ...  0.733581   \n",
       "branchCount       -0.358672  0.773032  0.699037  0.825467  ...  0.737888   \n",
       "defects           -0.132567  0.168173  0.267764  0.097784  ...  0.063000   \n",
       "\n",
       "                   lOComment   lOBlank  locCodeAndComment   uniq_Op  \\\n",
       "loc                 0.862704  0.679942          -0.040300  0.803036   \n",
       "v(g)                0.795747  0.666712          -0.029726  0.801255   \n",
       "ev(g)               0.682972  0.568783          -0.020170  0.649567   \n",
       "iv(g)               0.739883  0.647548          -0.024960  0.755188   \n",
       "n                   0.794619  0.731518          -0.038936  0.837047   \n",
       "v                   0.813944  0.721394          -0.032055  0.808148   \n",
       "l                  -0.289062 -0.331775           0.398689 -0.629990   \n",
       "d                   0.614590  0.642382          -0.057531  0.884115   \n",
       "i                   0.645486  0.580700          -0.060712  0.649853   \n",
       "e                   0.683293  0.591581          -0.015676  0.656657   \n",
       "b                   0.807475  0.714450           0.095367  0.792996   \n",
       "t                   0.683293  0.591581          -0.015667  0.656657   \n",
       "lOCode              0.549449  0.693612          -0.015025  0.632740   \n",
       "lOComment           1.000000  0.609803          -0.024781  0.689660   \n",
       "lOBlank             0.609803  1.000000          -0.029773  0.686980   \n",
       "locCodeAndComment  -0.024781 -0.029773           1.000000 -0.088173   \n",
       "uniq_Op             0.689660  0.686980          -0.088173  1.000000   \n",
       "uniq_Opnd           0.816564  0.704932          -0.043217  0.812307   \n",
       "total_Op            0.795034  0.726415          -0.038992  0.842038   \n",
       "total_Opnd          0.786305  0.732367          -0.037738  0.821177   \n",
       "branchCount         0.802225  0.665335          -0.032327  0.799938   \n",
       "defects             0.301556  0.173542           0.047509  0.249264   \n",
       "\n",
       "                   uniq_Opnd  total_Op  total_Opnd  branchCount   defects  \n",
       "loc                 0.943241  0.941778    0.929347     0.940823  0.246467  \n",
       "v(g)                0.860150  0.910242    0.894691     0.991826  0.166761  \n",
       "ev(g)               0.710749  0.775750    0.753672     0.829226  0.105047  \n",
       "iv(g)               0.857157  0.873645    0.856111     0.911202  0.202645  \n",
       "n                   0.947383  0.997563    0.994124     0.912958  0.214049  \n",
       "v                   0.948709  0.990824    0.987568     0.920633  0.206623  \n",
       "l                  -0.402986 -0.397856   -0.392290    -0.358672 -0.132567  \n",
       "d                   0.697731  0.840947    0.834040     0.773032  0.168173  \n",
       "i                   0.914101  0.809787    0.802842     0.699037  0.267764  \n",
       "e                   0.715288  0.842162    0.839142     0.825467  0.097784  \n",
       "b                   0.938821  0.981453    0.978368     0.912537  0.215214  \n",
       "t                   0.715288  0.842161    0.839142     0.825467  0.097785  \n",
       "lOCode              0.678222  0.718539    0.733581     0.737888  0.063000  \n",
       "lOComment           0.816564  0.795034    0.786305     0.802225  0.301556  \n",
       "lOBlank             0.704932  0.726415    0.732367     0.665335  0.173542  \n",
       "locCodeAndComment  -0.043217 -0.038992   -0.037738    -0.032327  0.047509  \n",
       "uniq_Op             0.812307  0.842038    0.821177     0.799938  0.249264  \n",
       "uniq_Opnd           1.000000  0.943385    0.944432     0.874637  0.261552  \n",
       "total_Op            0.943385  1.000000    0.984148     0.914498  0.214082  \n",
       "total_Opnd          0.944432  0.984148    1.000000     0.901754  0.211999  \n",
       "branchCount         0.874637  0.914498    0.901754     1.000000  0.169671  \n",
       "defects             0.261552  0.214082    0.211999     0.169671  1.000000  \n",
       "\n",
       "[22 rows x 22 columns]"
      ]
     },
     "execution_count": 5,
     "metadata": {},
     "output_type": "execute_result"
    }
   ],
   "source": [
    "data.corr()"
   ]
  },
  {
   "cell_type": "code",
   "execution_count": 6,
   "metadata": {},
   "outputs": [
    {
     "data": {
      "image/png": "[encoded data removed]",
      "text/plain": [
       "<Figure size 1500x1500 with 2 Axes>"
      ]
     },
     "metadata": {},
     "output_type": "display_data"
    }
   ],
   "source": [
    "f,ax = plt.subplots(figsize = (15, 15))\n",
    "sns.heatmap(data.corr(), annot = True, linewidths = .5, fmt = '.2f')\n",
    "plt.show()"
   ]
  },
  {
   "cell_type": "code",
   "execution_count": 7,
   "metadata": {},
   "outputs": [
    {
     "data": {
      "application/vnd.plotly.v1+json": {
       "config": {
        "linkText": "Export to plot.ly",
        "plotlyServerURL": "https://plot.ly",
        "showLink": false
       },
       "data": [
        {
         "marker": {
          "color": "darkblue"
         },
         "mode": "markers",
         "name": "Volume - Bug",
         "text": "Bug (b)",
         "type": "scatter",
         "x": [
          1.3,
          1,
          309.13,
          215.49,
          346.13,
          346.13,
          34.87,
          94.01,
          548.83,
          1362.41,
          856.15,
          143.06,
          770.38,
          474.97,
          1303.73,
          655.13,
          271.03,
          55.51,
          745.68,
          55.51,
          105.49,
          48.43,
          110.41,
          170.97,
          215.22,
          39,
          19.65,
          370.17,
          3327.01,
          5580.79,
          185.47,
          15345.64,
          1948.67,
          2653,
          351.75,
          540,
          260,
          295,
          686.95,
          684.05,
          381.56,
          707.02,
          625.77,
          1075.51,
          2002.42,
          1653.06,
          181.32,
          428.6,
          30.88,
          1626.95,
          5334.7,
          391.73,
          1284,
          985.76,
          236.84,
          158.12,
          475,
          39.86,
          535.29,
          1047.94,
          809.39,
          310.34,
          310.34,
          97.67,
          57.36,
          569.35,
          459.04,
          1311.63,
          937.19,
          498.55,
          3124.36,
          911.39,
          260.06,
          2164.46,
          125.02,
          358.2,
          142.62,
          174.17,
          192.57,
          521.73,
          604.1,
          28.07,
          494.94,
          27,
          134.89,
          183.48,
          140.65,
          22.46,
          511.82,
          97.67,
          365.32,
          46.51,
          82.45,
          745.68,
          34.87,
          618.27,
          27,
          30,
          33.22,
          285.29,
          289.51,
          293.44,
          5103,
          630.73,
          771.67,
          1299.55,
          252.01,
          252.01,
          1125.09,
          69.74,
          36.54,
          30.88,
          2692.19,
          5664.24,
          551.83,
          312.75,
          282.39,
          298.06,
          5143.61,
          3131.59,
          100.08,
          4697.07,
          110.41,
          372.23,
          452.78,
          851.67,
          3442.98,
          1980.76,
          15.51,
          15.51,
          892.43,
          15.51,
          75.28,
          92.51,
          92.51,
          1472.15,
          852.22,
          19.65,
          288.85,
          5575.99,
          22.46,
          353.11,
          179.72,
          298.21,
          44.97,
          151.24,
          151.24,
          744.63,
          300,
          525,
          43.19,
          185.75,
          1738.63,
          11.61,
          62.27,
          110.41,
          92.51,
          2746.2,
          4677.38,
          15.51,
          15.51,
          1573.33,
          8,
          11.61,
          19.65,
          27,
          73.08,
          396.41,
          221.65,
          919.26,
          360,
          144.95,
          1316.03,
          22.46,
          328.76,
          456.57,
          88.81,
          39,
          284.61,
          39.86,
          116,
          8,
          74.01,
          31.7,
          421.97,
          508.75,
          366.41,
          675,
          2643.35,
          369.21,
          1005.29,
          28.53,
          341.84,
          18.09,
          105.49,
          48.43,
          110.41,
          170.97,
          215.22,
          39,
          19.65,
          1149.16,
          11.61,
          591.46,
          11.61,
          591.46,
          2609.12,
          11.61,
          11.61,
          516.99,
          15.51,
          2490.74,
          734.53,
          503.61,
          666.05,
          801.91,
          121.01,
          759.68,
          206.32,
          206.32,
          11.61,
          266.27,
          526.35,
          809.46,
          34.87,
          1810.2,
          102.19,
          102.19,
          102.19,
          102.19,
          102.19,
          102.19,
          102.19,
          130.8,
          207.45,
          484.48,
          104,
          110.36,
          185.84,
          147.15,
          3428.87,
          5588.41,
          216.1,
          1619.65,
          916.14,
          472.09,
          92,
          51.81,
          53.3,
          162.63,
          143.06,
          474.06,
          167.37,
          3289.76,
          912.7,
          5767.59,
          2220.21,
          76,
          146.95,
          507.8,
          707.82,
          114.45,
          264.4,
          239.72,
          215.49,
          1626.88,
          178.38,
          173.92,
          340,
          70.31,
          294.8,
          11.61,
          124,
          4887.38,
          3695.31,
          1092.77,
          2739.78,
          454.54,
          162.52,
          718.97,
          337.6,
          11.61,
          2312.59,
          2312.59,
          2272.66,
          2272.66,
          620.39,
          620.39,
          671.25,
          671.25,
          2183.89,
          3190.77,
          1299.55,
          1905.86,
          1252.14,
          602.54,
          1453.01,
          1758.75,
          355.74,
          480.56,
          5219.89,
          75.28,
          2203.49,
          744.63,
          364.66,
          19.65,
          218.72,
          768.92,
          2414.97,
          1130.3,
          18.09,
          567.78,
          103.73,
          366.61,
          34.87,
          36.54,
          36.54,
          36.54,
          261.33,
          87.57,
          155.42,
          68.53,
          33.22,
          191.82,
          178.41,
          171.3,
          27,
          886.6,
          138.97,
          294.8,
          122.62,
          101.58,
          147.15,
          2263.14,
          466.76,
          84,
          525.14,
          19.65,
          187.65,
          185.84,
          232.79,
          731.56,
          43.19,
          1005.29,
          360,
          3670.05,
          1114.08,
          188.87,
          196,
          102.8,
          888.01,
          1138.69,
          1627.38,
          552.36,
          17124.28,
          1061.18,
          109.39,
          2602.9,
          4031.99,
          347.83,
          1282.9,
          8593.51,
          505.41,
          267.19,
          1571.12,
          3343.21,
          427.18,
          773.25,
          842.16,
          1633.09,
          1655.41,
          3559.65,
          3235.94,
          48.43,
          106.2,
          11.61,
          16.25,
          249.98,
          48.43,
          108.42,
          313.82,
          11.61,
          16.25,
          64.73,
          59.21,
          183.4,
          84,
          84,
          629.75,
          43.19,
          85.95,
          79.95,
          112.59,
          43.19,
          85.95,
          79.95,
          112.59,
          0,
          0,
          0,
          11.61,
          51.89,
          408.66,
          11.61,
          47.55,
          105.49,
          171.3,
          215.49,
          835.34,
          277.33,
          863.23,
          125.34,
          121.01,
          142.7,
          492.41,
          492.41,
          240.44,
          377.85,
          380.55,
          531.77,
          1113.43,
          310.91,
          91.38,
          733.36,
          640.3,
          757.88,
          1310.28,
          508.75,
          366.41,
          675,
          104.25,
          70.31,
          955.03,
          71.7,
          2982.34,
          1207.79,
          380.39,
          24,
          169.92,
          1335.73,
          360.55,
          39.86,
          105.49,
          48.43,
          110.41,
          170.97,
          215.22,
          39,
          19.65,
          227.43,
          829.45,
          641.73,
          1251.39,
          385.5,
          989.84,
          6234.84,
          1746.31,
          4996.93,
          9135.35,
          159.91,
          159.91,
          4185.91,
          557.19,
          3740.26,
          745.8,
          5081.36,
          12749.77,
          3817.28,
          4282.56,
          1227.81,
          1318.43,
          1341.48,
          1038.71,
          835.29,
          164.23,
          1993,
          575.06,
          440.83,
          2318.71,
          561.08,
          2603.24,
          648.26,
          2274.9,
          574.11,
          3366.16,
          122.62,
          439.44,
          297.25,
          439.53,
          330.88,
          103.73,
          971.26,
          4176.06,
          1563.78,
          587.63,
          3155.83,
          150.41,
          564.33
         ],
         "y": [
          1.3,
          1,
          0.1,
          0.07,
          0.12,
          0.12,
          0.01,
          0.03,
          0.18,
          0.45,
          0.29,
          0.05,
          0.26,
          0.16,
          0.43,
          0.22,
          0.09,
          0.02,
          0.25,
          0.02,
          0.04,
          0.02,
          0.04,
          0.06,
          0.07,
          0.01,
          0.01,
          0.12,
          1.11,
          1.86,
          0.06,
          5.12,
          0.65,
          0.88,
          0.12,
          0.18,
          0.09,
          0.1,
          0.23,
          0.23,
          0.13,
          0.24,
          0.21,
          0.36,
          0.67,
          0.55,
          0.06,
          0.14,
          0.01,
          0.54,
          1.78,
          0.13,
          0.43,
          0.33,
          0.08,
          0.05,
          0.16,
          0.01,
          0.18,
          0.35,
          0.27,
          0.1,
          0.1,
          0.03,
          0.02,
          0.19,
          0.15,
          0.44,
          0.31,
          0.17,
          1.04,
          0.3,
          0.09,
          0.72,
          0.04,
          0.12,
          0.05,
          0.06,
          0.06,
          0.17,
          0.2,
          0.01,
          0.16,
          0.01,
          0.04,
          0.06,
          0.05,
          0.01,
          0.17,
          0.03,
          0.12,
          0.02,
          0.03,
          0.25,
          0.01,
          0.21,
          0.01,
          0.01,
          0.01,
          0.1,
          0.1,
          0.1,
          1.7,
          0.21,
          0.26,
          0.43,
          0.08,
          0.08,
          0.38,
          0.02,
          0.01,
          0.01,
          0.9,
          1.89,
          0.18,
          0.1,
          0.09,
          0.1,
          1.71,
          1.04,
          0.03,
          1.57,
          0.04,
          0.12,
          0.15,
          0.28,
          1.15,
          0.66,
          0.01,
          0.01,
          0.3,
          0.01,
          0.03,
          0.03,
          0.03,
          0.49,
          0.28,
          0.01,
          0.1,
          1.86,
          0.01,
          0.12,
          0.06,
          0.1,
          0.01,
          0.05,
          0.05,
          0.25,
          0.1,
          0.18,
          0.01,
          0.06,
          0.58,
          0,
          0.02,
          0.04,
          0.03,
          0.92,
          1.56,
          0.01,
          0.01,
          0.52,
          0,
          0,
          0.01,
          0.01,
          0.02,
          0.13,
          0.07,
          0.31,
          0.12,
          0.05,
          0.44,
          0.01,
          0.11,
          0.15,
          0.03,
          0.01,
          0.09,
          0.01,
          0.04,
          0,
          0.02,
          0.01,
          0.14,
          0.17,
          0.12,
          0.23,
          0.88,
          0.12,
          0.34,
          0.01,
          0.11,
          0.01,
          0.04,
          0.02,
          0.04,
          0.06,
          0.07,
          0.01,
          0.01,
          0.38,
          0,
          0.2,
          0,
          0.2,
          0.87,
          0,
          0,
          0.17,
          0.01,
          0.83,
          0.24,
          0.17,
          0.22,
          0.27,
          0.04,
          0.25,
          0.07,
          0.07,
          0,
          0.09,
          0.18,
          0.27,
          0.01,
          0.6,
          0.03,
          0.03,
          0.03,
          0.03,
          0.03,
          0.03,
          0.03,
          0.04,
          0.07,
          0.16,
          0.03,
          0.04,
          0.06,
          0.05,
          1.14,
          1.86,
          0.07,
          0.54,
          0.31,
          0.16,
          0.03,
          0.02,
          0.02,
          0.05,
          0.05,
          0.16,
          0.06,
          1.1,
          0.3,
          1.92,
          0.74,
          0.03,
          0.05,
          0.17,
          0.24,
          0.04,
          0.09,
          0.08,
          0.07,
          0.54,
          0.06,
          0.06,
          0.11,
          0.02,
          0.1,
          0,
          0.04,
          1.63,
          1.23,
          0.36,
          0.91,
          0.15,
          0.05,
          0.24,
          0.11,
          0,
          0.77,
          0.77,
          0.76,
          0.76,
          0.21,
          0.21,
          0.22,
          0.22,
          0.73,
          1.06,
          0.43,
          0.64,
          0.42,
          0.2,
          0.48,
          0.59,
          0.12,
          0.16,
          1.74,
          0.03,
          0.73,
          0.25,
          0.12,
          0.01,
          0.07,
          0.26,
          0.8,
          0.38,
          0.01,
          0.19,
          0.03,
          0.12,
          0.01,
          0.01,
          0.01,
          0.01,
          0.09,
          0.03,
          0.05,
          0.02,
          0.01,
          0.06,
          0.06,
          0.06,
          0.01,
          0.3,
          0.05,
          0.1,
          0.04,
          0.03,
          0.05,
          0.75,
          0.16,
          0.03,
          0.18,
          0.01,
          0.06,
          0.06,
          0.08,
          0.24,
          0.01,
          0.34,
          0.12,
          1.22,
          0.37,
          0.06,
          0.07,
          0.03,
          0.3,
          0.38,
          0.54,
          0.18,
          5.71,
          0.35,
          0.04,
          0.87,
          1.34,
          0.12,
          0.43,
          2.86,
          0.17,
          0.09,
          0.52,
          1.11,
          0.14,
          0.26,
          0.28,
          0.54,
          0.55,
          1.19,
          1.08,
          0.02,
          0.04,
          0,
          0.01,
          0.08,
          0.02,
          0.04,
          0.1,
          0,
          0.01,
          0.02,
          0.02,
          0.06,
          0.03,
          0.03,
          0.21,
          0.01,
          0.03,
          0.03,
          0.04,
          0.01,
          0.03,
          0.03,
          0.04,
          0,
          0,
          0,
          0,
          0.02,
          0.14,
          0,
          0.02,
          0.04,
          0.06,
          0.07,
          0.28,
          0.09,
          0.29,
          0.04,
          0.04,
          0.05,
          0.16,
          0.16,
          0.08,
          0.13,
          0.13,
          0.18,
          0.37,
          0.1,
          0.03,
          0.24,
          0.21,
          0.25,
          0.44,
          0.17,
          0.12,
          0.23,
          0.03,
          0.02,
          0.32,
          0.02,
          0.99,
          0.4,
          0.13,
          0.01,
          0.06,
          0.45,
          0.12,
          0.01,
          0.04,
          0.02,
          0.04,
          0.06,
          0.07,
          0.01,
          0.01,
          0.08,
          0.28,
          0.21,
          0.42,
          0.13,
          0.33,
          2.08,
          0.58,
          1.67,
          3.05,
          0.05,
          0.05,
          1.4,
          0.19,
          1.25,
          0.25,
          1.69,
          4.25,
          1.27,
          1.43,
          0.41,
          0.44,
          0.45,
          0.35,
          0.28,
          0.05,
          0.66,
          0.19,
          0.15,
          0.77,
          0.19,
          0.87,
          0.22,
          0.76,
          0.19,
          1.12,
          0.04,
          0.15,
          0.1,
          0.15,
          0.11,
          0.03,
          0.32,
          1.39,
          0.52,
          0.2,
          1.05,
          0.05,
          0.19
         ]
        }
       ],
       "layout": {
        "template": {
         "data": {
          "bar": [
           {
            "error_x": {
             "color": "#2a3f5f"
            },
            "error_y": {
             "color": "#2a3f5f"
            },
            "marker": {
             "line": {
              "color": "#E5ECF6",
              "width": 0.5
             },
             "pattern": {
              "fillmode": "overlay",
              "size": 10,
              "solidity": 0.2
             }
            },
            "type": "bar"
           }
          ],
          "barpolar": [
           {
            "marker": {
             "line": {
              "color": "#E5ECF6",
              "width": 0.5
             },
             "pattern": {
              "fillmode": "overlay",
              "size": 10,
              "solidity": 0.2
             }
            },
            "type": "barpolar"
           }
          ],
          "carpet": [
           {
            "aaxis": {
             "endlinecolor": "#2a3f5f",
             "gridcolor": "white",
             "linecolor": "white",
             "minorgridcolor": "white",
             "startlinecolor": "#2a3f5f"
            },
            "baxis": {
             "endlinecolor": "#2a3f5f",
             "gridcolor": "white",
             "linecolor": "white",
             "minorgridcolor": "white",
             "startlinecolor": "#2a3f5f"
            },
            "type": "carpet"
           }
          ],
          "choropleth": [
           {
            "colorbar": {
             "outlinewidth": 0,
             "ticks": ""
            },
            "type": "choropleth"
           }
          ],
          "contour": [
           {
            "colorbar": {
             "outlinewidth": 0,
             "ticks": ""
            },
            "colorscale": [
             [
              0,
              "#0d0887"
             ],
             [
              0.1111111111111111,
              "#46039f"
             ],
             [
              0.2222222222222222,
              "#7201a8"
             ],
             [
              0.3333333333333333,
              "#9c179e"
             ],
             [
              0.4444444444444444,
              "#bd3786"
             ],
             [
              0.5555555555555556,
              "#d8576b"
             ],
             [
              0.6666666666666666,
              "#ed7953"
             ],
             [
              0.7777777777777778,
              "#fb9f3a"
             ],
             [
              0.8888888888888888,
              "#fdca26"
             ],
             [
              1,
              "#f0f921"
             ]
            ],
            "type": "contour"
           }
          ],
          "contourcarpet": [
           {
            "colorbar": {
             "outlinewidth": 0,
             "ticks": ""
            },
            "type": "contourcarpet"
           }
          ],
          "heatmap": [
           {
            "colorbar": {
             "outlinewidth": 0,
             "ticks": ""
            },
            "colorscale": [
             [
              0,
              "#0d0887"
             ],
             [
              0.1111111111111111,
              "#46039f"
             ],
             [
              0.2222222222222222,
              "#7201a8"
             ],
             [
              0.3333333333333333,
              "#9c179e"
             ],
             [
              0.4444444444444444,
              "#bd3786"
             ],
             [
              0.5555555555555556,
              "#d8576b"
             ],
             [
              0.6666666666666666,
              "#ed7953"
             ],
             [
              0.7777777777777778,
              "#fb9f3a"
             ],
             [
              0.8888888888888888,
              "#fdca26"
             ],
             [
              1,
              "#f0f921"
             ]
            ],
            "type": "heatmap"
           }
          ],
          "heatmapgl": [
           {
            "colorbar": {
             "outlinewidth": 0,
             "ticks": ""
            },
            "colorscale": [
             [
              0,
              "#0d0887"
             ],
             [
              0.1111111111111111,
              "#46039f"
             ],
             [
              0.2222222222222222,
              "#7201a8"
             ],
             [
              0.3333333333333333,
              "#9c179e"
             ],
             [
              0.4444444444444444,
              "#bd3786"
             ],
             [
              0.5555555555555556,
              "#d8576b"
             ],
             [
              0.6666666666666666,
              "#ed7953"
             ],
             [
              0.7777777777777778,
              "#fb9f3a"
             ],
             [
              0.8888888888888888,
              "#fdca26"
             ],
             [
              1,
              "#f0f921"
             ]
            ],
            "type": "heatmapgl"
           }
          ],
          "histogram": [
           {
            "marker": {
             "pattern": {
              "fillmode": "overlay",
              "size": 10,
              "solidity": 0.2
             }
            },
            "type": "histogram"
           }
          ],
          "histogram2d": [
           {
            "colorbar": {
             "outlinewidth": 0,
             "ticks": ""
            },
            "colorscale": [
             [
              0,
              "#0d0887"
             ],
             [
              0.1111111111111111,
              "#46039f"
             ],
             [
              0.2222222222222222,
              "#7201a8"
             ],
             [
              0.3333333333333333,
              "#9c179e"
             ],
             [
              0.4444444444444444,
              "#bd3786"
             ],
             [
              0.5555555555555556,
              "#d8576b"
             ],
             [
              0.6666666666666666,
              "#ed7953"
             ],
             [
              0.7777777777777778,
              "#fb9f3a"
             ],
             [
              0.8888888888888888,
              "#fdca26"
             ],
             [
              1,
              "#f0f921"
             ]
            ],
            "type": "histogram2d"
           }
          ],
          "histogram2dcontour": [
           {
            "colorbar": {
             "outlinewidth": 0,
             "ticks": ""
            },
            "colorscale": [
             [
              0,
              "#0d0887"
             ],
             [
              0.1111111111111111,
              "#46039f"
             ],
             [
              0.2222222222222222,
              "#7201a8"
             ],
             [
              0.3333333333333333,
              "#9c179e"
             ],
             [
              0.4444444444444444,
              "#bd3786"
             ],
             [
              0.5555555555555556,
              "#d8576b"
             ],
             [
              0.6666666666666666,
              "#ed7953"
             ],
             [
              0.7777777777777778,
              "#fb9f3a"
             ],
             [
              0.8888888888888888,
              "#fdca26"
             ],
             [
              1,
              "#f0f921"
             ]
            ],
            "type": "histogram2dcontour"
           }
          ],
          "mesh3d": [
           {
            "colorbar": {
             "outlinewidth": 0,
             "ticks": ""
            },
            "type": "mesh3d"
           }
          ],
          "parcoords": [
           {
            "line": {
             "colorbar": {
              "outlinewidth": 0,
              "ticks": ""
             }
            },
            "type": "parcoords"
           }
          ],
          "pie": [
           {
            "automargin": true,
            "type": "pie"
           }
          ],
          "scatter": [
           {
            "fillpattern": {
             "fillmode": "overlay",
             "size": 10,
             "solidity": 0.2
            },
            "type": "scatter"
           }
          ],
          "scatter3d": [
           {
            "line": {
             "colorbar": {
              "outlinewidth": 0,
              "ticks": ""
             }
            },
            "marker": {
             "colorbar": {
              "outlinewidth": 0,
              "ticks": ""
             }
            },
            "type": "scatter3d"
           }
          ],
          "scattercarpet": [
           {
            "marker": {
             "colorbar": {
              "outlinewidth": 0,
              "ticks": ""
             }
            },
            "type": "scattercarpet"
           }
          ],
          "scattergeo": [
           {
            "marker": {
             "colorbar": {
              "outlinewidth": 0,
              "ticks": ""
             }
            },
            "type": "scattergeo"
           }
          ],
          "scattergl": [
           {
            "marker": {
             "colorbar": {
              "outlinewidth": 0,
              "ticks": ""
             }
            },
            "type": "scattergl"
           }
          ],
          "scattermapbox": [
           {
            "marker": {
             "colorbar": {
              "outlinewidth": 0,
              "ticks": ""
             }
            },
            "type": "scattermapbox"
           }
          ],
          "scatterpolar": [
           {
            "marker": {
             "colorbar": {
              "outlinewidth": 0,
              "ticks": ""
             }
            },
            "type": "scatterpolar"
           }
          ],
          "scatterpolargl": [
           {
            "marker": {
             "colorbar": {
              "outlinewidth": 0,
              "ticks": ""
             }
            },
            "type": "scatterpolargl"
           }
          ],
          "scatterternary": [
           {
            "marker": {
             "colorbar": {
              "outlinewidth": 0,
              "ticks": ""
             }
            },
            "type": "scatterternary"
           }
          ],
          "surface": [
           {
            "colorbar": {
             "outlinewidth": 0,
             "ticks": ""
            },
            "colorscale": [
             [
              0,
              "#0d0887"
             ],
             [
              0.1111111111111111,
              "#46039f"
             ],
             [
              0.2222222222222222,
              "#7201a8"
             ],
             [
              0.3333333333333333,
              "#9c179e"
             ],
             [
              0.4444444444444444,
              "#bd3786"
             ],
             [
              0.5555555555555556,
              "#d8576b"
             ],
             [
              0.6666666666666666,
              "#ed7953"
             ],
             [
              0.7777777777777778,
              "#fb9f3a"
             ],
             [
              0.8888888888888888,
              "#fdca26"
             ],
             [
              1,
              "#f0f921"
             ]
            ],
            "type": "surface"
           }
          ],
          "table": [
           {
            "cells": {
             "fill": {
              "color": "#EBF0F8"
             },
             "line": {
              "color": "white"
             }
            },
            "header": {
             "fill": {
              "color": "#C8D4E3"
             },
             "line": {
              "color": "white"
             }
            },
            "type": "table"
           }
          ]
         },
         "layout": {
          "annotationdefaults": {
           "arrowcolor": "#2a3f5f",
           "arrowhead": 0,
           "arrowwidth": 1
          },
          "autotypenumbers": "strict",
          "coloraxis": {
           "colorbar": {
            "outlinewidth": 0,
            "ticks": ""
           }
          },
          "colorscale": {
           "diverging": [
            [
             0,
             "#8e0152"
            ],
            [
             0.1,
             "#c51b7d"
            ],
            [
             0.2,
             "#de77ae"
            ],
            [
             0.3,
             "#f1b6da"
            ],
            [
             0.4,
             "#fde0ef"
            ],
            [
             0.5,
             "#f7f7f7"
            ],
            [
             0.6,
             "#e6f5d0"
            ],
            [
             0.7,
             "#b8e186"
            ],
            [
             0.8,
             "#7fbc41"
            ],
            [
             0.9,
             "#4d9221"
            ],
            [
             1,
             "#276419"
            ]
           ],
           "sequential": [
            [
             0,
             "#0d0887"
            ],
            [
             0.1111111111111111,
             "#46039f"
            ],
            [
             0.2222222222222222,
             "#7201a8"
            ],
            [
             0.3333333333333333,
             "#9c179e"
            ],
            [
             0.4444444444444444,
             "#bd3786"
            ],
            [
             0.5555555555555556,
             "#d8576b"
            ],
            [
             0.6666666666666666,
             "#ed7953"
            ],
            [
             0.7777777777777778,
             "#fb9f3a"
            ],
            [
             0.8888888888888888,
             "#fdca26"
            ],
            [
             1,
             "#f0f921"
            ]
           ],
           "sequentialminus": [
            [
             0,
             "#0d0887"
            ],
            [
             0.1111111111111111,
             "#46039f"
            ],
            [
             0.2222222222222222,
             "#7201a8"
            ],
            [
             0.3333333333333333,
             "#9c179e"
            ],
            [
             0.4444444444444444,
             "#bd3786"
            ],
            [
             0.5555555555555556,
             "#d8576b"
            ],
            [
             0.6666666666666666,
             "#ed7953"
            ],
            [
             0.7777777777777778,
             "#fb9f3a"
            ],
            [
             0.8888888888888888,
             "#fdca26"
            ],
            [
             1,
             "#f0f921"
            ]
           ]
          },
          "colorway": [
           "#636efa",
           "#EF553B",
           "#00cc96",
           "#ab63fa",
           "#FFA15A",
           "#19d3f3",
           "#FF6692",
           "#B6E880",
           "#FF97FF",
           "#FECB52"
          ],
          "font": {
           "color": "#2a3f5f"
          },
          "geo": {
           "bgcolor": "white",
           "lakecolor": "white",
           "landcolor": "#E5ECF6",
           "showlakes": true,
           "showland": true,
           "subunitcolor": "white"
          },
          "hoverlabel": {
           "align": "left"
          },
          "hovermode": "closest",
          "mapbox": {
           "style": "light"
          },
          "paper_bgcolor": "white",
          "plot_bgcolor": "#E5ECF6",
          "polar": {
           "angularaxis": {
            "gridcolor": "white",
            "linecolor": "white",
            "ticks": ""
           },
           "bgcolor": "#E5ECF6",
           "radialaxis": {
            "gridcolor": "white",
            "linecolor": "white",
            "ticks": ""
           }
          },
          "scene": {
           "xaxis": {
            "backgroundcolor": "#E5ECF6",
            "gridcolor": "white",
            "gridwidth": 2,
            "linecolor": "white",
            "showbackground": true,
            "ticks": "",
            "zerolinecolor": "white"
           },
           "yaxis": {
            "backgroundcolor": "#E5ECF6",
            "gridcolor": "white",
            "gridwidth": 2,
            "linecolor": "white",
            "showbackground": true,
            "ticks": "",
            "zerolinecolor": "white"
           },
           "zaxis": {
            "backgroundcolor": "#E5ECF6",
            "gridcolor": "white",
            "gridwidth": 2,
            "linecolor": "white",
            "showbackground": true,
            "ticks": "",
            "zerolinecolor": "white"
           }
          },
          "shapedefaults": {
           "line": {
            "color": "#2a3f5f"
           }
          },
          "ternary": {
           "aaxis": {
            "gridcolor": "white",
            "linecolor": "white",
            "ticks": ""
           },
           "baxis": {
            "gridcolor": "white",
            "linecolor": "white",
            "ticks": ""
           },
           "bgcolor": "#E5ECF6",
           "caxis": {
            "gridcolor": "white",
            "linecolor": "white",
            "ticks": ""
           }
          },
          "title": {
           "x": 0.05
          },
          "xaxis": {
           "automargin": true,
           "gridcolor": "white",
           "linecolor": "white",
           "ticks": "",
           "title": {
            "standoff": 15
           },
           "zerolinecolor": "white",
           "zerolinewidth": 2
          },
          "yaxis": {
           "automargin": true,
           "gridcolor": "white",
           "linecolor": "white",
           "ticks": "",
           "title": {
            "standoff": 15
           },
           "zerolinecolor": "white",
           "zerolinewidth": 2
          }
         }
        },
        "title": {
         "text": "Volume - Bug"
        },
        "xaxis": {
         "ticklen": 5,
         "title": {
          "text": "Volume"
         }
        },
        "yaxis": {
         "ticklen": 5,
         "title": {
          "text": "Bug"
         }
        }
       }
      },
      "text/html": [
       "<div>                            <div id=\"c2d1485b-4873-4e0b-87d2-06bd337adb79\" class=\"plotly-graph-div\" style=\"height:525px; width:100%;\"></div>            <script type=\"text/javascript\">                require([\"plotly\"], function(Plotly) {                    window.PLOTLYENV=window.PLOTLYENV || {};                                    if (document.getElementById(\"c2d1485b-4873-4e0b-87d2-06bd337adb79\")) {                    Plotly.newPlot(                        \"c2d1485b-4873-4e0b-87d2-06bd337adb79\",                        [{\"marker\":{\"color\":\"darkblue\"},\"mode\":\"markers\",\"name\":\"Volume - Bug\",\"text\":\"Bug (b)\",\"x\":[1.3,1.0,309.13,215.49,346.13,346.13,34.87,94.01,548.83,1362.41,856.15,143.06,770.38,474.97,1303.73,655.13,271.03,55.51,745.68,55.51,105.49,48.43,110.41,170.97,215.22,39.0,19.65,370.17,3327.01,5580.79,185.47,15345.64,1948.67,2653.0,351.75,540.0,260.0,295.0,686.95,684.05,381.56,707.02,625.77,1075.51,2002.42,1653.06,181.32,428.6,30.88,1626.95,5334.7,391.73,1284.0,985.76,236.84,158.12,475.0,39.86,535.29,1047.94,809.39,310.34,310.34,97.67,57.36,569.35,459.04,1311.63,937.19,498.55,3124.36,911.39,260.06,2164.46,125.02,358.2,142.62,174.17,192.57,521.73,604.1,28.07,494.94,27.0,134.89,183.48,140.65,22.46,511.82,97.67,365.32,46.51,82.45,745.68,34.87,618.27,27.0,30.0,33.22,285.29,289.51,293.44,5103.0,630.73,771.67,1299.55,252.01,252.01,1125.09,69.74,36.54,30.88,2692.19,5664.24,551.83,312.75,282.39,298.06,5143.61,3131.59,100.08,4697.07,110.41,372.23,452.78,851.67,3442.98,1980.76,15.51,15.51,892.43,15.51,75.28,92.51,92.51,1472.15,852.22,19.65,288.85,5575.99,22.46,353.11,179.72,298.21,44.97,151.24,151.24,744.63,300.0,525.0,43.19,185.75,1738.63,11.61,62.27,110.41,92.51,2746.2,4677.38,15.51,15.51,1573.33,8.0,11.61,19.65,27.0,73.08,396.41,221.65,919.26,360.0,144.95,1316.03,22.46,328.76,456.57,88.81,39.0,284.61,39.86,116.0,8.0,74.01,31.7,421.97,508.75,366.41,675.0,2643.35,369.21,1005.29,28.53,341.84,18.09,105.49,48.43,110.41,170.97,215.22,39.0,19.65,1149.16,11.61,591.46,11.61,591.46,2609.12,11.61,11.61,516.99,15.51,2490.74,734.53,503.61,666.05,801.91,121.01,759.68,206.32,206.32,11.61,266.27,526.35,809.46,34.87,1810.2,102.19,102.19,102.19,102.19,102.19,102.19,102.19,130.8,207.45,484.48,104.0,110.36,185.84,147.15,3428.87,5588.41,216.1,1619.65,916.14,472.09,92.0,51.81,53.3,162.63,143.06,474.06,167.37,3289.76,912.7,5767.59,2220.21,76.0,146.95,507.8,707.82,114.45,264.4,239.72,215.49,1626.88,178.38,173.92,340.0,70.31,294.8,11.61,124.0,4887.38,3695.31,1092.77,2739.78,454.54,162.52,718.97,337.6,11.61,2312.59,2312.59,2272.66,2272.66,620.39,620.39,671.25,671.25,2183.89,3190.77,1299.55,1905.86,1252.14,602.54,1453.01,1758.75,355.74,480.56,5219.89,75.28,2203.49,744.63,364.66,19.65,218.72,768.92,2414.97,1130.3,18.09,567.78,103.73,366.61,34.87,36.54,36.54,36.54,261.33,87.57,155.42,68.53,33.22,191.82,178.41,171.3,27.0,886.6,138.97,294.8,122.62,101.58,147.15,2263.14,466.76,84.0,525.14,19.65,187.65,185.84,232.79,731.56,43.19,1005.29,360.0,3670.05,1114.08,188.87,196.0,102.8,888.01,1138.69,1627.38,552.36,17124.28,1061.18,109.39,2602.9,4031.99,347.83,1282.9,8593.51,505.41,267.19,1571.12,3343.21,427.18,773.25,842.16,1633.09,1655.41,3559.65,3235.94,48.43,106.2,11.61,16.25,249.98,48.43,108.42,313.82,11.61,16.25,64.73,59.21,183.4,84.0,84.0,629.75,43.19,85.95,79.95,112.59,43.19,85.95,79.95,112.59,0.0,0.0,0.0,11.61,51.89,408.66,11.61,47.55,105.49,171.3,215.49,835.34,277.33,863.23,125.34,121.01,142.7,492.41,492.41,240.44,377.85,380.55,531.77,1113.43,310.91,91.38,733.36,640.3,757.88,1310.28,508.75,366.41,675.0,104.25,70.31,955.03,71.7,2982.34,1207.79,380.39,24.0,169.92,1335.73,360.55,39.86,105.49,48.43,110.41,170.97,215.22,39.0,19.65,227.43,829.45,641.73,1251.39,385.5,989.84,6234.84,1746.31,4996.93,9135.35,159.91,159.91,4185.91,557.19,3740.26,745.8,5081.36,12749.77,3817.28,4282.56,1227.81,1318.43,1341.48,1038.71,835.29,164.23,1993.0,575.06,440.83,2318.71,561.08,2603.24,648.26,2274.9,574.11,3366.16,122.62,439.44,297.25,439.53,330.88,103.73,971.26,4176.06,1563.78,587.63,3155.83,150.41,564.33],\"y\":[1.3,1.0,0.1,0.07,0.12,0.12,0.01,0.03,0.18,0.45,0.29,0.05,0.26,0.16,0.43,0.22,0.09,0.02,0.25,0.02,0.04,0.02,0.04,0.06,0.07,0.01,0.01,0.12,1.11,1.86,0.06,5.12,0.65,0.88,0.12,0.18,0.09,0.1,0.23,0.23,0.13,0.24,0.21,0.36,0.67,0.55,0.06,0.14,0.01,0.54,1.78,0.13,0.43,0.33,0.08,0.05,0.16,0.01,0.18,0.35,0.27,0.1,0.1,0.03,0.02,0.19,0.15,0.44,0.31,0.17,1.04,0.3,0.09,0.72,0.04,0.12,0.05,0.06,0.06,0.17,0.2,0.01,0.16,0.01,0.04,0.06,0.05,0.01,0.17,0.03,0.12,0.02,0.03,0.25,0.01,0.21,0.01,0.01,0.01,0.1,0.1,0.1,1.7,0.21,0.26,0.43,0.08,0.08,0.38,0.02,0.01,0.01,0.9,1.89,0.18,0.1,0.09,0.1,1.71,1.04,0.03,1.57,0.04,0.12,0.15,0.28,1.15,0.66,0.01,0.01,0.3,0.01,0.03,0.03,0.03,0.49,0.28,0.01,0.1,1.86,0.01,0.12,0.06,0.1,0.01,0.05,0.05,0.25,0.1,0.18,0.01,0.06,0.58,0.0,0.02,0.04,0.03,0.92,1.56,0.01,0.01,0.52,0.0,0.0,0.01,0.01,0.02,0.13,0.07,0.31,0.12,0.05,0.44,0.01,0.11,0.15,0.03,0.01,0.09,0.01,0.04,0.0,0.02,0.01,0.14,0.17,0.12,0.23,0.88,0.12,0.34,0.01,0.11,0.01,0.04,0.02,0.04,0.06,0.07,0.01,0.01,0.38,0.0,0.2,0.0,0.2,0.87,0.0,0.0,0.17,0.01,0.83,0.24,0.17,0.22,0.27,0.04,0.25,0.07,0.07,0.0,0.09,0.18,0.27,0.01,0.6,0.03,0.03,0.03,0.03,0.03,0.03,0.03,0.04,0.07,0.16,0.03,0.04,0.06,0.05,1.14,1.86,0.07,0.54,0.31,0.16,0.03,0.02,0.02,0.05,0.05,0.16,0.06,1.1,0.3,1.92,0.74,0.03,0.05,0.17,0.24,0.04,0.09,0.08,0.07,0.54,0.06,0.06,0.11,0.02,0.1,0.0,0.04,1.63,1.23,0.36,0.91,0.15,0.05,0.24,0.11,0.0,0.77,0.77,0.76,0.76,0.21,0.21,0.22,0.22,0.73,1.06,0.43,0.64,0.42,0.2,0.48,0.59,0.12,0.16,1.74,0.03,0.73,0.25,0.12,0.01,0.07,0.26,0.8,0.38,0.01,0.19,0.03,0.12,0.01,0.01,0.01,0.01,0.09,0.03,0.05,0.02,0.01,0.06,0.06,0.06,0.01,0.3,0.05,0.1,0.04,0.03,0.05,0.75,0.16,0.03,0.18,0.01,0.06,0.06,0.08,0.24,0.01,0.34,0.12,1.22,0.37,0.06,0.07,0.03,0.3,0.38,0.54,0.18,5.71,0.35,0.04,0.87,1.34,0.12,0.43,2.86,0.17,0.09,0.52,1.11,0.14,0.26,0.28,0.54,0.55,1.19,1.08,0.02,0.04,0.0,0.01,0.08,0.02,0.04,0.1,0.0,0.01,0.02,0.02,0.06,0.03,0.03,0.21,0.01,0.03,0.03,0.04,0.01,0.03,0.03,0.04,0.0,0.0,0.0,0.0,0.02,0.14,0.0,0.02,0.04,0.06,0.07,0.28,0.09,0.29,0.04,0.04,0.05,0.16,0.16,0.08,0.13,0.13,0.18,0.37,0.1,0.03,0.24,0.21,0.25,0.44,0.17,0.12,0.23,0.03,0.02,0.32,0.02,0.99,0.4,0.13,0.01,0.06,0.45,0.12,0.01,0.04,0.02,0.04,0.06,0.07,0.01,0.01,0.08,0.28,0.21,0.42,0.13,0.33,2.08,0.58,1.67,3.05,0.05,0.05,1.4,0.19,1.25,0.25,1.69,4.25,1.27,1.43,0.41,0.44,0.45,0.35,0.28,0.05,0.66,0.19,0.15,0.77,0.19,0.87,0.22,0.76,0.19,1.12,0.04,0.15,0.1,0.15,0.11,0.03,0.32,1.39,0.52,0.2,1.05,0.05,0.19],\"type\":\"scatter\"}],                        {\"template\":{\"data\":{\"barpolar\":[{\"marker\":{\"line\":{\"color\":\"#E5ECF6\",\"width\":0.5},\"pattern\":{\"fillmode\":\"overlay\",\"size\":10,\"solidity\":0.2}},\"type\":\"barpolar\"}],\"bar\":[{\"error_x\":{\"color\":\"#2a3f5f\"},\"error_y\":{\"color\":\"#2a3f5f\"},\"marker\":{\"line\":{\"color\":\"#E5ECF6\",\"width\":0.5},\"pattern\":{\"fillmode\":\"overlay\",\"size\":10,\"solidity\":0.2}},\"type\":\"bar\"}],\"carpet\":[{\"aaxis\":{\"endlinecolor\":\"#2a3f5f\",\"gridcolor\":\"white\",\"linecolor\":\"white\",\"minorgridcolor\":\"white\",\"startlinecolor\":\"#2a3f5f\"},\"baxis\":{\"endlinecolor\":\"#2a3f5f\",\"gridcolor\":\"white\",\"linecolor\":\"white\",\"minorgridcolor\":\"white\",\"startlinecolor\":\"#2a3f5f\"},\"type\":\"carpet\"}],\"choropleth\":[{\"colorbar\":{\"outlinewidth\":0,\"ticks\":\"\"},\"type\":\"choropleth\"}],\"contourcarpet\":[{\"colorbar\":{\"outlinewidth\":0,\"ticks\":\"\"},\"type\":\"contourcarpet\"}],\"contour\":[{\"colorbar\":{\"outlinewidth\":0,\"ticks\":\"\"},\"colorscale\":[[0.0,\"#0d0887\"],[0.1111111111111111,\"#46039f\"],[0.2222222222222222,\"#7201a8\"],[0.3333333333333333,\"#9c179e\"],[0.4444444444444444,\"#bd3786\"],[0.5555555555555556,\"#d8576b\"],[0.6666666666666666,\"#ed7953\"],[0.7777777777777778,\"#fb9f3a\"],[0.8888888888888888,\"#fdca26\"],[1.0,\"#f0f921\"]],\"type\":\"contour\"}],\"heatmapgl\":[{\"colorbar\":{\"outlinewidth\":0,\"ticks\":\"\"},\"colorscale\":[[0.0,\"#0d0887\"],[0.1111111111111111,\"#46039f\"],[0.2222222222222222,\"#7201a8\"],[0.3333333333333333,\"#9c179e\"],[0.4444444444444444,\"#bd3786\"],[0.5555555555555556,\"#d8576b\"],[0.6666666666666666,\"#ed7953\"],[0.7777777777777778,\"#fb9f3a\"],[0.8888888888888888,\"#fdca26\"],[1.0,\"#f0f921\"]],\"type\":\"heatmapgl\"}],\"heatmap\":[{\"colorbar\":{\"outlinewidth\":0,\"ticks\":\"\"},\"colorscale\":[[0.0,\"#0d0887\"],[0.1111111111111111,\"#46039f\"],[0.2222222222222222,\"#7201a8\"],[0.3333333333333333,\"#9c179e\"],[0.4444444444444444,\"#bd3786\"],[0.5555555555555556,\"#d8576b\"],[0.6666666666666666,\"#ed7953\"],[0.7777777777777778,\"#fb9f3a\"],[0.8888888888888888,\"#fdca26\"],[1.0,\"#f0f921\"]],\"type\":\"heatmap\"}],\"histogram2dcontour\":[{\"colorbar\":{\"outlinewidth\":0,\"ticks\":\"\"},\"colorscale\":[[0.0,\"#0d0887\"],[0.1111111111111111,\"#46039f\"],[0.2222222222222222,\"#7201a8\"],[0.3333333333333333,\"#9c179e\"],[0.4444444444444444,\"#bd3786\"],[0.5555555555555556,\"#d8576b\"],[0.6666666666666666,\"#ed7953\"],[0.7777777777777778,\"#fb9f3a\"],[0.8888888888888888,\"#fdca26\"],[1.0,\"#f0f921\"]],\"type\":\"histogram2dcontour\"}],\"histogram2d\":[{\"colorbar\":{\"outlinewidth\":0,\"ticks\":\"\"},\"colorscale\":[[0.0,\"#0d0887\"],[0.1111111111111111,\"#46039f\"],[0.2222222222222222,\"#7201a8\"],[0.3333333333333333,\"#9c179e\"],[0.4444444444444444,\"#bd3786\"],[0.5555555555555556,\"#d8576b\"],[0.6666666666666666,\"#ed7953\"],[0.7777777777777778,\"#fb9f3a\"],[0.8888888888888888,\"#fdca26\"],[1.0,\"#f0f921\"]],\"type\":\"histogram2d\"}],\"histogram\":[{\"marker\":{\"pattern\":{\"fillmode\":\"overlay\",\"size\":10,\"solidity\":0.2}},\"type\":\"histogram\"}],\"mesh3d\":[{\"colorbar\":{\"outlinewidth\":0,\"ticks\":\"\"},\"type\":\"mesh3d\"}],\"parcoords\":[{\"line\":{\"colorbar\":{\"outlinewidth\":0,\"ticks\":\"\"}},\"type\":\"parcoords\"}],\"pie\":[{\"automargin\":true,\"type\":\"pie\"}],\"scatter3d\":[{\"line\":{\"colorbar\":{\"outlinewidth\":0,\"ticks\":\"\"}},\"marker\":{\"colorbar\":{\"outlinewidth\":0,\"ticks\":\"\"}},\"type\":\"scatter3d\"}],\"scattercarpet\":[{\"marker\":{\"colorbar\":{\"outlinewidth\":0,\"ticks\":\"\"}},\"type\":\"scattercarpet\"}],\"scattergeo\":[{\"marker\":{\"colorbar\":{\"outlinewidth\":0,\"ticks\":\"\"}},\"type\":\"scattergeo\"}],\"scattergl\":[{\"marker\":{\"colorbar\":{\"outlinewidth\":0,\"ticks\":\"\"}},\"type\":\"scattergl\"}],\"scattermapbox\":[{\"marker\":{\"colorbar\":{\"outlinewidth\":0,\"ticks\":\"\"}},\"type\":\"scattermapbox\"}],\"scatterpolargl\":[{\"marker\":{\"colorbar\":{\"outlinewidth\":0,\"ticks\":\"\"}},\"type\":\"scatterpolargl\"}],\"scatterpolar\":[{\"marker\":{\"colorbar\":{\"outlinewidth\":0,\"ticks\":\"\"}},\"type\":\"scatterpolar\"}],\"scatter\":[{\"fillpattern\":{\"fillmode\":\"overlay\",\"size\":10,\"solidity\":0.2},\"type\":\"scatter\"}],\"scatterternary\":[{\"marker\":{\"colorbar\":{\"outlinewidth\":0,\"ticks\":\"\"}},\"type\":\"scatterternary\"}],\"surface\":[{\"colorbar\":{\"outlinewidth\":0,\"ticks\":\"\"},\"colorscale\":[[0.0,\"#0d0887\"],[0.1111111111111111,\"#46039f\"],[0.2222222222222222,\"#7201a8\"],[0.3333333333333333,\"#9c179e\"],[0.4444444444444444,\"#bd3786\"],[0.5555555555555556,\"#d8576b\"],[0.6666666666666666,\"#ed7953\"],[0.7777777777777778,\"#fb9f3a\"],[0.8888888888888888,\"#fdca26\"],[1.0,\"#f0f921\"]],\"type\":\"surface\"}],\"table\":[{\"cells\":{\"fill\":{\"color\":\"#EBF0F8\"},\"line\":{\"color\":\"white\"}},\"header\":{\"fill\":{\"color\":\"#C8D4E3\"},\"line\":{\"color\":\"white\"}},\"type\":\"table\"}]},\"layout\":{\"annotationdefaults\":{\"arrowcolor\":\"#2a3f5f\",\"arrowhead\":0,\"arrowwidth\":1},\"autotypenumbers\":\"strict\",\"coloraxis\":{\"colorbar\":{\"outlinewidth\":0,\"ticks\":\"\"}},\"colorscale\":{\"diverging\":[[0,\"#8e0152\"],[0.1,\"#c51b7d\"],[0.2,\"#de77ae\"],[0.3,\"#f1b6da\"],[0.4,\"#fde0ef\"],[0.5,\"#f7f7f7\"],[0.6,\"#e6f5d0\"],[0.7,\"#b8e186\"],[0.8,\"#7fbc41\"],[0.9,\"#4d9221\"],[1,\"#276419\"]],\"sequential\":[[0.0,\"#0d0887\"],[0.1111111111111111,\"#46039f\"],[0.2222222222222222,\"#7201a8\"],[0.3333333333333333,\"#9c179e\"],[0.4444444444444444,\"#bd3786\"],[0.5555555555555556,\"#d8576b\"],[0.6666666666666666,\"#ed7953\"],[0.7777777777777778,\"#fb9f3a\"],[0.8888888888888888,\"#fdca26\"],[1.0,\"#f0f921\"]],\"sequentialminus\":[[0.0,\"#0d0887\"],[0.1111111111111111,\"#46039f\"],[0.2222222222222222,\"#7201a8\"],[0.3333333333333333,\"#9c179e\"],[0.4444444444444444,\"#bd3786\"],[0.5555555555555556,\"#d8576b\"],[0.6666666666666666,\"#ed7953\"],[0.7777777777777778,\"#fb9f3a\"],[0.8888888888888888,\"#fdca26\"],[1.0,\"#f0f921\"]]},\"colorway\":[\"#636efa\",\"#EF553B\",\"#00cc96\",\"#ab63fa\",\"#FFA15A\",\"#19d3f3\",\"#FF6692\",\"#B6E880\",\"#FF97FF\",\"#FECB52\"],\"font\":{\"color\":\"#2a3f5f\"},\"geo\":{\"bgcolor\":\"white\",\"lakecolor\":\"white\",\"landcolor\":\"#E5ECF6\",\"showlakes\":true,\"showland\":true,\"subunitcolor\":\"white\"},\"hoverlabel\":{\"align\":\"left\"},\"hovermode\":\"closest\",\"mapbox\":{\"style\":\"light\"},\"paper_bgcolor\":\"white\",\"plot_bgcolor\":\"#E5ECF6\",\"polar\":{\"angularaxis\":{\"gridcolor\":\"white\",\"linecolor\":\"white\",\"ticks\":\"\"},\"bgcolor\":\"#E5ECF6\",\"radialaxis\":{\"gridcolor\":\"white\",\"linecolor\":\"white\",\"ticks\":\"\"}},\"scene\":{\"xaxis\":{\"backgroundcolor\":\"#E5ECF6\",\"gridcolor\":\"white\",\"gridwidth\":2,\"linecolor\":\"white\",\"showbackground\":true,\"ticks\":\"\",\"zerolinecolor\":\"white\"},\"yaxis\":{\"backgroundcolor\":\"#E5ECF6\",\"gridcolor\":\"white\",\"gridwidth\":2,\"linecolor\":\"white\",\"showbackground\":true,\"ticks\":\"\",\"zerolinecolor\":\"white\"},\"zaxis\":{\"backgroundcolor\":\"#E5ECF6\",\"gridcolor\":\"white\",\"gridwidth\":2,\"linecolor\":\"white\",\"showbackground\":true,\"ticks\":\"\",\"zerolinecolor\":\"white\"}},\"shapedefaults\":{\"line\":{\"color\":\"#2a3f5f\"}},\"ternary\":{\"aaxis\":{\"gridcolor\":\"white\",\"linecolor\":\"white\",\"ticks\":\"\"},\"baxis\":{\"gridcolor\":\"white\",\"linecolor\":\"white\",\"ticks\":\"\"},\"bgcolor\":\"#E5ECF6\",\"caxis\":{\"gridcolor\":\"white\",\"linecolor\":\"white\",\"ticks\":\"\"}},\"title\":{\"x\":0.05},\"xaxis\":{\"automargin\":true,\"gridcolor\":\"white\",\"linecolor\":\"white\",\"ticks\":\"\",\"title\":{\"standoff\":15},\"zerolinecolor\":\"white\",\"zerolinewidth\":2},\"yaxis\":{\"automargin\":true,\"gridcolor\":\"white\",\"linecolor\":\"white\",\"ticks\":\"\",\"title\":{\"standoff\":15},\"zerolinecolor\":\"white\",\"zerolinewidth\":2}}},\"title\":{\"text\":\"Volume - Bug\"},\"xaxis\":{\"ticklen\":5,\"title\":{\"text\":\"Volume\"}},\"yaxis\":{\"ticklen\":5,\"title\":{\"text\":\"Bug\"}}},                        {\"responsive\": true}                    ).then(function(){\n",
       "                            \n",
       "var gd = document.getElementById('c2d1485b-4873-4e0b-87d2-06bd337adb79');\n",
       "var x = new MutationObserver(function (mutations, observer) {{\n",
       "        var display = window.getComputedStyle(gd).display;\n",
       "        if (!display || display === 'none') {{\n",
       "            console.log([gd, 'removed!']);\n",
       "            Plotly.purge(gd);\n",
       "            observer.disconnect();\n",
       "        }}\n",
       "}});\n",
       "\n",
       "// Listen for the removal of the full notebook cells\n",
       "var notebookContainer = gd.closest('#notebook-container');\n",
       "if (notebookContainer) {{\n",
       "    x.observe(notebookContainer, {childList: true});\n",
       "}}\n",
       "\n",
       "// Listen for the clearing of the current output cell\n",
       "var outputEl = gd.closest('.output');\n",
       "if (outputEl) {{\n",
       "    x.observe(outputEl, {childList: true});\n",
       "}}\n",
       "\n",
       "                        })                };                });            </script>        </div>"
      ]
     },
     "metadata": {},
     "output_type": "display_data"
    }
   ],
   "source": [
    "trace = go.Scatter(\n",
    "    x = data.v,\n",
    "    y = data.b,\n",
    "    mode = \"markers\",\n",
    "    name = \"Volume - Bug\",\n",
    "    marker = dict(color = 'darkblue'),\n",
    "    text = \"Bug (b)\")\n",
    "\n",
    "scatter_data = [trace]\n",
    "scatter_layout = dict(title = 'Volume - Bug',\n",
    "              xaxis = dict(title = 'Volume', ticklen = 5),\n",
    "              yaxis = dict(title = 'Bug' , ticklen = 5),\n",
    "             )\n",
    "fig = dict(data = scatter_data, layout = scatter_layout)\n",
    "iplot(fig)"
   ]
  },
  {
   "cell_type": "code",
   "execution_count": 8,
   "metadata": {},
   "outputs": [
    {
     "data": {
      "text/plain": [
       "loc                  0\n",
       "v(g)                 0\n",
       "ev(g)                0\n",
       "iv(g)                0\n",
       "n                    0\n",
       "v                    0\n",
       "l                    0\n",
       "d                    0\n",
       "i                    0\n",
       "e                    0\n",
       "b                    0\n",
       "t                    0\n",
       "lOCode               0\n",
       "lOComment            0\n",
       "lOBlank              0\n",
       "locCodeAndComment    0\n",
       "uniq_Op              0\n",
       "uniq_Opnd            0\n",
       "total_Op             0\n",
       "total_Opnd           0\n",
       "branchCount          0\n",
       "defects              0\n",
       "dtype: int64"
      ]
     },
     "execution_count": 8,
     "metadata": {},
     "output_type": "execute_result"
    }
   ],
   "source": [
    "data.isnull().sum()"
   ]
  },
  {
   "cell_type": "code",
   "execution_count": 9,
   "metadata": {},
   "outputs": [
    {
     "data": {
      "application/vnd.plotly.v1+json": {
       "config": {
        "linkText": "Export to plot.ly",
        "plotlyServerURL": "https://plot.ly",
        "showLink": false
       },
       "data": [
        {
         "marker": {
          "color": "blue"
         },
         "name": "Unique Operators",
         "type": "box",
         "x": [
          1.2,
          1,
          15,
          16,
          16,
          16,
          4,
          10,
          15,
          15,
          19,
          9,
          17,
          14,
          22,
          19,
          14,
          8,
          12,
          8,
          10,
          7,
          6,
          11,
          12,
          4,
          5,
          15,
          19,
          45,
          15,
          69,
          36,
          13,
          14,
          18,
          13,
          15,
          17,
          19,
          15,
          21,
          16,
          21,
          24,
          17,
          7,
          13,
          4,
          20,
          25,
          12,
          18,
          21,
          12,
          11,
          16,
          6,
          17,
          22,
          18,
          15,
          15,
          10,
          7,
          17,
          14,
          25,
          21,
          21,
          16,
          19,
          11,
          26,
          7,
          12,
          11,
          11,
          14,
          25,
          23,
          4,
          20,
          5,
          9,
          9,
          9,
          5,
          16,
          9,
          9,
          7,
          8,
          17,
          7,
          15,
          5,
          6,
          7,
          12,
          9,
          11,
          34,
          15,
          12,
          23,
          15,
          15,
          17,
          5,
          6,
          4,
          35,
          36,
          17,
          16,
          15,
          12,
          36,
          46,
          11,
          25,
          5,
          17,
          16,
          17,
          29,
          21,
          4,
          4,
          19,
          4,
          4,
          4,
          4,
          17,
          17,
          5,
          16,
          31,
          4,
          12,
          5,
          10,
          7,
          10,
          10,
          15,
          16,
          16,
          6,
          14,
          23,
          3,
          4,
          5,
          4,
          31,
          32,
          4,
          4,
          22,
          3,
          4,
          5,
          5,
          3,
          18,
          6,
          20,
          15,
          13,
          18,
          4,
          13,
          12,
          8,
          4,
          11,
          7,
          10,
          3,
          7,
          6,
          17,
          19,
          14,
          17,
          19,
          16,
          19,
          6,
          15,
          5,
          10,
          7,
          6,
          11,
          12,
          4,
          5,
          25,
          3,
          24,
          3,
          24,
          27,
          3,
          3,
          17,
          4,
          32,
          12,
          21,
          19,
          22,
          10,
          14,
          14,
          14,
          4,
          14,
          17,
          21,
          7,
          28,
          9,
          9,
          9,
          9,
          9,
          9,
          9,
          12,
          12,
          18,
          10,
          11,
          11,
          11,
          32,
          27,
          7,
          19,
          19,
          16,
          9,
          9,
          9,
          10,
          9,
          20,
          13,
          33,
          26,
          44,
          36,
          8,
          8,
          11,
          20,
          10,
          16,
          13,
          11,
          35,
          13,
          13,
          17,
          8,
          15,
          4,
          9,
          49,
          31,
          27,
          20,
          15,
          10,
          17,
          12,
          3,
          28,
          28,
          31,
          31,
          19,
          19,
          20,
          20,
          23,
          23,
          23,
          29,
          19,
          20,
          17,
          25,
          11,
          17,
          38,
          8,
          26,
          20,
          16,
          4,
          16,
          24,
          32,
          24,
          4,
          19,
          10,
          13,
          7,
          7,
          6,
          6,
          11,
          9,
          5,
          10,
          6,
          9,
          11,
          13,
          6,
          24,
          9,
          11,
          9,
          9,
          12,
          24,
          18,
          9,
          14,
          4,
          10,
          12,
          13,
          16,
          5,
          16,
          14,
          32,
          10,
          12,
          3,
          8,
          23,
          19,
          20,
          21,
          72,
          11,
          7,
          24,
          32,
          14,
          21,
          32,
          8,
          14,
          20,
          31,
          18,
          26,
          27,
          10,
          21,
          33,
          33,
          7,
          11,
          4,
          3,
          17,
          7,
          9,
          13,
          4,
          3,
          9,
          8,
          13,
          9,
          9,
          16,
          5,
          10,
          9,
          11,
          5,
          10,
          9,
          11,
          1,
          1,
          1,
          4,
          7,
          11,
          3,
          5,
          8,
          12,
          11,
          29,
          16,
          26,
          11,
          11,
          14,
          15,
          15,
          13,
          17,
          17,
          17,
          19,
          16,
          10,
          13,
          20,
          13,
          18,
          19,
          14,
          17,
          9,
          6,
          22,
          5,
          35,
          20,
          9,
          4,
          9,
          21,
          13,
          7,
          10,
          7,
          6,
          11,
          12,
          4,
          5,
          10,
          27,
          22,
          26,
          19,
          19,
          24,
          25,
          24,
          52,
          12,
          12,
          50,
          20,
          28,
          19,
          32,
          48,
          24,
          38,
          17,
          32,
          15,
          21,
          20,
          11,
          26,
          12,
          17,
          26,
          8,
          34,
          19,
          32,
          14,
          37,
          9,
          15,
          14,
          19,
          18,
          10,
          20,
          22,
          23,
          22,
          32,
          13,
          20
         ]
        }
       ],
       "layout": {
        "template": {
         "data": {
          "bar": [
           {
            "error_x": {
             "color": "#2a3f5f"
            },
            "error_y": {
             "color": "#2a3f5f"
            },
            "marker": {
             "line": {
              "color": "#E5ECF6",
              "width": 0.5
             },
             "pattern": {
              "fillmode": "overlay",
              "size": 10,
              "solidity": 0.2
             }
            },
            "type": "bar"
           }
          ],
          "barpolar": [
           {
            "marker": {
             "line": {
              "color": "#E5ECF6",
              "width": 0.5
             },
             "pattern": {
              "fillmode": "overlay",
              "size": 10,
              "solidity": 0.2
             }
            },
            "type": "barpolar"
           }
          ],
          "carpet": [
           {
            "aaxis": {
             "endlinecolor": "#2a3f5f",
             "gridcolor": "white",
             "linecolor": "white",
             "minorgridcolor": "white",
             "startlinecolor": "#2a3f5f"
            },
            "baxis": {
             "endlinecolor": "#2a3f5f",
             "gridcolor": "white",
             "linecolor": "white",
             "minorgridcolor": "white",
             "startlinecolor": "#2a3f5f"
            },
            "type": "carpet"
           }
          ],
          "choropleth": [
           {
            "colorbar": {
             "outlinewidth": 0,
             "ticks": ""
            },
            "type": "choropleth"
           }
          ],
          "contour": [
           {
            "colorbar": {
             "outlinewidth": 0,
             "ticks": ""
            },
            "colorscale": [
             [
              0,
              "#0d0887"
             ],
             [
              0.1111111111111111,
              "#46039f"
             ],
             [
              0.2222222222222222,
              "#7201a8"
             ],
             [
              0.3333333333333333,
              "#9c179e"
             ],
             [
              0.4444444444444444,
              "#bd3786"
             ],
             [
              0.5555555555555556,
              "#d8576b"
             ],
             [
              0.6666666666666666,
              "#ed7953"
             ],
             [
              0.7777777777777778,
              "#fb9f3a"
             ],
             [
              0.8888888888888888,
              "#fdca26"
             ],
             [
              1,
              "#f0f921"
             ]
            ],
            "type": "contour"
           }
          ],
          "contourcarpet": [
           {
            "colorbar": {
             "outlinewidth": 0,
             "ticks": ""
            },
            "type": "contourcarpet"
           }
          ],
          "heatmap": [
           {
            "colorbar": {
             "outlinewidth": 0,
             "ticks": ""
            },
            "colorscale": [
             [
              0,
              "#0d0887"
             ],
             [
              0.1111111111111111,
              "#46039f"
             ],
             [
              0.2222222222222222,
              "#7201a8"
             ],
             [
              0.3333333333333333,
              "#9c179e"
             ],
             [
              0.4444444444444444,
              "#bd3786"
             ],
             [
              0.5555555555555556,
              "#d8576b"
             ],
             [
              0.6666666666666666,
              "#ed7953"
             ],
             [
              0.7777777777777778,
              "#fb9f3a"
             ],
             [
              0.8888888888888888,
              "#fdca26"
             ],
             [
              1,
              "#f0f921"
             ]
            ],
            "type": "heatmap"
           }
          ],
          "heatmapgl": [
           {
            "colorbar": {
             "outlinewidth": 0,
             "ticks": ""
            },
            "colorscale": [
             [
              0,
              "#0d0887"
             ],
             [
              0.1111111111111111,
              "#46039f"
             ],
             [
              0.2222222222222222,
              "#7201a8"
             ],
             [
              0.3333333333333333,
              "#9c179e"
             ],
             [
              0.4444444444444444,
              "#bd3786"
             ],
             [
              0.5555555555555556,
              "#d8576b"
             ],
             [
              0.6666666666666666,
              "#ed7953"
             ],
             [
              0.7777777777777778,
              "#fb9f3a"
             ],
             [
              0.8888888888888888,
              "#fdca26"
             ],
             [
              1,
              "#f0f921"
             ]
            ],
            "type": "heatmapgl"
           }
          ],
          "histogram": [
           {
            "marker": {
             "pattern": {
              "fillmode": "overlay",
              "size": 10,
              "solidity": 0.2
             }
            },
            "type": "histogram"
           }
          ],
          "histogram2d": [
           {
            "colorbar": {
             "outlinewidth": 0,
             "ticks": ""
            },
            "colorscale": [
             [
              0,
              "#0d0887"
             ],
             [
              0.1111111111111111,
              "#46039f"
             ],
             [
              0.2222222222222222,
              "#7201a8"
             ],
             [
              0.3333333333333333,
              "#9c179e"
             ],
             [
              0.4444444444444444,
              "#bd3786"
             ],
             [
              0.5555555555555556,
              "#d8576b"
             ],
             [
              0.6666666666666666,
              "#ed7953"
             ],
             [
              0.7777777777777778,
              "#fb9f3a"
             ],
             [
              0.8888888888888888,
              "#fdca26"
             ],
             [
              1,
              "#f0f921"
             ]
            ],
            "type": "histogram2d"
           }
          ],
          "histogram2dcontour": [
           {
            "colorbar": {
             "outlinewidth": 0,
             "ticks": ""
            },
            "colorscale": [
             [
              0,
              "#0d0887"
             ],
             [
              0.1111111111111111,
              "#46039f"
             ],
             [
              0.2222222222222222,
              "#7201a8"
             ],
             [
              0.3333333333333333,
              "#9c179e"
             ],
             [
              0.4444444444444444,
              "#bd3786"
             ],
             [
              0.5555555555555556,
              "#d8576b"
             ],
             [
              0.6666666666666666,
              "#ed7953"
             ],
             [
              0.7777777777777778,
              "#fb9f3a"
             ],
             [
              0.8888888888888888,
              "#fdca26"
             ],
             [
              1,
              "#f0f921"
             ]
            ],
            "type": "histogram2dcontour"
           }
          ],
          "mesh3d": [
           {
            "colorbar": {
             "outlinewidth": 0,
             "ticks": ""
            },
            "type": "mesh3d"
           }
          ],
          "parcoords": [
           {
            "line": {
             "colorbar": {
              "outlinewidth": 0,
              "ticks": ""
             }
            },
            "type": "parcoords"
           }
          ],
          "pie": [
           {
            "automargin": true,
            "type": "pie"
           }
          ],
          "scatter": [
           {
            "fillpattern": {
             "fillmode": "overlay",
             "size": 10,
             "solidity": 0.2
            },
            "type": "scatter"
           }
          ],
          "scatter3d": [
           {
            "line": {
             "colorbar": {
              "outlinewidth": 0,
              "ticks": ""
             }
            },
            "marker": {
             "colorbar": {
              "outlinewidth": 0,
              "ticks": ""
             }
            },
            "type": "scatter3d"
           }
          ],
          "scattercarpet": [
           {
            "marker": {
             "colorbar": {
              "outlinewidth": 0,
              "ticks": ""
             }
            },
            "type": "scattercarpet"
           }
          ],
          "scattergeo": [
           {
            "marker": {
             "colorbar": {
              "outlinewidth": 0,
              "ticks": ""
             }
            },
            "type": "scattergeo"
           }
          ],
          "scattergl": [
           {
            "marker": {
             "colorbar": {
              "outlinewidth": 0,
              "ticks": ""
             }
            },
            "type": "scattergl"
           }
          ],
          "scattermapbox": [
           {
            "marker": {
             "colorbar": {
              "outlinewidth": 0,
              "ticks": ""
             }
            },
            "type": "scattermapbox"
           }
          ],
          "scatterpolar": [
           {
            "marker": {
             "colorbar": {
              "outlinewidth": 0,
              "ticks": ""
             }
            },
            "type": "scatterpolar"
           }
          ],
          "scatterpolargl": [
           {
            "marker": {
             "colorbar": {
              "outlinewidth": 0,
              "ticks": ""
             }
            },
            "type": "scatterpolargl"
           }
          ],
          "scatterternary": [
           {
            "marker": {
             "colorbar": {
              "outlinewidth": 0,
              "ticks": ""
             }
            },
            "type": "scatterternary"
           }
          ],
          "surface": [
           {
            "colorbar": {
             "outlinewidth": 0,
             "ticks": ""
            },
            "colorscale": [
             [
              0,
              "#0d0887"
             ],
             [
              0.1111111111111111,
              "#46039f"
             ],
             [
              0.2222222222222222,
              "#7201a8"
             ],
             [
              0.3333333333333333,
              "#9c179e"
             ],
             [
              0.4444444444444444,
              "#bd3786"
             ],
             [
              0.5555555555555556,
              "#d8576b"
             ],
             [
              0.6666666666666666,
              "#ed7953"
             ],
             [
              0.7777777777777778,
              "#fb9f3a"
             ],
             [
              0.8888888888888888,
              "#fdca26"
             ],
             [
              1,
              "#f0f921"
             ]
            ],
            "type": "surface"
           }
          ],
          "table": [
           {
            "cells": {
             "fill": {
              "color": "#EBF0F8"
             },
             "line": {
              "color": "white"
             }
            },
            "header": {
             "fill": {
              "color": "#C8D4E3"
             },
             "line": {
              "color": "white"
             }
            },
            "type": "table"
           }
          ]
         },
         "layout": {
          "annotationdefaults": {
           "arrowcolor": "#2a3f5f",
           "arrowhead": 0,
           "arrowwidth": 1
          },
          "autotypenumbers": "strict",
          "coloraxis": {
           "colorbar": {
            "outlinewidth": 0,
            "ticks": ""
           }
          },
          "colorscale": {
           "diverging": [
            [
             0,
             "#8e0152"
            ],
            [
             0.1,
             "#c51b7d"
            ],
            [
             0.2,
             "#de77ae"
            ],
            [
             0.3,
             "#f1b6da"
            ],
            [
             0.4,
             "#fde0ef"
            ],
            [
             0.5,
             "#f7f7f7"
            ],
            [
             0.6,
             "#e6f5d0"
            ],
            [
             0.7,
             "#b8e186"
            ],
            [
             0.8,
             "#7fbc41"
            ],
            [
             0.9,
             "#4d9221"
            ],
            [
             1,
             "#276419"
            ]
           ],
           "sequential": [
            [
             0,
             "#0d0887"
            ],
            [
             0.1111111111111111,
             "#46039f"
            ],
            [
             0.2222222222222222,
             "#7201a8"
            ],
            [
             0.3333333333333333,
             "#9c179e"
            ],
            [
             0.4444444444444444,
             "#bd3786"
            ],
            [
             0.5555555555555556,
             "#d8576b"
            ],
            [
             0.6666666666666666,
             "#ed7953"
            ],
            [
             0.7777777777777778,
             "#fb9f3a"
            ],
            [
             0.8888888888888888,
             "#fdca26"
            ],
            [
             1,
             "#f0f921"
            ]
           ],
           "sequentialminus": [
            [
             0,
             "#0d0887"
            ],
            [
             0.1111111111111111,
             "#46039f"
            ],
            [
             0.2222222222222222,
             "#7201a8"
            ],
            [
             0.3333333333333333,
             "#9c179e"
            ],
            [
             0.4444444444444444,
             "#bd3786"
            ],
            [
             0.5555555555555556,
             "#d8576b"
            ],
            [
             0.6666666666666666,
             "#ed7953"
            ],
            [
             0.7777777777777778,
             "#fb9f3a"
            ],
            [
             0.8888888888888888,
             "#fdca26"
            ],
            [
             1,
             "#f0f921"
            ]
           ]
          },
          "colorway": [
           "#636efa",
           "#EF553B",
           "#00cc96",
           "#ab63fa",
           "#FFA15A",
           "#19d3f3",
           "#FF6692",
           "#B6E880",
           "#FF97FF",
           "#FECB52"
          ],
          "font": {
           "color": "#2a3f5f"
          },
          "geo": {
           "bgcolor": "white",
           "lakecolor": "white",
           "landcolor": "#E5ECF6",
           "showlakes": true,
           "showland": true,
           "subunitcolor": "white"
          },
          "hoverlabel": {
           "align": "left"
          },
          "hovermode": "closest",
          "mapbox": {
           "style": "light"
          },
          "paper_bgcolor": "white",
          "plot_bgcolor": "#E5ECF6",
          "polar": {
           "angularaxis": {
            "gridcolor": "white",
            "linecolor": "white",
            "ticks": ""
           },
           "bgcolor": "#E5ECF6",
           "radialaxis": {
            "gridcolor": "white",
            "linecolor": "white",
            "ticks": ""
           }
          },
          "scene": {
           "xaxis": {
            "backgroundcolor": "#E5ECF6",
            "gridcolor": "white",
            "gridwidth": 2,
            "linecolor": "white",
            "showbackground": true,
            "ticks": "",
            "zerolinecolor": "white"
           },
           "yaxis": {
            "backgroundcolor": "#E5ECF6",
            "gridcolor": "white",
            "gridwidth": 2,
            "linecolor": "white",
            "showbackground": true,
            "ticks": "",
            "zerolinecolor": "white"
           },
           "zaxis": {
            "backgroundcolor": "#E5ECF6",
            "gridcolor": "white",
            "gridwidth": 2,
            "linecolor": "white",
            "showbackground": true,
            "ticks": "",
            "zerolinecolor": "white"
           }
          },
          "shapedefaults": {
           "line": {
            "color": "#2a3f5f"
           }
          },
          "ternary": {
           "aaxis": {
            "gridcolor": "white",
            "linecolor": "white",
            "ticks": ""
           },
           "baxis": {
            "gridcolor": "white",
            "linecolor": "white",
            "ticks": ""
           },
           "bgcolor": "#E5ECF6",
           "caxis": {
            "gridcolor": "white",
            "linecolor": "white",
            "ticks": ""
           }
          },
          "title": {
           "x": 0.05
          },
          "xaxis": {
           "automargin": true,
           "gridcolor": "white",
           "linecolor": "white",
           "ticks": "",
           "title": {
            "standoff": 15
           },
           "zerolinecolor": "white",
           "zerolinewidth": 2
          },
          "yaxis": {
           "automargin": true,
           "gridcolor": "white",
           "linecolor": "white",
           "ticks": "",
           "title": {
            "standoff": 15
           },
           "zerolinecolor": "white",
           "zerolinewidth": 2
          }
         }
        }
       }
      },
      "text/html": [
       "<div>                            <div id=\"07471b3d-c592-4bda-b7bd-5708c2518353\" class=\"plotly-graph-div\" style=\"height:525px; width:100%;\"></div>            <script type=\"text/javascript\">                require([\"plotly\"], function(Plotly) {                    window.PLOTLYENV=window.PLOTLYENV || {};                                    if (document.getElementById(\"07471b3d-c592-4bda-b7bd-5708c2518353\")) {                    Plotly.newPlot(                        \"07471b3d-c592-4bda-b7bd-5708c2518353\",                        [{\"marker\":{\"color\":\"blue\"},\"name\":\"Unique Operators\",\"x\":[1.2,1.0,15.0,16.0,16.0,16.0,4.0,10.0,15.0,15.0,19.0,9.0,17.0,14.0,22.0,19.0,14.0,8.0,12.0,8.0,10.0,7.0,6.0,11.0,12.0,4.0,5.0,15.0,19.0,45.0,15.0,69.0,36.0,13.0,14.0,18.0,13.0,15.0,17.0,19.0,15.0,21.0,16.0,21.0,24.0,17.0,7.0,13.0,4.0,20.0,25.0,12.0,18.0,21.0,12.0,11.0,16.0,6.0,17.0,22.0,18.0,15.0,15.0,10.0,7.0,17.0,14.0,25.0,21.0,21.0,16.0,19.0,11.0,26.0,7.0,12.0,11.0,11.0,14.0,25.0,23.0,4.0,20.0,5.0,9.0,9.0,9.0,5.0,16.0,9.0,9.0,7.0,8.0,17.0,7.0,15.0,5.0,6.0,7.0,12.0,9.0,11.0,34.0,15.0,12.0,23.0,15.0,15.0,17.0,5.0,6.0,4.0,35.0,36.0,17.0,16.0,15.0,12.0,36.0,46.0,11.0,25.0,5.0,17.0,16.0,17.0,29.0,21.0,4.0,4.0,19.0,4.0,4.0,4.0,4.0,17.0,17.0,5.0,16.0,31.0,4.0,12.0,5.0,10.0,7.0,10.0,10.0,15.0,16.0,16.0,6.0,14.0,23.0,3.0,4.0,5.0,4.0,31.0,32.0,4.0,4.0,22.0,3.0,4.0,5.0,5.0,3.0,18.0,6.0,20.0,15.0,13.0,18.0,4.0,13.0,12.0,8.0,4.0,11.0,7.0,10.0,3.0,7.0,6.0,17.0,19.0,14.0,17.0,19.0,16.0,19.0,6.0,15.0,5.0,10.0,7.0,6.0,11.0,12.0,4.0,5.0,25.0,3.0,24.0,3.0,24.0,27.0,3.0,3.0,17.0,4.0,32.0,12.0,21.0,19.0,22.0,10.0,14.0,14.0,14.0,4.0,14.0,17.0,21.0,7.0,28.0,9.0,9.0,9.0,9.0,9.0,9.0,9.0,12.0,12.0,18.0,10.0,11.0,11.0,11.0,32.0,27.0,7.0,19.0,19.0,16.0,9.0,9.0,9.0,10.0,9.0,20.0,13.0,33.0,26.0,44.0,36.0,8.0,8.0,11.0,20.0,10.0,16.0,13.0,11.0,35.0,13.0,13.0,17.0,8.0,15.0,4.0,9.0,49.0,31.0,27.0,20.0,15.0,10.0,17.0,12.0,3.0,28.0,28.0,31.0,31.0,19.0,19.0,20.0,20.0,23.0,23.0,23.0,29.0,19.0,20.0,17.0,25.0,11.0,17.0,38.0,8.0,26.0,20.0,16.0,4.0,16.0,24.0,32.0,24.0,4.0,19.0,10.0,13.0,7.0,7.0,6.0,6.0,11.0,9.0,5.0,10.0,6.0,9.0,11.0,13.0,6.0,24.0,9.0,11.0,9.0,9.0,12.0,24.0,18.0,9.0,14.0,4.0,10.0,12.0,13.0,16.0,5.0,16.0,14.0,32.0,10.0,12.0,3.0,8.0,23.0,19.0,20.0,21.0,72.0,11.0,7.0,24.0,32.0,14.0,21.0,32.0,8.0,14.0,20.0,31.0,18.0,26.0,27.0,10.0,21.0,33.0,33.0,7.0,11.0,4.0,3.0,17.0,7.0,9.0,13.0,4.0,3.0,9.0,8.0,13.0,9.0,9.0,16.0,5.0,10.0,9.0,11.0,5.0,10.0,9.0,11.0,1.0,1.0,1.0,4.0,7.0,11.0,3.0,5.0,8.0,12.0,11.0,29.0,16.0,26.0,11.0,11.0,14.0,15.0,15.0,13.0,17.0,17.0,17.0,19.0,16.0,10.0,13.0,20.0,13.0,18.0,19.0,14.0,17.0,9.0,6.0,22.0,5.0,35.0,20.0,9.0,4.0,9.0,21.0,13.0,7.0,10.0,7.0,6.0,11.0,12.0,4.0,5.0,10.0,27.0,22.0,26.0,19.0,19.0,24.0,25.0,24.0,52.0,12.0,12.0,50.0,20.0,28.0,19.0,32.0,48.0,24.0,38.0,17.0,32.0,15.0,21.0,20.0,11.0,26.0,12.0,17.0,26.0,8.0,34.0,19.0,32.0,14.0,37.0,9.0,15.0,14.0,19.0,18.0,10.0,20.0,22.0,23.0,22.0,32.0,13.0,20.0],\"type\":\"box\"}],                        {\"template\":{\"data\":{\"barpolar\":[{\"marker\":{\"line\":{\"color\":\"#E5ECF6\",\"width\":0.5},\"pattern\":{\"fillmode\":\"overlay\",\"size\":10,\"solidity\":0.2}},\"type\":\"barpolar\"}],\"bar\":[{\"error_x\":{\"color\":\"#2a3f5f\"},\"error_y\":{\"color\":\"#2a3f5f\"},\"marker\":{\"line\":{\"color\":\"#E5ECF6\",\"width\":0.5},\"pattern\":{\"fillmode\":\"overlay\",\"size\":10,\"solidity\":0.2}},\"type\":\"bar\"}],\"carpet\":[{\"aaxis\":{\"endlinecolor\":\"#2a3f5f\",\"gridcolor\":\"white\",\"linecolor\":\"white\",\"minorgridcolor\":\"white\",\"startlinecolor\":\"#2a3f5f\"},\"baxis\":{\"endlinecolor\":\"#2a3f5f\",\"gridcolor\":\"white\",\"linecolor\":\"white\",\"minorgridcolor\":\"white\",\"startlinecolor\":\"#2a3f5f\"},\"type\":\"carpet\"}],\"choropleth\":[{\"colorbar\":{\"outlinewidth\":0,\"ticks\":\"\"},\"type\":\"choropleth\"}],\"contourcarpet\":[{\"colorbar\":{\"outlinewidth\":0,\"ticks\":\"\"},\"type\":\"contourcarpet\"}],\"contour\":[{\"colorbar\":{\"outlinewidth\":0,\"ticks\":\"\"},\"colorscale\":[[0.0,\"#0d0887\"],[0.1111111111111111,\"#46039f\"],[0.2222222222222222,\"#7201a8\"],[0.3333333333333333,\"#9c179e\"],[0.4444444444444444,\"#bd3786\"],[0.5555555555555556,\"#d8576b\"],[0.6666666666666666,\"#ed7953\"],[0.7777777777777778,\"#fb9f3a\"],[0.8888888888888888,\"#fdca26\"],[1.0,\"#f0f921\"]],\"type\":\"contour\"}],\"heatmapgl\":[{\"colorbar\":{\"outlinewidth\":0,\"ticks\":\"\"},\"colorscale\":[[0.0,\"#0d0887\"],[0.1111111111111111,\"#46039f\"],[0.2222222222222222,\"#7201a8\"],[0.3333333333333333,\"#9c179e\"],[0.4444444444444444,\"#bd3786\"],[0.5555555555555556,\"#d8576b\"],[0.6666666666666666,\"#ed7953\"],[0.7777777777777778,\"#fb9f3a\"],[0.8888888888888888,\"#fdca26\"],[1.0,\"#f0f921\"]],\"type\":\"heatmapgl\"}],\"heatmap\":[{\"colorbar\":{\"outlinewidth\":0,\"ticks\":\"\"},\"colorscale\":[[0.0,\"#0d0887\"],[0.1111111111111111,\"#46039f\"],[0.2222222222222222,\"#7201a8\"],[0.3333333333333333,\"#9c179e\"],[0.4444444444444444,\"#bd3786\"],[0.5555555555555556,\"#d8576b\"],[0.6666666666666666,\"#ed7953\"],[0.7777777777777778,\"#fb9f3a\"],[0.8888888888888888,\"#fdca26\"],[1.0,\"#f0f921\"]],\"type\":\"heatmap\"}],\"histogram2dcontour\":[{\"colorbar\":{\"outlinewidth\":0,\"ticks\":\"\"},\"colorscale\":[[0.0,\"#0d0887\"],[0.1111111111111111,\"#46039f\"],[0.2222222222222222,\"#7201a8\"],[0.3333333333333333,\"#9c179e\"],[0.4444444444444444,\"#bd3786\"],[0.5555555555555556,\"#d8576b\"],[0.6666666666666666,\"#ed7953\"],[0.7777777777777778,\"#fb9f3a\"],[0.8888888888888888,\"#fdca26\"],[1.0,\"#f0f921\"]],\"type\":\"histogram2dcontour\"}],\"histogram2d\":[{\"colorbar\":{\"outlinewidth\":0,\"ticks\":\"\"},\"colorscale\":[[0.0,\"#0d0887\"],[0.1111111111111111,\"#46039f\"],[0.2222222222222222,\"#7201a8\"],[0.3333333333333333,\"#9c179e\"],[0.4444444444444444,\"#bd3786\"],[0.5555555555555556,\"#d8576b\"],[0.6666666666666666,\"#ed7953\"],[0.7777777777777778,\"#fb9f3a\"],[0.8888888888888888,\"#fdca26\"],[1.0,\"#f0f921\"]],\"type\":\"histogram2d\"}],\"histogram\":[{\"marker\":{\"pattern\":{\"fillmode\":\"overlay\",\"size\":10,\"solidity\":0.2}},\"type\":\"histogram\"}],\"mesh3d\":[{\"colorbar\":{\"outlinewidth\":0,\"ticks\":\"\"},\"type\":\"mesh3d\"}],\"parcoords\":[{\"line\":{\"colorbar\":{\"outlinewidth\":0,\"ticks\":\"\"}},\"type\":\"parcoords\"}],\"pie\":[{\"automargin\":true,\"type\":\"pie\"}],\"scatter3d\":[{\"line\":{\"colorbar\":{\"outlinewidth\":0,\"ticks\":\"\"}},\"marker\":{\"colorbar\":{\"outlinewidth\":0,\"ticks\":\"\"}},\"type\":\"scatter3d\"}],\"scattercarpet\":[{\"marker\":{\"colorbar\":{\"outlinewidth\":0,\"ticks\":\"\"}},\"type\":\"scattercarpet\"}],\"scattergeo\":[{\"marker\":{\"colorbar\":{\"outlinewidth\":0,\"ticks\":\"\"}},\"type\":\"scattergeo\"}],\"scattergl\":[{\"marker\":{\"colorbar\":{\"outlinewidth\":0,\"ticks\":\"\"}},\"type\":\"scattergl\"}],\"scattermapbox\":[{\"marker\":{\"colorbar\":{\"outlinewidth\":0,\"ticks\":\"\"}},\"type\":\"scattermapbox\"}],\"scatterpolargl\":[{\"marker\":{\"colorbar\":{\"outlinewidth\":0,\"ticks\":\"\"}},\"type\":\"scatterpolargl\"}],\"scatterpolar\":[{\"marker\":{\"colorbar\":{\"outlinewidth\":0,\"ticks\":\"\"}},\"type\":\"scatterpolar\"}],\"scatter\":[{\"fillpattern\":{\"fillmode\":\"overlay\",\"size\":10,\"solidity\":0.2},\"type\":\"scatter\"}],\"scatterternary\":[{\"marker\":{\"colorbar\":{\"outlinewidth\":0,\"ticks\":\"\"}},\"type\":\"scatterternary\"}],\"surface\":[{\"colorbar\":{\"outlinewidth\":0,\"ticks\":\"\"},\"colorscale\":[[0.0,\"#0d0887\"],[0.1111111111111111,\"#46039f\"],[0.2222222222222222,\"#7201a8\"],[0.3333333333333333,\"#9c179e\"],[0.4444444444444444,\"#bd3786\"],[0.5555555555555556,\"#d8576b\"],[0.6666666666666666,\"#ed7953\"],[0.7777777777777778,\"#fb9f3a\"],[0.8888888888888888,\"#fdca26\"],[1.0,\"#f0f921\"]],\"type\":\"surface\"}],\"table\":[{\"cells\":{\"fill\":{\"color\":\"#EBF0F8\"},\"line\":{\"color\":\"white\"}},\"header\":{\"fill\":{\"color\":\"#C8D4E3\"},\"line\":{\"color\":\"white\"}},\"type\":\"table\"}]},\"layout\":{\"annotationdefaults\":{\"arrowcolor\":\"#2a3f5f\",\"arrowhead\":0,\"arrowwidth\":1},\"autotypenumbers\":\"strict\",\"coloraxis\":{\"colorbar\":{\"outlinewidth\":0,\"ticks\":\"\"}},\"colorscale\":{\"diverging\":[[0,\"#8e0152\"],[0.1,\"#c51b7d\"],[0.2,\"#de77ae\"],[0.3,\"#f1b6da\"],[0.4,\"#fde0ef\"],[0.5,\"#f7f7f7\"],[0.6,\"#e6f5d0\"],[0.7,\"#b8e186\"],[0.8,\"#7fbc41\"],[0.9,\"#4d9221\"],[1,\"#276419\"]],\"sequential\":[[0.0,\"#0d0887\"],[0.1111111111111111,\"#46039f\"],[0.2222222222222222,\"#7201a8\"],[0.3333333333333333,\"#9c179e\"],[0.4444444444444444,\"#bd3786\"],[0.5555555555555556,\"#d8576b\"],[0.6666666666666666,\"#ed7953\"],[0.7777777777777778,\"#fb9f3a\"],[0.8888888888888888,\"#fdca26\"],[1.0,\"#f0f921\"]],\"sequentialminus\":[[0.0,\"#0d0887\"],[0.1111111111111111,\"#46039f\"],[0.2222222222222222,\"#7201a8\"],[0.3333333333333333,\"#9c179e\"],[0.4444444444444444,\"#bd3786\"],[0.5555555555555556,\"#d8576b\"],[0.6666666666666666,\"#ed7953\"],[0.7777777777777778,\"#fb9f3a\"],[0.8888888888888888,\"#fdca26\"],[1.0,\"#f0f921\"]]},\"colorway\":[\"#636efa\",\"#EF553B\",\"#00cc96\",\"#ab63fa\",\"#FFA15A\",\"#19d3f3\",\"#FF6692\",\"#B6E880\",\"#FF97FF\",\"#FECB52\"],\"font\":{\"color\":\"#2a3f5f\"},\"geo\":{\"bgcolor\":\"white\",\"lakecolor\":\"white\",\"landcolor\":\"#E5ECF6\",\"showlakes\":true,\"showland\":true,\"subunitcolor\":\"white\"},\"hoverlabel\":{\"align\":\"left\"},\"hovermode\":\"closest\",\"mapbox\":{\"style\":\"light\"},\"paper_bgcolor\":\"white\",\"plot_bgcolor\":\"#E5ECF6\",\"polar\":{\"angularaxis\":{\"gridcolor\":\"white\",\"linecolor\":\"white\",\"ticks\":\"\"},\"bgcolor\":\"#E5ECF6\",\"radialaxis\":{\"gridcolor\":\"white\",\"linecolor\":\"white\",\"ticks\":\"\"}},\"scene\":{\"xaxis\":{\"backgroundcolor\":\"#E5ECF6\",\"gridcolor\":\"white\",\"gridwidth\":2,\"linecolor\":\"white\",\"showbackground\":true,\"ticks\":\"\",\"zerolinecolor\":\"white\"},\"yaxis\":{\"backgroundcolor\":\"#E5ECF6\",\"gridcolor\":\"white\",\"gridwidth\":2,\"linecolor\":\"white\",\"showbackground\":true,\"ticks\":\"\",\"zerolinecolor\":\"white\"},\"zaxis\":{\"backgroundcolor\":\"#E5ECF6\",\"gridcolor\":\"white\",\"gridwidth\":2,\"linecolor\":\"white\",\"showbackground\":true,\"ticks\":\"\",\"zerolinecolor\":\"white\"}},\"shapedefaults\":{\"line\":{\"color\":\"#2a3f5f\"}},\"ternary\":{\"aaxis\":{\"gridcolor\":\"white\",\"linecolor\":\"white\",\"ticks\":\"\"},\"baxis\":{\"gridcolor\":\"white\",\"linecolor\":\"white\",\"ticks\":\"\"},\"bgcolor\":\"#E5ECF6\",\"caxis\":{\"gridcolor\":\"white\",\"linecolor\":\"white\",\"ticks\":\"\"}},\"title\":{\"x\":0.05},\"xaxis\":{\"automargin\":true,\"gridcolor\":\"white\",\"linecolor\":\"white\",\"ticks\":\"\",\"title\":{\"standoff\":15},\"zerolinecolor\":\"white\",\"zerolinewidth\":2},\"yaxis\":{\"automargin\":true,\"gridcolor\":\"white\",\"linecolor\":\"white\",\"ticks\":\"\",\"title\":{\"standoff\":15},\"zerolinecolor\":\"white\",\"zerolinewidth\":2}}}},                        {\"responsive\": true}                    ).then(function(){\n",
       "                            \n",
       "var gd = document.getElementById('07471b3d-c592-4bda-b7bd-5708c2518353');\n",
       "var x = new MutationObserver(function (mutations, observer) {{\n",
       "        var display = window.getComputedStyle(gd).display;\n",
       "        if (!display || display === 'none') {{\n",
       "            console.log([gd, 'removed!']);\n",
       "            Plotly.purge(gd);\n",
       "            observer.disconnect();\n",
       "        }}\n",
       "}});\n",
       "\n",
       "// Listen for the removal of the full notebook cells\n",
       "var notebookContainer = gd.closest('#notebook-container');\n",
       "if (notebookContainer) {{\n",
       "    x.observe(notebookContainer, {childList: true});\n",
       "}}\n",
       "\n",
       "// Listen for the clearing of the current output cell\n",
       "var outputEl = gd.closest('.output');\n",
       "if (outputEl) {{\n",
       "    x.observe(outputEl, {childList: true});\n",
       "}}\n",
       "\n",
       "                        })                };                });            </script>        </div>"
      ]
     },
     "metadata": {},
     "output_type": "display_data"
    }
   ],
   "source": [
    "trace1 = go.Box(\n",
    "    x = data.uniq_Op,\n",
    "    name = 'Unique Operators',\n",
    "    marker = dict(color = 'blue')\n",
    "    )\n",
    "box_data = [trace1]\n",
    "iplot(box_data)"
   ]
  },
  {
   "cell_type": "code",
   "execution_count": 10,
   "metadata": {},
   "outputs": [],
   "source": [
    "def evaluation_control(data):    \n",
    "    evaluation = (data.n < 300) & (data.v < 1000 ) & (data.d < 50) & (data.e < 500000) & (data.t < 5000)\n",
    "    data['complexityEvaluation'] = pd.DataFrame(evaluation)\n",
    "    data['complexityEvaluation'] = ['Succesful' if evaluation == True else 'Redesign' for evaluation in data.complexityEvaluation]"
   ]
  },
  {
   "cell_type": "code",
   "execution_count": 11,
   "metadata": {},
   "outputs": [
    {
     "data": {
      "text/html": [
       "<div>\n",
       "<style scoped>\n",
       "    .dataframe tbody tr th:only-of-type {\n",
       "        vertical-align: middle;\n",
       "    }\n",
       "\n",
       "    .dataframe tbody tr th {\n",
       "        vertical-align: top;\n",
       "    }\n",
       "\n",
       "    .dataframe thead th {\n",
       "        text-align: right;\n",
       "    }\n",
       "</style>\n",
       "<table border=\"1\" class=\"dataframe\">\n",
       "  <thead>\n",
       "    <tr style=\"text-align: right;\">\n",
       "      <th></th>\n",
       "      <th>loc</th>\n",
       "      <th>v(g)</th>\n",
       "      <th>ev(g)</th>\n",
       "      <th>iv(g)</th>\n",
       "      <th>n</th>\n",
       "      <th>v</th>\n",
       "      <th>l</th>\n",
       "      <th>d</th>\n",
       "      <th>i</th>\n",
       "      <th>e</th>\n",
       "      <th>...</th>\n",
       "      <th>lOComment</th>\n",
       "      <th>lOBlank</th>\n",
       "      <th>locCodeAndComment</th>\n",
       "      <th>uniq_Op</th>\n",
       "      <th>uniq_Opnd</th>\n",
       "      <th>total_Op</th>\n",
       "      <th>total_Opnd</th>\n",
       "      <th>branchCount</th>\n",
       "      <th>defects</th>\n",
       "      <th>complexityEvaluation</th>\n",
       "    </tr>\n",
       "  </thead>\n",
       "  <tbody>\n",
       "    <tr>\n",
       "      <th>0</th>\n",
       "      <td>1.1</td>\n",
       "      <td>1.4</td>\n",
       "      <td>1.4</td>\n",
       "      <td>1.4</td>\n",
       "      <td>1.3</td>\n",
       "      <td>1.30</td>\n",
       "      <td>1.30</td>\n",
       "      <td>1.30</td>\n",
       "      <td>1.30</td>\n",
       "      <td>1.30</td>\n",
       "      <td>...</td>\n",
       "      <td>2</td>\n",
       "      <td>2</td>\n",
       "      <td>2</td>\n",
       "      <td>1.2</td>\n",
       "      <td>1.2</td>\n",
       "      <td>1.2</td>\n",
       "      <td>1.2</td>\n",
       "      <td>1.4</td>\n",
       "      <td>False</td>\n",
       "      <td>Succesful</td>\n",
       "    </tr>\n",
       "    <tr>\n",
       "      <th>1</th>\n",
       "      <td>1.0</td>\n",
       "      <td>1.0</td>\n",
       "      <td>1.0</td>\n",
       "      <td>1.0</td>\n",
       "      <td>1.0</td>\n",
       "      <td>1.00</td>\n",
       "      <td>1.00</td>\n",
       "      <td>1.00</td>\n",
       "      <td>1.00</td>\n",
       "      <td>1.00</td>\n",
       "      <td>...</td>\n",
       "      <td>1</td>\n",
       "      <td>1</td>\n",
       "      <td>1</td>\n",
       "      <td>1.0</td>\n",
       "      <td>1.0</td>\n",
       "      <td>1.0</td>\n",
       "      <td>1.0</td>\n",
       "      <td>1.0</td>\n",
       "      <td>True</td>\n",
       "      <td>Succesful</td>\n",
       "    </tr>\n",
       "    <tr>\n",
       "      <th>2</th>\n",
       "      <td>24.0</td>\n",
       "      <td>5.0</td>\n",
       "      <td>1.0</td>\n",
       "      <td>3.0</td>\n",
       "      <td>63.0</td>\n",
       "      <td>309.13</td>\n",
       "      <td>0.11</td>\n",
       "      <td>9.50</td>\n",
       "      <td>32.54</td>\n",
       "      <td>2936.77</td>\n",
       "      <td>...</td>\n",
       "      <td>0</td>\n",
       "      <td>6</td>\n",
       "      <td>0</td>\n",
       "      <td>15.0</td>\n",
       "      <td>15.0</td>\n",
       "      <td>44.0</td>\n",
       "      <td>19.0</td>\n",
       "      <td>9.0</td>\n",
       "      <td>False</td>\n",
       "      <td>Succesful</td>\n",
       "    </tr>\n",
       "    <tr>\n",
       "      <th>3</th>\n",
       "      <td>20.0</td>\n",
       "      <td>4.0</td>\n",
       "      <td>4.0</td>\n",
       "      <td>2.0</td>\n",
       "      <td>47.0</td>\n",
       "      <td>215.49</td>\n",
       "      <td>0.06</td>\n",
       "      <td>16.00</td>\n",
       "      <td>13.47</td>\n",
       "      <td>3447.89</td>\n",
       "      <td>...</td>\n",
       "      <td>0</td>\n",
       "      <td>3</td>\n",
       "      <td>0</td>\n",
       "      <td>16.0</td>\n",
       "      <td>8.0</td>\n",
       "      <td>31.0</td>\n",
       "      <td>16.0</td>\n",
       "      <td>7.0</td>\n",
       "      <td>False</td>\n",
       "      <td>Succesful</td>\n",
       "    </tr>\n",
       "    <tr>\n",
       "      <th>4</th>\n",
       "      <td>24.0</td>\n",
       "      <td>6.0</td>\n",
       "      <td>6.0</td>\n",
       "      <td>2.0</td>\n",
       "      <td>72.0</td>\n",
       "      <td>346.13</td>\n",
       "      <td>0.06</td>\n",
       "      <td>17.33</td>\n",
       "      <td>19.97</td>\n",
       "      <td>5999.58</td>\n",
       "      <td>...</td>\n",
       "      <td>0</td>\n",
       "      <td>3</td>\n",
       "      <td>0</td>\n",
       "      <td>16.0</td>\n",
       "      <td>12.0</td>\n",
       "      <td>46.0</td>\n",
       "      <td>26.0</td>\n",
       "      <td>11.0</td>\n",
       "      <td>False</td>\n",
       "      <td>Succesful</td>\n",
       "    </tr>\n",
       "    <tr>\n",
       "      <th>...</th>\n",
       "      <td>...</td>\n",
       "      <td>...</td>\n",
       "      <td>...</td>\n",
       "      <td>...</td>\n",
       "      <td>...</td>\n",
       "      <td>...</td>\n",
       "      <td>...</td>\n",
       "      <td>...</td>\n",
       "      <td>...</td>\n",
       "      <td>...</td>\n",
       "      <td>...</td>\n",
       "      <td>...</td>\n",
       "      <td>...</td>\n",
       "      <td>...</td>\n",
       "      <td>...</td>\n",
       "      <td>...</td>\n",
       "      <td>...</td>\n",
       "      <td>...</td>\n",
       "      <td>...</td>\n",
       "      <td>...</td>\n",
       "      <td>...</td>\n",
       "    </tr>\n",
       "    <tr>\n",
       "      <th>493</th>\n",
       "      <td>47.0</td>\n",
       "      <td>3.0</td>\n",
       "      <td>1.0</td>\n",
       "      <td>3.0</td>\n",
       "      <td>256.0</td>\n",
       "      <td>1563.78</td>\n",
       "      <td>0.04</td>\n",
       "      <td>28.00</td>\n",
       "      <td>55.85</td>\n",
       "      <td>43785.90</td>\n",
       "      <td>...</td>\n",
       "      <td>13</td>\n",
       "      <td>2</td>\n",
       "      <td>0</td>\n",
       "      <td>23.0</td>\n",
       "      <td>46.0</td>\n",
       "      <td>144.0</td>\n",
       "      <td>112.0</td>\n",
       "      <td>5.0</td>\n",
       "      <td>True</td>\n",
       "      <td>Redesign</td>\n",
       "    </tr>\n",
       "    <tr>\n",
       "      <th>494</th>\n",
       "      <td>24.0</td>\n",
       "      <td>4.0</td>\n",
       "      <td>3.0</td>\n",
       "      <td>3.0</td>\n",
       "      <td>107.0</td>\n",
       "      <td>587.63</td>\n",
       "      <td>0.05</td>\n",
       "      <td>19.13</td>\n",
       "      <td>30.72</td>\n",
       "      <td>11241.58</td>\n",
       "      <td>...</td>\n",
       "      <td>7</td>\n",
       "      <td>4</td>\n",
       "      <td>0</td>\n",
       "      <td>22.0</td>\n",
       "      <td>23.0</td>\n",
       "      <td>67.0</td>\n",
       "      <td>40.0</td>\n",
       "      <td>7.0</td>\n",
       "      <td>True</td>\n",
       "      <td>Succesful</td>\n",
       "    </tr>\n",
       "    <tr>\n",
       "      <th>495</th>\n",
       "      <td>82.0</td>\n",
       "      <td>11.0</td>\n",
       "      <td>3.0</td>\n",
       "      <td>10.0</td>\n",
       "      <td>475.0</td>\n",
       "      <td>3155.83</td>\n",
       "      <td>0.02</td>\n",
       "      <td>44.71</td>\n",
       "      <td>70.59</td>\n",
       "      <td>141084.24</td>\n",
       "      <td>...</td>\n",
       "      <td>59</td>\n",
       "      <td>35</td>\n",
       "      <td>0</td>\n",
       "      <td>32.0</td>\n",
       "      <td>68.0</td>\n",
       "      <td>285.0</td>\n",
       "      <td>190.0</td>\n",
       "      <td>21.0</td>\n",
       "      <td>True</td>\n",
       "      <td>Redesign</td>\n",
       "    </tr>\n",
       "    <tr>\n",
       "      <th>496</th>\n",
       "      <td>10.0</td>\n",
       "      <td>2.0</td>\n",
       "      <td>1.0</td>\n",
       "      <td>1.0</td>\n",
       "      <td>32.0</td>\n",
       "      <td>150.41</td>\n",
       "      <td>0.15</td>\n",
       "      <td>6.50</td>\n",
       "      <td>23.14</td>\n",
       "      <td>977.69</td>\n",
       "      <td>...</td>\n",
       "      <td>12</td>\n",
       "      <td>4</td>\n",
       "      <td>0</td>\n",
       "      <td>13.0</td>\n",
       "      <td>13.0</td>\n",
       "      <td>19.0</td>\n",
       "      <td>13.0</td>\n",
       "      <td>3.0</td>\n",
       "      <td>True</td>\n",
       "      <td>Succesful</td>\n",
       "    </tr>\n",
       "    <tr>\n",
       "      <th>497</th>\n",
       "      <td>28.0</td>\n",
       "      <td>6.0</td>\n",
       "      <td>5.0</td>\n",
       "      <td>5.0</td>\n",
       "      <td>104.0</td>\n",
       "      <td>564.33</td>\n",
       "      <td>0.06</td>\n",
       "      <td>16.09</td>\n",
       "      <td>35.08</td>\n",
       "      <td>9078.38</td>\n",
       "      <td>...</td>\n",
       "      <td>7</td>\n",
       "      <td>0</td>\n",
       "      <td>0</td>\n",
       "      <td>20.0</td>\n",
       "      <td>23.0</td>\n",
       "      <td>67.0</td>\n",
       "      <td>37.0</td>\n",
       "      <td>11.0</td>\n",
       "      <td>True</td>\n",
       "      <td>Succesful</td>\n",
       "    </tr>\n",
       "  </tbody>\n",
       "</table>\n",
       "<p>498 rows × 23 columns</p>\n",
       "</div>"
      ],
      "text/plain": [
       "      loc  v(g)  ev(g)  iv(g)      n        v     l      d      i          e  \\\n",
       "0     1.1   1.4    1.4    1.4    1.3     1.30  1.30   1.30   1.30       1.30   \n",
       "1     1.0   1.0    1.0    1.0    1.0     1.00  1.00   1.00   1.00       1.00   \n",
       "2    24.0   5.0    1.0    3.0   63.0   309.13  0.11   9.50  32.54    2936.77   \n",
       "3    20.0   4.0    4.0    2.0   47.0   215.49  0.06  16.00  13.47    3447.89   \n",
       "4    24.0   6.0    6.0    2.0   72.0   346.13  0.06  17.33  19.97    5999.58   \n",
       "..    ...   ...    ...    ...    ...      ...   ...    ...    ...        ...   \n",
       "493  47.0   3.0    1.0    3.0  256.0  1563.78  0.04  28.00  55.85   43785.90   \n",
       "494  24.0   4.0    3.0    3.0  107.0   587.63  0.05  19.13  30.72   11241.58   \n",
       "495  82.0  11.0    3.0   10.0  475.0  3155.83  0.02  44.71  70.59  141084.24   \n",
       "496  10.0   2.0    1.0    1.0   32.0   150.41  0.15   6.50  23.14     977.69   \n",
       "497  28.0   6.0    5.0    5.0  104.0   564.33  0.06  16.09  35.08    9078.38   \n",
       "\n",
       "     ...  lOComment  lOBlank  locCodeAndComment  uniq_Op  uniq_Opnd  total_Op  \\\n",
       "0    ...          2        2                  2      1.2        1.2       1.2   \n",
       "1    ...          1        1                  1      1.0        1.0       1.0   \n",
       "2    ...          0        6                  0     15.0       15.0      44.0   \n",
       "3    ...          0        3                  0     16.0        8.0      31.0   \n",
       "4    ...          0        3                  0     16.0       12.0      46.0   \n",
       "..   ...        ...      ...                ...      ...        ...       ...   \n",
       "493  ...         13        2                  0     23.0       46.0     144.0   \n",
       "494  ...          7        4                  0     22.0       23.0      67.0   \n",
       "495  ...         59       35                  0     32.0       68.0     285.0   \n",
       "496  ...         12        4                  0     13.0       13.0      19.0   \n",
       "497  ...          7        0                  0     20.0       23.0      67.0   \n",
       "\n",
       "     total_Opnd  branchCount  defects  complexityEvaluation  \n",
       "0           1.2          1.4    False             Succesful  \n",
       "1           1.0          1.0     True             Succesful  \n",
       "2          19.0          9.0    False             Succesful  \n",
       "3          16.0          7.0    False             Succesful  \n",
       "4          26.0         11.0    False             Succesful  \n",
       "..          ...          ...      ...                   ...  \n",
       "493       112.0          5.0     True              Redesign  \n",
       "494        40.0          7.0     True             Succesful  \n",
       "495       190.0         21.0     True              Redesign  \n",
       "496        13.0          3.0     True             Succesful  \n",
       "497        37.0         11.0     True             Succesful  \n",
       "\n",
       "[498 rows x 23 columns]"
      ]
     },
     "execution_count": 11,
     "metadata": {},
     "output_type": "execute_result"
    }
   ],
   "source": [
    "evaluation_control(data)\n",
    "data"
   ]
  },
  {
   "cell_type": "code",
   "execution_count": 12,
   "metadata": {},
   "outputs": [
    {
     "name": "stdout",
     "output_type": "stream",
     "text": [
      "<class 'pandas.core.frame.DataFrame'>\n",
      "RangeIndex: 498 entries, 0 to 497\n",
      "Data columns (total 23 columns):\n",
      " #   Column                Non-Null Count  Dtype  \n",
      "---  ------                --------------  -----  \n",
      " 0   loc                   498 non-null    float64\n",
      " 1   v(g)                  498 non-null    float64\n",
      " 2   ev(g)                 498 non-null    float64\n",
      " 3   iv(g)                 498 non-null    float64\n",
      " 4   n                     498 non-null    float64\n",
      " 5   v                     498 non-null    float64\n",
      " 6   l                     498 non-null    float64\n",
      " 7   d                     498 non-null    float64\n",
      " 8   i                     498 non-null    float64\n",
      " 9   e                     498 non-null    float64\n",
      " 10  b                     498 non-null    float64\n",
      " 11  t                     498 non-null    float64\n",
      " 12  lOCode                498 non-null    int64  \n",
      " 13  lOComment             498 non-null    int64  \n",
      " 14  lOBlank               498 non-null    int64  \n",
      " 15  locCodeAndComment     498 non-null    int64  \n",
      " 16  uniq_Op               498 non-null    float64\n",
      " 17  uniq_Opnd             498 non-null    float64\n",
      " 18  total_Op              498 non-null    float64\n",
      " 19  total_Opnd            498 non-null    float64\n",
      " 20  branchCount           498 non-null    float64\n",
      " 21  defects               498 non-null    bool   \n",
      " 22  complexityEvaluation  498 non-null    object \n",
      "dtypes: bool(1), float64(17), int64(4), object(1)\n",
      "memory usage: 86.2+ KB\n"
     ]
    }
   ],
   "source": [
    "data.info()"
   ]
  },
  {
   "cell_type": "code",
   "execution_count": 13,
   "metadata": {},
   "outputs": [
    {
     "data": {
      "text/plain": [
       "complexityEvaluation\n",
       "Redesign     112\n",
       "Succesful    386\n",
       "dtype: int64"
      ]
     },
     "execution_count": 13,
     "metadata": {},
     "output_type": "execute_result"
    }
   ],
   "source": [
    "data.groupby(\"complexityEvaluation\").size()"
   ]
  },
  {
   "cell_type": "code",
   "execution_count": 14,
   "metadata": {},
   "outputs": [
    {
     "data": {
      "application/vnd.plotly.v1+json": {
       "config": {
        "linkText": "Export to plot.ly",
        "plotlyServerURL": "https://plot.ly",
        "showLink": false
       },
       "data": [
        {
         "marker": {
          "color": "darkorange"
         },
         "name": "Complexity Evaluation",
         "opacity": 0.75,
         "type": "histogram",
         "x": [
          "Succesful",
          "Succesful",
          "Succesful",
          "Succesful",
          "Succesful",
          "Succesful",
          "Succesful",
          "Succesful",
          "Succesful",
          "Redesign",
          "Succesful",
          "Succesful",
          "Succesful",
          "Succesful",
          "Redesign",
          "Succesful",
          "Succesful",
          "Succesful",
          "Succesful",
          "Succesful",
          "Succesful",
          "Succesful",
          "Succesful",
          "Succesful",
          "Succesful",
          "Succesful",
          "Succesful",
          "Succesful",
          "Redesign",
          "Redesign",
          "Succesful",
          "Redesign",
          "Redesign",
          "Redesign",
          "Succesful",
          "Succesful",
          "Succesful",
          "Succesful",
          "Succesful",
          "Succesful",
          "Succesful",
          "Succesful",
          "Succesful",
          "Redesign",
          "Redesign",
          "Redesign",
          "Succesful",
          "Succesful",
          "Succesful",
          "Redesign",
          "Redesign",
          "Succesful",
          "Redesign",
          "Succesful",
          "Succesful",
          "Succesful",
          "Succesful",
          "Succesful",
          "Succesful",
          "Redesign",
          "Succesful",
          "Succesful",
          "Succesful",
          "Succesful",
          "Succesful",
          "Succesful",
          "Succesful",
          "Redesign",
          "Succesful",
          "Succesful",
          "Redesign",
          "Succesful",
          "Succesful",
          "Redesign",
          "Succesful",
          "Succesful",
          "Succesful",
          "Succesful",
          "Succesful",
          "Succesful",
          "Succesful",
          "Succesful",
          "Succesful",
          "Succesful",
          "Succesful",
          "Succesful",
          "Succesful",
          "Succesful",
          "Succesful",
          "Succesful",
          "Succesful",
          "Succesful",
          "Succesful",
          "Succesful",
          "Succesful",
          "Succesful",
          "Succesful",
          "Succesful",
          "Succesful",
          "Succesful",
          "Succesful",
          "Succesful",
          "Redesign",
          "Succesful",
          "Succesful",
          "Redesign",
          "Succesful",
          "Succesful",
          "Redesign",
          "Succesful",
          "Succesful",
          "Succesful",
          "Redesign",
          "Redesign",
          "Succesful",
          "Succesful",
          "Succesful",
          "Succesful",
          "Redesign",
          "Redesign",
          "Succesful",
          "Redesign",
          "Succesful",
          "Succesful",
          "Succesful",
          "Succesful",
          "Redesign",
          "Redesign",
          "Succesful",
          "Succesful",
          "Succesful",
          "Succesful",
          "Succesful",
          "Succesful",
          "Succesful",
          "Redesign",
          "Succesful",
          "Succesful",
          "Succesful",
          "Redesign",
          "Succesful",
          "Succesful",
          "Succesful",
          "Succesful",
          "Succesful",
          "Succesful",
          "Succesful",
          "Succesful",
          "Succesful",
          "Succesful",
          "Succesful",
          "Succesful",
          "Redesign",
          "Succesful",
          "Succesful",
          "Succesful",
          "Succesful",
          "Redesign",
          "Redesign",
          "Succesful",
          "Succesful",
          "Redesign",
          "Succesful",
          "Succesful",
          "Succesful",
          "Succesful",
          "Succesful",
          "Succesful",
          "Succesful",
          "Succesful",
          "Succesful",
          "Succesful",
          "Redesign",
          "Succesful",
          "Succesful",
          "Succesful",
          "Succesful",
          "Succesful",
          "Succesful",
          "Succesful",
          "Succesful",
          "Succesful",
          "Succesful",
          "Succesful",
          "Succesful",
          "Succesful",
          "Succesful",
          "Succesful",
          "Redesign",
          "Succesful",
          "Redesign",
          "Succesful",
          "Succesful",
          "Succesful",
          "Succesful",
          "Succesful",
          "Succesful",
          "Succesful",
          "Succesful",
          "Succesful",
          "Succesful",
          "Redesign",
          "Succesful",
          "Succesful",
          "Succesful",
          "Succesful",
          "Redesign",
          "Succesful",
          "Succesful",
          "Succesful",
          "Succesful",
          "Redesign",
          "Succesful",
          "Succesful",
          "Succesful",
          "Succesful",
          "Succesful",
          "Succesful",
          "Succesful",
          "Succesful",
          "Succesful",
          "Succesful",
          "Succesful",
          "Succesful",
          "Succesful",
          "Redesign",
          "Succesful",
          "Succesful",
          "Succesful",
          "Succesful",
          "Succesful",
          "Succesful",
          "Succesful",
          "Succesful",
          "Succesful",
          "Succesful",
          "Succesful",
          "Succesful",
          "Succesful",
          "Succesful",
          "Redesign",
          "Redesign",
          "Succesful",
          "Redesign",
          "Succesful",
          "Succesful",
          "Succesful",
          "Succesful",
          "Succesful",
          "Succesful",
          "Succesful",
          "Succesful",
          "Succesful",
          "Redesign",
          "Succesful",
          "Redesign",
          "Redesign",
          "Succesful",
          "Succesful",
          "Succesful",
          "Succesful",
          "Succesful",
          "Succesful",
          "Succesful",
          "Succesful",
          "Redesign",
          "Succesful",
          "Succesful",
          "Succesful",
          "Succesful",
          "Succesful",
          "Succesful",
          "Succesful",
          "Redesign",
          "Redesign",
          "Redesign",
          "Redesign",
          "Succesful",
          "Succesful",
          "Succesful",
          "Succesful",
          "Succesful",
          "Redesign",
          "Redesign",
          "Redesign",
          "Redesign",
          "Succesful",
          "Succesful",
          "Succesful",
          "Succesful",
          "Redesign",
          "Redesign",
          "Redesign",
          "Redesign",
          "Redesign",
          "Succesful",
          "Redesign",
          "Redesign",
          "Succesful",
          "Succesful",
          "Redesign",
          "Succesful",
          "Redesign",
          "Succesful",
          "Succesful",
          "Succesful",
          "Succesful",
          "Succesful",
          "Redesign",
          "Redesign",
          "Succesful",
          "Succesful",
          "Succesful",
          "Succesful",
          "Succesful",
          "Succesful",
          "Succesful",
          "Succesful",
          "Succesful",
          "Succesful",
          "Succesful",
          "Succesful",
          "Succesful",
          "Succesful",
          "Succesful",
          "Succesful",
          "Succesful",
          "Succesful",
          "Succesful",
          "Succesful",
          "Succesful",
          "Succesful",
          "Succesful",
          "Redesign",
          "Succesful",
          "Succesful",
          "Succesful",
          "Succesful",
          "Succesful",
          "Succesful",
          "Succesful",
          "Succesful",
          "Succesful",
          "Redesign",
          "Succesful",
          "Redesign",
          "Redesign",
          "Succesful",
          "Succesful",
          "Succesful",
          "Succesful",
          "Redesign",
          "Redesign",
          "Succesful",
          "Redesign",
          "Redesign",
          "Succesful",
          "Redesign",
          "Redesign",
          "Succesful",
          "Redesign",
          "Redesign",
          "Succesful",
          "Succesful",
          "Redesign",
          "Redesign",
          "Succesful",
          "Succesful",
          "Succesful",
          "Redesign",
          "Redesign",
          "Redesign",
          "Redesign",
          "Succesful",
          "Succesful",
          "Succesful",
          "Succesful",
          "Succesful",
          "Succesful",
          "Succesful",
          "Succesful",
          "Succesful",
          "Succesful",
          "Succesful",
          "Succesful",
          "Succesful",
          "Succesful",
          "Succesful",
          "Succesful",
          "Succesful",
          "Succesful",
          "Succesful",
          "Succesful",
          "Succesful",
          "Succesful",
          "Succesful",
          "Succesful",
          "Succesful",
          "Succesful",
          "Succesful",
          "Succesful",
          "Succesful",
          "Succesful",
          "Succesful",
          "Succesful",
          "Succesful",
          "Succesful",
          "Succesful",
          "Succesful",
          "Succesful",
          "Succesful",
          "Succesful",
          "Succesful",
          "Succesful",
          "Succesful",
          "Succesful",
          "Succesful",
          "Succesful",
          "Succesful",
          "Succesful",
          "Redesign",
          "Succesful",
          "Succesful",
          "Succesful",
          "Succesful",
          "Succesful",
          "Redesign",
          "Succesful",
          "Succesful",
          "Succesful",
          "Succesful",
          "Succesful",
          "Succesful",
          "Succesful",
          "Redesign",
          "Redesign",
          "Succesful",
          "Succesful",
          "Succesful",
          "Redesign",
          "Succesful",
          "Succesful",
          "Succesful",
          "Succesful",
          "Succesful",
          "Succesful",
          "Succesful",
          "Succesful",
          "Succesful",
          "Succesful",
          "Succesful",
          "Succesful",
          "Redesign",
          "Succesful",
          "Succesful",
          "Redesign",
          "Redesign",
          "Redesign",
          "Redesign",
          "Succesful",
          "Succesful",
          "Redesign",
          "Succesful",
          "Redesign",
          "Succesful",
          "Redesign",
          "Redesign",
          "Redesign",
          "Redesign",
          "Redesign",
          "Redesign",
          "Redesign",
          "Redesign",
          "Succesful",
          "Succesful",
          "Redesign",
          "Succesful",
          "Succesful",
          "Redesign",
          "Succesful",
          "Redesign",
          "Succesful",
          "Redesign",
          "Succesful",
          "Redesign",
          "Succesful",
          "Succesful",
          "Succesful",
          "Succesful",
          "Succesful",
          "Succesful",
          "Succesful",
          "Redesign",
          "Redesign",
          "Succesful",
          "Redesign",
          "Succesful",
          "Succesful"
         ]
        }
       ],
       "layout": {
        "barmode": "overlay",
        "template": {
         "data": {
          "bar": [
           {
            "error_x": {
             "color": "#2a3f5f"
            },
            "error_y": {
             "color": "#2a3f5f"
            },
            "marker": {
             "line": {
              "color": "#E5ECF6",
              "width": 0.5
             },
             "pattern": {
              "fillmode": "overlay",
              "size": 10,
              "solidity": 0.2
             }
            },
            "type": "bar"
           }
          ],
          "barpolar": [
           {
            "marker": {
             "line": {
              "color": "#E5ECF6",
              "width": 0.5
             },
             "pattern": {
              "fillmode": "overlay",
              "size": 10,
              "solidity": 0.2
             }
            },
            "type": "barpolar"
           }
          ],
          "carpet": [
           {
            "aaxis": {
             "endlinecolor": "#2a3f5f",
             "gridcolor": "white",
             "linecolor": "white",
             "minorgridcolor": "white",
             "startlinecolor": "#2a3f5f"
            },
            "baxis": {
             "endlinecolor": "#2a3f5f",
             "gridcolor": "white",
             "linecolor": "white",
             "minorgridcolor": "white",
             "startlinecolor": "#2a3f5f"
            },
            "type": "carpet"
           }
          ],
          "choropleth": [
           {
            "colorbar": {
             "outlinewidth": 0,
             "ticks": ""
            },
            "type": "choropleth"
           }
          ],
          "contour": [
           {
            "colorbar": {
             "outlinewidth": 0,
             "ticks": ""
            },
            "colorscale": [
             [
              0,
              "#0d0887"
             ],
             [
              0.1111111111111111,
              "#46039f"
             ],
             [
              0.2222222222222222,
              "#7201a8"
             ],
             [
              0.3333333333333333,
              "#9c179e"
             ],
             [
              0.4444444444444444,
              "#bd3786"
             ],
             [
              0.5555555555555556,
              "#d8576b"
             ],
             [
              0.6666666666666666,
              "#ed7953"
             ],
             [
              0.7777777777777778,
              "#fb9f3a"
             ],
             [
              0.8888888888888888,
              "#fdca26"
             ],
             [
              1,
              "#f0f921"
             ]
            ],
            "type": "contour"
           }
          ],
          "contourcarpet": [
           {
            "colorbar": {
             "outlinewidth": 0,
             "ticks": ""
            },
            "type": "contourcarpet"
           }
          ],
          "heatmap": [
           {
            "colorbar": {
             "outlinewidth": 0,
             "ticks": ""
            },
            "colorscale": [
             [
              0,
              "#0d0887"
             ],
             [
              0.1111111111111111,
              "#46039f"
             ],
             [
              0.2222222222222222,
              "#7201a8"
             ],
             [
              0.3333333333333333,
              "#9c179e"
             ],
             [
              0.4444444444444444,
              "#bd3786"
             ],
             [
              0.5555555555555556,
              "#d8576b"
             ],
             [
              0.6666666666666666,
              "#ed7953"
             ],
             [
              0.7777777777777778,
              "#fb9f3a"
             ],
             [
              0.8888888888888888,
              "#fdca26"
             ],
             [
              1,
              "#f0f921"
             ]
            ],
            "type": "heatmap"
           }
          ],
          "heatmapgl": [
           {
            "colorbar": {
             "outlinewidth": 0,
             "ticks": ""
            },
            "colorscale": [
             [
              0,
              "#0d0887"
             ],
             [
              0.1111111111111111,
              "#46039f"
             ],
             [
              0.2222222222222222,
              "#7201a8"
             ],
             [
              0.3333333333333333,
              "#9c179e"
             ],
             [
              0.4444444444444444,
              "#bd3786"
             ],
             [
              0.5555555555555556,
              "#d8576b"
             ],
             [
              0.6666666666666666,
              "#ed7953"
             ],
             [
              0.7777777777777778,
              "#fb9f3a"
             ],
             [
              0.8888888888888888,
              "#fdca26"
             ],
             [
              1,
              "#f0f921"
             ]
            ],
            "type": "heatmapgl"
           }
          ],
          "histogram": [
           {
            "marker": {
             "pattern": {
              "fillmode": "overlay",
              "size": 10,
              "solidity": 0.2
             }
            },
            "type": "histogram"
           }
          ],
          "histogram2d": [
           {
            "colorbar": {
             "outlinewidth": 0,
             "ticks": ""
            },
            "colorscale": [
             [
              0,
              "#0d0887"
             ],
             [
              0.1111111111111111,
              "#46039f"
             ],
             [
              0.2222222222222222,
              "#7201a8"
             ],
             [
              0.3333333333333333,
              "#9c179e"
             ],
             [
              0.4444444444444444,
              "#bd3786"
             ],
             [
              0.5555555555555556,
              "#d8576b"
             ],
             [
              0.6666666666666666,
              "#ed7953"
             ],
             [
              0.7777777777777778,
              "#fb9f3a"
             ],
             [
              0.8888888888888888,
              "#fdca26"
             ],
             [
              1,
              "#f0f921"
             ]
            ],
            "type": "histogram2d"
           }
          ],
          "histogram2dcontour": [
           {
            "colorbar": {
             "outlinewidth": 0,
             "ticks": ""
            },
            "colorscale": [
             [
              0,
              "#0d0887"
             ],
             [
              0.1111111111111111,
              "#46039f"
             ],
             [
              0.2222222222222222,
              "#7201a8"
             ],
             [
              0.3333333333333333,
              "#9c179e"
             ],
             [
              0.4444444444444444,
              "#bd3786"
             ],
             [
              0.5555555555555556,
              "#d8576b"
             ],
             [
              0.6666666666666666,
              "#ed7953"
             ],
             [
              0.7777777777777778,
              "#fb9f3a"
             ],
             [
              0.8888888888888888,
              "#fdca26"
             ],
             [
              1,
              "#f0f921"
             ]
            ],
            "type": "histogram2dcontour"
           }
          ],
          "mesh3d": [
           {
            "colorbar": {
             "outlinewidth": 0,
             "ticks": ""
            },
            "type": "mesh3d"
           }
          ],
          "parcoords": [
           {
            "line": {
             "colorbar": {
              "outlinewidth": 0,
              "ticks": ""
             }
            },
            "type": "parcoords"
           }
          ],
          "pie": [
           {
            "automargin": true,
            "type": "pie"
           }
          ],
          "scatter": [
           {
            "fillpattern": {
             "fillmode": "overlay",
             "size": 10,
             "solidity": 0.2
            },
            "type": "scatter"
           }
          ],
          "scatter3d": [
           {
            "line": {
             "colorbar": {
              "outlinewidth": 0,
              "ticks": ""
             }
            },
            "marker": {
             "colorbar": {
              "outlinewidth": 0,
              "ticks": ""
             }
            },
            "type": "scatter3d"
           }
          ],
          "scattercarpet": [
           {
            "marker": {
             "colorbar": {
              "outlinewidth": 0,
              "ticks": ""
             }
            },
            "type": "scattercarpet"
           }
          ],
          "scattergeo": [
           {
            "marker": {
             "colorbar": {
              "outlinewidth": 0,
              "ticks": ""
             }
            },
            "type": "scattergeo"
           }
          ],
          "scattergl": [
           {
            "marker": {
             "colorbar": {
              "outlinewidth": 0,
              "ticks": ""
             }
            },
            "type": "scattergl"
           }
          ],
          "scattermapbox": [
           {
            "marker": {
             "colorbar": {
              "outlinewidth": 0,
              "ticks": ""
             }
            },
            "type": "scattermapbox"
           }
          ],
          "scatterpolar": [
           {
            "marker": {
             "colorbar": {
              "outlinewidth": 0,
              "ticks": ""
             }
            },
            "type": "scatterpolar"
           }
          ],
          "scatterpolargl": [
           {
            "marker": {
             "colorbar": {
              "outlinewidth": 0,
              "ticks": ""
             }
            },
            "type": "scatterpolargl"
           }
          ],
          "scatterternary": [
           {
            "marker": {
             "colorbar": {
              "outlinewidth": 0,
              "ticks": ""
             }
            },
            "type": "scatterternary"
           }
          ],
          "surface": [
           {
            "colorbar": {
             "outlinewidth": 0,
             "ticks": ""
            },
            "colorscale": [
             [
              0,
              "#0d0887"
             ],
             [
              0.1111111111111111,
              "#46039f"
             ],
             [
              0.2222222222222222,
              "#7201a8"
             ],
             [
              0.3333333333333333,
              "#9c179e"
             ],
             [
              0.4444444444444444,
              "#bd3786"
             ],
             [
              0.5555555555555556,
              "#d8576b"
             ],
             [
              0.6666666666666666,
              "#ed7953"
             ],
             [
              0.7777777777777778,
              "#fb9f3a"
             ],
             [
              0.8888888888888888,
              "#fdca26"
             ],
             [
              1,
              "#f0f921"
             ]
            ],
            "type": "surface"
           }
          ],
          "table": [
           {
            "cells": {
             "fill": {
              "color": "#EBF0F8"
             },
             "line": {
              "color": "white"
             }
            },
            "header": {
             "fill": {
              "color": "#C8D4E3"
             },
             "line": {
              "color": "white"
             }
            },
            "type": "table"
           }
          ]
         },
         "layout": {
          "annotationdefaults": {
           "arrowcolor": "#2a3f5f",
           "arrowhead": 0,
           "arrowwidth": 1
          },
          "autotypenumbers": "strict",
          "coloraxis": {
           "colorbar": {
            "outlinewidth": 0,
            "ticks": ""
           }
          },
          "colorscale": {
           "diverging": [
            [
             0,
             "#8e0152"
            ],
            [
             0.1,
             "#c51b7d"
            ],
            [
             0.2,
             "#de77ae"
            ],
            [
             0.3,
             "#f1b6da"
            ],
            [
             0.4,
             "#fde0ef"
            ],
            [
             0.5,
             "#f7f7f7"
            ],
            [
             0.6,
             "#e6f5d0"
            ],
            [
             0.7,
             "#b8e186"
            ],
            [
             0.8,
             "#7fbc41"
            ],
            [
             0.9,
             "#4d9221"
            ],
            [
             1,
             "#276419"
            ]
           ],
           "sequential": [
            [
             0,
             "#0d0887"
            ],
            [
             0.1111111111111111,
             "#46039f"
            ],
            [
             0.2222222222222222,
             "#7201a8"
            ],
            [
             0.3333333333333333,
             "#9c179e"
            ],
            [
             0.4444444444444444,
             "#bd3786"
            ],
            [
             0.5555555555555556,
             "#d8576b"
            ],
            [
             0.6666666666666666,
             "#ed7953"
            ],
            [
             0.7777777777777778,
             "#fb9f3a"
            ],
            [
             0.8888888888888888,
             "#fdca26"
            ],
            [
             1,
             "#f0f921"
            ]
           ],
           "sequentialminus": [
            [
             0,
             "#0d0887"
            ],
            [
             0.1111111111111111,
             "#46039f"
            ],
            [
             0.2222222222222222,
             "#7201a8"
            ],
            [
             0.3333333333333333,
             "#9c179e"
            ],
            [
             0.4444444444444444,
             "#bd3786"
            ],
            [
             0.5555555555555556,
             "#d8576b"
            ],
            [
             0.6666666666666666,
             "#ed7953"
            ],
            [
             0.7777777777777778,
             "#fb9f3a"
            ],
            [
             0.8888888888888888,
             "#fdca26"
            ],
            [
             1,
             "#f0f921"
            ]
           ]
          },
          "colorway": [
           "#636efa",
           "#EF553B",
           "#00cc96",
           "#ab63fa",
           "#FFA15A",
           "#19d3f3",
           "#FF6692",
           "#B6E880",
           "#FF97FF",
           "#FECB52"
          ],
          "font": {
           "color": "#2a3f5f"
          },
          "geo": {
           "bgcolor": "white",
           "lakecolor": "white",
           "landcolor": "#E5ECF6",
           "showlakes": true,
           "showland": true,
           "subunitcolor": "white"
          },
          "hoverlabel": {
           "align": "left"
          },
          "hovermode": "closest",
          "mapbox": {
           "style": "light"
          },
          "paper_bgcolor": "white",
          "plot_bgcolor": "#E5ECF6",
          "polar": {
           "angularaxis": {
            "gridcolor": "white",
            "linecolor": "white",
            "ticks": ""
           },
           "bgcolor": "#E5ECF6",
           "radialaxis": {
            "gridcolor": "white",
            "linecolor": "white",
            "ticks": ""
           }
          },
          "scene": {
           "xaxis": {
            "backgroundcolor": "#E5ECF6",
            "gridcolor": "white",
            "gridwidth": 2,
            "linecolor": "white",
            "showbackground": true,
            "ticks": "",
            "zerolinecolor": "white"
           },
           "yaxis": {
            "backgroundcolor": "#E5ECF6",
            "gridcolor": "white",
            "gridwidth": 2,
            "linecolor": "white",
            "showbackground": true,
            "ticks": "",
            "zerolinecolor": "white"
           },
           "zaxis": {
            "backgroundcolor": "#E5ECF6",
            "gridcolor": "white",
            "gridwidth": 2,
            "linecolor": "white",
            "showbackground": true,
            "ticks": "",
            "zerolinecolor": "white"
           }
          },
          "shapedefaults": {
           "line": {
            "color": "#2a3f5f"
           }
          },
          "ternary": {
           "aaxis": {
            "gridcolor": "white",
            "linecolor": "white",
            "ticks": ""
           },
           "baxis": {
            "gridcolor": "white",
            "linecolor": "white",
            "ticks": ""
           },
           "bgcolor": "#E5ECF6",
           "caxis": {
            "gridcolor": "white",
            "linecolor": "white",
            "ticks": ""
           }
          },
          "title": {
           "x": 0.05
          },
          "xaxis": {
           "automargin": true,
           "gridcolor": "white",
           "linecolor": "white",
           "ticks": "",
           "title": {
            "standoff": 15
           },
           "zerolinecolor": "white",
           "zerolinewidth": 2
          },
          "yaxis": {
           "automargin": true,
           "gridcolor": "white",
           "linecolor": "white",
           "ticks": "",
           "title": {
            "standoff": 15
           },
           "zerolinecolor": "white",
           "zerolinewidth": 2
          }
         }
        },
        "title": {
         "text": "Complexity Evaluation"
        },
        "xaxis": {
         "title": {
          "text": "Succesful - Redesign"
         }
        },
        "yaxis": {
         "title": {
          "text": "Frequency"
         }
        }
       }
      },
      "text/html": [
       "<div>                            <div id=\"18ac03a2-4927-4cbb-b594-58416c9770d4\" class=\"plotly-graph-div\" style=\"height:525px; width:100%;\"></div>            <script type=\"text/javascript\">                require([\"plotly\"], function(Plotly) {                    window.PLOTLYENV=window.PLOTLYENV || {};                                    if (document.getElementById(\"18ac03a2-4927-4cbb-b594-58416c9770d4\")) {                    Plotly.newPlot(                        \"18ac03a2-4927-4cbb-b594-58416c9770d4\",                        [{\"marker\":{\"color\":\"darkorange\"},\"name\":\"Complexity Evaluation\",\"opacity\":0.75,\"x\":[\"Succesful\",\"Succesful\",\"Succesful\",\"Succesful\",\"Succesful\",\"Succesful\",\"Succesful\",\"Succesful\",\"Succesful\",\"Redesign\",\"Succesful\",\"Succesful\",\"Succesful\",\"Succesful\",\"Redesign\",\"Succesful\",\"Succesful\",\"Succesful\",\"Succesful\",\"Succesful\",\"Succesful\",\"Succesful\",\"Succesful\",\"Succesful\",\"Succesful\",\"Succesful\",\"Succesful\",\"Succesful\",\"Redesign\",\"Redesign\",\"Succesful\",\"Redesign\",\"Redesign\",\"Redesign\",\"Succesful\",\"Succesful\",\"Succesful\",\"Succesful\",\"Succesful\",\"Succesful\",\"Succesful\",\"Succesful\",\"Succesful\",\"Redesign\",\"Redesign\",\"Redesign\",\"Succesful\",\"Succesful\",\"Succesful\",\"Redesign\",\"Redesign\",\"Succesful\",\"Redesign\",\"Succesful\",\"Succesful\",\"Succesful\",\"Succesful\",\"Succesful\",\"Succesful\",\"Redesign\",\"Succesful\",\"Succesful\",\"Succesful\",\"Succesful\",\"Succesful\",\"Succesful\",\"Succesful\",\"Redesign\",\"Succesful\",\"Succesful\",\"Redesign\",\"Succesful\",\"Succesful\",\"Redesign\",\"Succesful\",\"Succesful\",\"Succesful\",\"Succesful\",\"Succesful\",\"Succesful\",\"Succesful\",\"Succesful\",\"Succesful\",\"Succesful\",\"Succesful\",\"Succesful\",\"Succesful\",\"Succesful\",\"Succesful\",\"Succesful\",\"Succesful\",\"Succesful\",\"Succesful\",\"Succesful\",\"Succesful\",\"Succesful\",\"Succesful\",\"Succesful\",\"Succesful\",\"Succesful\",\"Succesful\",\"Succesful\",\"Redesign\",\"Succesful\",\"Succesful\",\"Redesign\",\"Succesful\",\"Succesful\",\"Redesign\",\"Succesful\",\"Succesful\",\"Succesful\",\"Redesign\",\"Redesign\",\"Succesful\",\"Succesful\",\"Succesful\",\"Succesful\",\"Redesign\",\"Redesign\",\"Succesful\",\"Redesign\",\"Succesful\",\"Succesful\",\"Succesful\",\"Succesful\",\"Redesign\",\"Redesign\",\"Succesful\",\"Succesful\",\"Succesful\",\"Succesful\",\"Succesful\",\"Succesful\",\"Succesful\",\"Redesign\",\"Succesful\",\"Succesful\",\"Succesful\",\"Redesign\",\"Succesful\",\"Succesful\",\"Succesful\",\"Succesful\",\"Succesful\",\"Succesful\",\"Succesful\",\"Succesful\",\"Succesful\",\"Succesful\",\"Succesful\",\"Succesful\",\"Redesign\",\"Succesful\",\"Succesful\",\"Succesful\",\"Succesful\",\"Redesign\",\"Redesign\",\"Succesful\",\"Succesful\",\"Redesign\",\"Succesful\",\"Succesful\",\"Succesful\",\"Succesful\",\"Succesful\",\"Succesful\",\"Succesful\",\"Succesful\",\"Succesful\",\"Succesful\",\"Redesign\",\"Succesful\",\"Succesful\",\"Succesful\",\"Succesful\",\"Succesful\",\"Succesful\",\"Succesful\",\"Succesful\",\"Succesful\",\"Succesful\",\"Succesful\",\"Succesful\",\"Succesful\",\"Succesful\",\"Succesful\",\"Redesign\",\"Succesful\",\"Redesign\",\"Succesful\",\"Succesful\",\"Succesful\",\"Succesful\",\"Succesful\",\"Succesful\",\"Succesful\",\"Succesful\",\"Succesful\",\"Succesful\",\"Redesign\",\"Succesful\",\"Succesful\",\"Succesful\",\"Succesful\",\"Redesign\",\"Succesful\",\"Succesful\",\"Succesful\",\"Succesful\",\"Redesign\",\"Succesful\",\"Succesful\",\"Succesful\",\"Succesful\",\"Succesful\",\"Succesful\",\"Succesful\",\"Succesful\",\"Succesful\",\"Succesful\",\"Succesful\",\"Succesful\",\"Succesful\",\"Redesign\",\"Succesful\",\"Succesful\",\"Succesful\",\"Succesful\",\"Succesful\",\"Succesful\",\"Succesful\",\"Succesful\",\"Succesful\",\"Succesful\",\"Succesful\",\"Succesful\",\"Succesful\",\"Succesful\",\"Redesign\",\"Redesign\",\"Succesful\",\"Redesign\",\"Succesful\",\"Succesful\",\"Succesful\",\"Succesful\",\"Succesful\",\"Succesful\",\"Succesful\",\"Succesful\",\"Succesful\",\"Redesign\",\"Succesful\",\"Redesign\",\"Redesign\",\"Succesful\",\"Succesful\",\"Succesful\",\"Succesful\",\"Succesful\",\"Succesful\",\"Succesful\",\"Succesful\",\"Redesign\",\"Succesful\",\"Succesful\",\"Succesful\",\"Succesful\",\"Succesful\",\"Succesful\",\"Succesful\",\"Redesign\",\"Redesign\",\"Redesign\",\"Redesign\",\"Succesful\",\"Succesful\",\"Succesful\",\"Succesful\",\"Succesful\",\"Redesign\",\"Redesign\",\"Redesign\",\"Redesign\",\"Succesful\",\"Succesful\",\"Succesful\",\"Succesful\",\"Redesign\",\"Redesign\",\"Redesign\",\"Redesign\",\"Redesign\",\"Succesful\",\"Redesign\",\"Redesign\",\"Succesful\",\"Succesful\",\"Redesign\",\"Succesful\",\"Redesign\",\"Succesful\",\"Succesful\",\"Succesful\",\"Succesful\",\"Succesful\",\"Redesign\",\"Redesign\",\"Succesful\",\"Succesful\",\"Succesful\",\"Succesful\",\"Succesful\",\"Succesful\",\"Succesful\",\"Succesful\",\"Succesful\",\"Succesful\",\"Succesful\",\"Succesful\",\"Succesful\",\"Succesful\",\"Succesful\",\"Succesful\",\"Succesful\",\"Succesful\",\"Succesful\",\"Succesful\",\"Succesful\",\"Succesful\",\"Succesful\",\"Redesign\",\"Succesful\",\"Succesful\",\"Succesful\",\"Succesful\",\"Succesful\",\"Succesful\",\"Succesful\",\"Succesful\",\"Succesful\",\"Redesign\",\"Succesful\",\"Redesign\",\"Redesign\",\"Succesful\",\"Succesful\",\"Succesful\",\"Succesful\",\"Redesign\",\"Redesign\",\"Succesful\",\"Redesign\",\"Redesign\",\"Succesful\",\"Redesign\",\"Redesign\",\"Succesful\",\"Redesign\",\"Redesign\",\"Succesful\",\"Succesful\",\"Redesign\",\"Redesign\",\"Succesful\",\"Succesful\",\"Succesful\",\"Redesign\",\"Redesign\",\"Redesign\",\"Redesign\",\"Succesful\",\"Succesful\",\"Succesful\",\"Succesful\",\"Succesful\",\"Succesful\",\"Succesful\",\"Succesful\",\"Succesful\",\"Succesful\",\"Succesful\",\"Succesful\",\"Succesful\",\"Succesful\",\"Succesful\",\"Succesful\",\"Succesful\",\"Succesful\",\"Succesful\",\"Succesful\",\"Succesful\",\"Succesful\",\"Succesful\",\"Succesful\",\"Succesful\",\"Succesful\",\"Succesful\",\"Succesful\",\"Succesful\",\"Succesful\",\"Succesful\",\"Succesful\",\"Succesful\",\"Succesful\",\"Succesful\",\"Succesful\",\"Succesful\",\"Succesful\",\"Succesful\",\"Succesful\",\"Succesful\",\"Succesful\",\"Succesful\",\"Succesful\",\"Succesful\",\"Succesful\",\"Succesful\",\"Redesign\",\"Succesful\",\"Succesful\",\"Succesful\",\"Succesful\",\"Succesful\",\"Redesign\",\"Succesful\",\"Succesful\",\"Succesful\",\"Succesful\",\"Succesful\",\"Succesful\",\"Succesful\",\"Redesign\",\"Redesign\",\"Succesful\",\"Succesful\",\"Succesful\",\"Redesign\",\"Succesful\",\"Succesful\",\"Succesful\",\"Succesful\",\"Succesful\",\"Succesful\",\"Succesful\",\"Succesful\",\"Succesful\",\"Succesful\",\"Succesful\",\"Succesful\",\"Redesign\",\"Succesful\",\"Succesful\",\"Redesign\",\"Redesign\",\"Redesign\",\"Redesign\",\"Succesful\",\"Succesful\",\"Redesign\",\"Succesful\",\"Redesign\",\"Succesful\",\"Redesign\",\"Redesign\",\"Redesign\",\"Redesign\",\"Redesign\",\"Redesign\",\"Redesign\",\"Redesign\",\"Succesful\",\"Succesful\",\"Redesign\",\"Succesful\",\"Succesful\",\"Redesign\",\"Succesful\",\"Redesign\",\"Succesful\",\"Redesign\",\"Succesful\",\"Redesign\",\"Succesful\",\"Succesful\",\"Succesful\",\"Succesful\",\"Succesful\",\"Succesful\",\"Succesful\",\"Redesign\",\"Redesign\",\"Succesful\",\"Redesign\",\"Succesful\",\"Succesful\"],\"type\":\"histogram\"}],                        {\"barmode\":\"overlay\",\"template\":{\"data\":{\"barpolar\":[{\"marker\":{\"line\":{\"color\":\"#E5ECF6\",\"width\":0.5},\"pattern\":{\"fillmode\":\"overlay\",\"size\":10,\"solidity\":0.2}},\"type\":\"barpolar\"}],\"bar\":[{\"error_x\":{\"color\":\"#2a3f5f\"},\"error_y\":{\"color\":\"#2a3f5f\"},\"marker\":{\"line\":{\"color\":\"#E5ECF6\",\"width\":0.5},\"pattern\":{\"fillmode\":\"overlay\",\"size\":10,\"solidity\":0.2}},\"type\":\"bar\"}],\"carpet\":[{\"aaxis\":{\"endlinecolor\":\"#2a3f5f\",\"gridcolor\":\"white\",\"linecolor\":\"white\",\"minorgridcolor\":\"white\",\"startlinecolor\":\"#2a3f5f\"},\"baxis\":{\"endlinecolor\":\"#2a3f5f\",\"gridcolor\":\"white\",\"linecolor\":\"white\",\"minorgridcolor\":\"white\",\"startlinecolor\":\"#2a3f5f\"},\"type\":\"carpet\"}],\"choropleth\":[{\"colorbar\":{\"outlinewidth\":0,\"ticks\":\"\"},\"type\":\"choropleth\"}],\"contourcarpet\":[{\"colorbar\":{\"outlinewidth\":0,\"ticks\":\"\"},\"type\":\"contourcarpet\"}],\"contour\":[{\"colorbar\":{\"outlinewidth\":0,\"ticks\":\"\"},\"colorscale\":[[0.0,\"#0d0887\"],[0.1111111111111111,\"#46039f\"],[0.2222222222222222,\"#7201a8\"],[0.3333333333333333,\"#9c179e\"],[0.4444444444444444,\"#bd3786\"],[0.5555555555555556,\"#d8576b\"],[0.6666666666666666,\"#ed7953\"],[0.7777777777777778,\"#fb9f3a\"],[0.8888888888888888,\"#fdca26\"],[1.0,\"#f0f921\"]],\"type\":\"contour\"}],\"heatmapgl\":[{\"colorbar\":{\"outlinewidth\":0,\"ticks\":\"\"},\"colorscale\":[[0.0,\"#0d0887\"],[0.1111111111111111,\"#46039f\"],[0.2222222222222222,\"#7201a8\"],[0.3333333333333333,\"#9c179e\"],[0.4444444444444444,\"#bd3786\"],[0.5555555555555556,\"#d8576b\"],[0.6666666666666666,\"#ed7953\"],[0.7777777777777778,\"#fb9f3a\"],[0.8888888888888888,\"#fdca26\"],[1.0,\"#f0f921\"]],\"type\":\"heatmapgl\"}],\"heatmap\":[{\"colorbar\":{\"outlinewidth\":0,\"ticks\":\"\"},\"colorscale\":[[0.0,\"#0d0887\"],[0.1111111111111111,\"#46039f\"],[0.2222222222222222,\"#7201a8\"],[0.3333333333333333,\"#9c179e\"],[0.4444444444444444,\"#bd3786\"],[0.5555555555555556,\"#d8576b\"],[0.6666666666666666,\"#ed7953\"],[0.7777777777777778,\"#fb9f3a\"],[0.8888888888888888,\"#fdca26\"],[1.0,\"#f0f921\"]],\"type\":\"heatmap\"}],\"histogram2dcontour\":[{\"colorbar\":{\"outlinewidth\":0,\"ticks\":\"\"},\"colorscale\":[[0.0,\"#0d0887\"],[0.1111111111111111,\"#46039f\"],[0.2222222222222222,\"#7201a8\"],[0.3333333333333333,\"#9c179e\"],[0.4444444444444444,\"#bd3786\"],[0.5555555555555556,\"#d8576b\"],[0.6666666666666666,\"#ed7953\"],[0.7777777777777778,\"#fb9f3a\"],[0.8888888888888888,\"#fdca26\"],[1.0,\"#f0f921\"]],\"type\":\"histogram2dcontour\"}],\"histogram2d\":[{\"colorbar\":{\"outlinewidth\":0,\"ticks\":\"\"},\"colorscale\":[[0.0,\"#0d0887\"],[0.1111111111111111,\"#46039f\"],[0.2222222222222222,\"#7201a8\"],[0.3333333333333333,\"#9c179e\"],[0.4444444444444444,\"#bd3786\"],[0.5555555555555556,\"#d8576b\"],[0.6666666666666666,\"#ed7953\"],[0.7777777777777778,\"#fb9f3a\"],[0.8888888888888888,\"#fdca26\"],[1.0,\"#f0f921\"]],\"type\":\"histogram2d\"}],\"histogram\":[{\"marker\":{\"pattern\":{\"fillmode\":\"overlay\",\"size\":10,\"solidity\":0.2}},\"type\":\"histogram\"}],\"mesh3d\":[{\"colorbar\":{\"outlinewidth\":0,\"ticks\":\"\"},\"type\":\"mesh3d\"}],\"parcoords\":[{\"line\":{\"colorbar\":{\"outlinewidth\":0,\"ticks\":\"\"}},\"type\":\"parcoords\"}],\"pie\":[{\"automargin\":true,\"type\":\"pie\"}],\"scatter3d\":[{\"line\":{\"colorbar\":{\"outlinewidth\":0,\"ticks\":\"\"}},\"marker\":{\"colorbar\":{\"outlinewidth\":0,\"ticks\":\"\"}},\"type\":\"scatter3d\"}],\"scattercarpet\":[{\"marker\":{\"colorbar\":{\"outlinewidth\":0,\"ticks\":\"\"}},\"type\":\"scattercarpet\"}],\"scattergeo\":[{\"marker\":{\"colorbar\":{\"outlinewidth\":0,\"ticks\":\"\"}},\"type\":\"scattergeo\"}],\"scattergl\":[{\"marker\":{\"colorbar\":{\"outlinewidth\":0,\"ticks\":\"\"}},\"type\":\"scattergl\"}],\"scattermapbox\":[{\"marker\":{\"colorbar\":{\"outlinewidth\":0,\"ticks\":\"\"}},\"type\":\"scattermapbox\"}],\"scatterpolargl\":[{\"marker\":{\"colorbar\":{\"outlinewidth\":0,\"ticks\":\"\"}},\"type\":\"scatterpolargl\"}],\"scatterpolar\":[{\"marker\":{\"colorbar\":{\"outlinewidth\":0,\"ticks\":\"\"}},\"type\":\"scatterpolar\"}],\"scatter\":[{\"fillpattern\":{\"fillmode\":\"overlay\",\"size\":10,\"solidity\":0.2},\"type\":\"scatter\"}],\"scatterternary\":[{\"marker\":{\"colorbar\":{\"outlinewidth\":0,\"ticks\":\"\"}},\"type\":\"scatterternary\"}],\"surface\":[{\"colorbar\":{\"outlinewidth\":0,\"ticks\":\"\"},\"colorscale\":[[0.0,\"#0d0887\"],[0.1111111111111111,\"#46039f\"],[0.2222222222222222,\"#7201a8\"],[0.3333333333333333,\"#9c179e\"],[0.4444444444444444,\"#bd3786\"],[0.5555555555555556,\"#d8576b\"],[0.6666666666666666,\"#ed7953\"],[0.7777777777777778,\"#fb9f3a\"],[0.8888888888888888,\"#fdca26\"],[1.0,\"#f0f921\"]],\"type\":\"surface\"}],\"table\":[{\"cells\":{\"fill\":{\"color\":\"#EBF0F8\"},\"line\":{\"color\":\"white\"}},\"header\":{\"fill\":{\"color\":\"#C8D4E3\"},\"line\":{\"color\":\"white\"}},\"type\":\"table\"}]},\"layout\":{\"annotationdefaults\":{\"arrowcolor\":\"#2a3f5f\",\"arrowhead\":0,\"arrowwidth\":1},\"autotypenumbers\":\"strict\",\"coloraxis\":{\"colorbar\":{\"outlinewidth\":0,\"ticks\":\"\"}},\"colorscale\":{\"diverging\":[[0,\"#8e0152\"],[0.1,\"#c51b7d\"],[0.2,\"#de77ae\"],[0.3,\"#f1b6da\"],[0.4,\"#fde0ef\"],[0.5,\"#f7f7f7\"],[0.6,\"#e6f5d0\"],[0.7,\"#b8e186\"],[0.8,\"#7fbc41\"],[0.9,\"#4d9221\"],[1,\"#276419\"]],\"sequential\":[[0.0,\"#0d0887\"],[0.1111111111111111,\"#46039f\"],[0.2222222222222222,\"#7201a8\"],[0.3333333333333333,\"#9c179e\"],[0.4444444444444444,\"#bd3786\"],[0.5555555555555556,\"#d8576b\"],[0.6666666666666666,\"#ed7953\"],[0.7777777777777778,\"#fb9f3a\"],[0.8888888888888888,\"#fdca26\"],[1.0,\"#f0f921\"]],\"sequentialminus\":[[0.0,\"#0d0887\"],[0.1111111111111111,\"#46039f\"],[0.2222222222222222,\"#7201a8\"],[0.3333333333333333,\"#9c179e\"],[0.4444444444444444,\"#bd3786\"],[0.5555555555555556,\"#d8576b\"],[0.6666666666666666,\"#ed7953\"],[0.7777777777777778,\"#fb9f3a\"],[0.8888888888888888,\"#fdca26\"],[1.0,\"#f0f921\"]]},\"colorway\":[\"#636efa\",\"#EF553B\",\"#00cc96\",\"#ab63fa\",\"#FFA15A\",\"#19d3f3\",\"#FF6692\",\"#B6E880\",\"#FF97FF\",\"#FECB52\"],\"font\":{\"color\":\"#2a3f5f\"},\"geo\":{\"bgcolor\":\"white\",\"lakecolor\":\"white\",\"landcolor\":\"#E5ECF6\",\"showlakes\":true,\"showland\":true,\"subunitcolor\":\"white\"},\"hoverlabel\":{\"align\":\"left\"},\"hovermode\":\"closest\",\"mapbox\":{\"style\":\"light\"},\"paper_bgcolor\":\"white\",\"plot_bgcolor\":\"#E5ECF6\",\"polar\":{\"angularaxis\":{\"gridcolor\":\"white\",\"linecolor\":\"white\",\"ticks\":\"\"},\"bgcolor\":\"#E5ECF6\",\"radialaxis\":{\"gridcolor\":\"white\",\"linecolor\":\"white\",\"ticks\":\"\"}},\"scene\":{\"xaxis\":{\"backgroundcolor\":\"#E5ECF6\",\"gridcolor\":\"white\",\"gridwidth\":2,\"linecolor\":\"white\",\"showbackground\":true,\"ticks\":\"\",\"zerolinecolor\":\"white\"},\"yaxis\":{\"backgroundcolor\":\"#E5ECF6\",\"gridcolor\":\"white\",\"gridwidth\":2,\"linecolor\":\"white\",\"showbackground\":true,\"ticks\":\"\",\"zerolinecolor\":\"white\"},\"zaxis\":{\"backgroundcolor\":\"#E5ECF6\",\"gridcolor\":\"white\",\"gridwidth\":2,\"linecolor\":\"white\",\"showbackground\":true,\"ticks\":\"\",\"zerolinecolor\":\"white\"}},\"shapedefaults\":{\"line\":{\"color\":\"#2a3f5f\"}},\"ternary\":{\"aaxis\":{\"gridcolor\":\"white\",\"linecolor\":\"white\",\"ticks\":\"\"},\"baxis\":{\"gridcolor\":\"white\",\"linecolor\":\"white\",\"ticks\":\"\"},\"bgcolor\":\"#E5ECF6\",\"caxis\":{\"gridcolor\":\"white\",\"linecolor\":\"white\",\"ticks\":\"\"}},\"title\":{\"x\":0.05},\"xaxis\":{\"automargin\":true,\"gridcolor\":\"white\",\"linecolor\":\"white\",\"ticks\":\"\",\"title\":{\"standoff\":15},\"zerolinecolor\":\"white\",\"zerolinewidth\":2},\"yaxis\":{\"automargin\":true,\"gridcolor\":\"white\",\"linecolor\":\"white\",\"ticks\":\"\",\"title\":{\"standoff\":15},\"zerolinecolor\":\"white\",\"zerolinewidth\":2}}},\"title\":{\"text\":\"Complexity Evaluation\"},\"xaxis\":{\"title\":{\"text\":\"Succesful - Redesign\"}},\"yaxis\":{\"title\":{\"text\":\"Frequency\"}}},                        {\"responsive\": true}                    ).then(function(){\n",
       "                            \n",
       "var gd = document.getElementById('18ac03a2-4927-4cbb-b594-58416c9770d4');\n",
       "var x = new MutationObserver(function (mutations, observer) {{\n",
       "        var display = window.getComputedStyle(gd).display;\n",
       "        if (!display || display === 'none') {{\n",
       "            console.log([gd, 'removed!']);\n",
       "            Plotly.purge(gd);\n",
       "            observer.disconnect();\n",
       "        }}\n",
       "}});\n",
       "\n",
       "// Listen for the removal of the full notebook cells\n",
       "var notebookContainer = gd.closest('#notebook-container');\n",
       "if (notebookContainer) {{\n",
       "    x.observe(notebookContainer, {childList: true});\n",
       "}}\n",
       "\n",
       "// Listen for the clearing of the current output cell\n",
       "var outputEl = gd.closest('.output');\n",
       "if (outputEl) {{\n",
       "    x.observe(outputEl, {childList: true});\n",
       "}}\n",
       "\n",
       "                        })                };                });            </script>        </div>"
      ]
     },
     "metadata": {},
     "output_type": "display_data"
    }
   ],
   "source": [
    "# Histogram\n",
    "trace = go.Histogram(\n",
    "    x = data.complexityEvaluation,\n",
    "    opacity = 0.75,\n",
    "    name = 'Complexity Evaluation',\n",
    "    marker = dict(color = 'darkorange')\n",
    ")\n",
    "hist_data = [trace]\n",
    "hist_layout = go.Layout(barmode='overlay',\n",
    "                   title = 'Complexity Evaluation',\n",
    "                   xaxis = dict(title = 'Succesful - Redesign'),\n",
    "                   yaxis = dict(title = 'Frequency')\n",
    ")\n",
    "fig = go.Figure(data = hist_data, layout = hist_layout)\n",
    "iplot(fig)"
   ]
  },
  {
   "cell_type": "code",
   "execution_count": 15,
   "metadata": {},
   "outputs": [
    {
     "data": {
      "text/html": [
       "<div>\n",
       "<style scoped>\n",
       "    .dataframe tbody tr th:only-of-type {\n",
       "        vertical-align: middle;\n",
       "    }\n",
       "\n",
       "    .dataframe tbody tr th {\n",
       "        vertical-align: top;\n",
       "    }\n",
       "\n",
       "    .dataframe thead th {\n",
       "        text-align: right;\n",
       "    }\n",
       "</style>\n",
       "<table border=\"1\" class=\"dataframe\">\n",
       "  <thead>\n",
       "    <tr style=\"text-align: right;\">\n",
       "      <th></th>\n",
       "      <th>loc</th>\n",
       "      <th>v(g)</th>\n",
       "      <th>ev(g)</th>\n",
       "      <th>iv(g)</th>\n",
       "      <th>n</th>\n",
       "      <th>v</th>\n",
       "      <th>l</th>\n",
       "      <th>d</th>\n",
       "      <th>i</th>\n",
       "      <th>e</th>\n",
       "      <th>...</th>\n",
       "      <th>locCodeAndComment</th>\n",
       "      <th>uniq_Op</th>\n",
       "      <th>uniq_Opnd</th>\n",
       "      <th>total_Op</th>\n",
       "      <th>total_Opnd</th>\n",
       "      <th>branchCount</th>\n",
       "      <th>defects</th>\n",
       "      <th>complexityEvaluation</th>\n",
       "      <th>v_ScaledUp</th>\n",
       "      <th>b_ScaledUp</th>\n",
       "    </tr>\n",
       "  </thead>\n",
       "  <tbody>\n",
       "    <tr>\n",
       "      <th>0</th>\n",
       "      <td>1.1</td>\n",
       "      <td>1.4</td>\n",
       "      <td>1.4</td>\n",
       "      <td>1.4</td>\n",
       "      <td>1.3</td>\n",
       "      <td>1.30</td>\n",
       "      <td>1.30</td>\n",
       "      <td>1.30</td>\n",
       "      <td>1.30</td>\n",
       "      <td>1.30</td>\n",
       "      <td>...</td>\n",
       "      <td>2</td>\n",
       "      <td>1.2</td>\n",
       "      <td>1.2</td>\n",
       "      <td>1.2</td>\n",
       "      <td>1.2</td>\n",
       "      <td>1.4</td>\n",
       "      <td>False</td>\n",
       "      <td>Succesful</td>\n",
       "      <td>0.000076</td>\n",
       "      <td>0.227671</td>\n",
       "    </tr>\n",
       "    <tr>\n",
       "      <th>1</th>\n",
       "      <td>1.0</td>\n",
       "      <td>1.0</td>\n",
       "      <td>1.0</td>\n",
       "      <td>1.0</td>\n",
       "      <td>1.0</td>\n",
       "      <td>1.00</td>\n",
       "      <td>1.00</td>\n",
       "      <td>1.00</td>\n",
       "      <td>1.00</td>\n",
       "      <td>1.00</td>\n",
       "      <td>...</td>\n",
       "      <td>1</td>\n",
       "      <td>1.0</td>\n",
       "      <td>1.0</td>\n",
       "      <td>1.0</td>\n",
       "      <td>1.0</td>\n",
       "      <td>1.0</td>\n",
       "      <td>True</td>\n",
       "      <td>Succesful</td>\n",
       "      <td>0.000058</td>\n",
       "      <td>0.175131</td>\n",
       "    </tr>\n",
       "    <tr>\n",
       "      <th>2</th>\n",
       "      <td>24.0</td>\n",
       "      <td>5.0</td>\n",
       "      <td>1.0</td>\n",
       "      <td>3.0</td>\n",
       "      <td>63.0</td>\n",
       "      <td>309.13</td>\n",
       "      <td>0.11</td>\n",
       "      <td>9.50</td>\n",
       "      <td>32.54</td>\n",
       "      <td>2936.77</td>\n",
       "      <td>...</td>\n",
       "      <td>0</td>\n",
       "      <td>15.0</td>\n",
       "      <td>15.0</td>\n",
       "      <td>44.0</td>\n",
       "      <td>19.0</td>\n",
       "      <td>9.0</td>\n",
       "      <td>False</td>\n",
       "      <td>Succesful</td>\n",
       "      <td>0.018052</td>\n",
       "      <td>0.017513</td>\n",
       "    </tr>\n",
       "    <tr>\n",
       "      <th>3</th>\n",
       "      <td>20.0</td>\n",
       "      <td>4.0</td>\n",
       "      <td>4.0</td>\n",
       "      <td>2.0</td>\n",
       "      <td>47.0</td>\n",
       "      <td>215.49</td>\n",
       "      <td>0.06</td>\n",
       "      <td>16.00</td>\n",
       "      <td>13.47</td>\n",
       "      <td>3447.89</td>\n",
       "      <td>...</td>\n",
       "      <td>0</td>\n",
       "      <td>16.0</td>\n",
       "      <td>8.0</td>\n",
       "      <td>31.0</td>\n",
       "      <td>16.0</td>\n",
       "      <td>7.0</td>\n",
       "      <td>False</td>\n",
       "      <td>Succesful</td>\n",
       "      <td>0.012584</td>\n",
       "      <td>0.012259</td>\n",
       "    </tr>\n",
       "    <tr>\n",
       "      <th>4</th>\n",
       "      <td>24.0</td>\n",
       "      <td>6.0</td>\n",
       "      <td>6.0</td>\n",
       "      <td>2.0</td>\n",
       "      <td>72.0</td>\n",
       "      <td>346.13</td>\n",
       "      <td>0.06</td>\n",
       "      <td>17.33</td>\n",
       "      <td>19.97</td>\n",
       "      <td>5999.58</td>\n",
       "      <td>...</td>\n",
       "      <td>0</td>\n",
       "      <td>16.0</td>\n",
       "      <td>12.0</td>\n",
       "      <td>46.0</td>\n",
       "      <td>26.0</td>\n",
       "      <td>11.0</td>\n",
       "      <td>False</td>\n",
       "      <td>Succesful</td>\n",
       "      <td>0.020213</td>\n",
       "      <td>0.021016</td>\n",
       "    </tr>\n",
       "    <tr>\n",
       "      <th>...</th>\n",
       "      <td>...</td>\n",
       "      <td>...</td>\n",
       "      <td>...</td>\n",
       "      <td>...</td>\n",
       "      <td>...</td>\n",
       "      <td>...</td>\n",
       "      <td>...</td>\n",
       "      <td>...</td>\n",
       "      <td>...</td>\n",
       "      <td>...</td>\n",
       "      <td>...</td>\n",
       "      <td>...</td>\n",
       "      <td>...</td>\n",
       "      <td>...</td>\n",
       "      <td>...</td>\n",
       "      <td>...</td>\n",
       "      <td>...</td>\n",
       "      <td>...</td>\n",
       "      <td>...</td>\n",
       "      <td>...</td>\n",
       "      <td>...</td>\n",
       "    </tr>\n",
       "    <tr>\n",
       "      <th>493</th>\n",
       "      <td>47.0</td>\n",
       "      <td>3.0</td>\n",
       "      <td>1.0</td>\n",
       "      <td>3.0</td>\n",
       "      <td>256.0</td>\n",
       "      <td>1563.78</td>\n",
       "      <td>0.04</td>\n",
       "      <td>28.00</td>\n",
       "      <td>55.85</td>\n",
       "      <td>43785.90</td>\n",
       "      <td>...</td>\n",
       "      <td>0</td>\n",
       "      <td>23.0</td>\n",
       "      <td>46.0</td>\n",
       "      <td>144.0</td>\n",
       "      <td>112.0</td>\n",
       "      <td>5.0</td>\n",
       "      <td>True</td>\n",
       "      <td>Redesign</td>\n",
       "      <td>0.091319</td>\n",
       "      <td>0.091068</td>\n",
       "    </tr>\n",
       "    <tr>\n",
       "      <th>494</th>\n",
       "      <td>24.0</td>\n",
       "      <td>4.0</td>\n",
       "      <td>3.0</td>\n",
       "      <td>3.0</td>\n",
       "      <td>107.0</td>\n",
       "      <td>587.63</td>\n",
       "      <td>0.05</td>\n",
       "      <td>19.13</td>\n",
       "      <td>30.72</td>\n",
       "      <td>11241.58</td>\n",
       "      <td>...</td>\n",
       "      <td>0</td>\n",
       "      <td>22.0</td>\n",
       "      <td>23.0</td>\n",
       "      <td>67.0</td>\n",
       "      <td>40.0</td>\n",
       "      <td>7.0</td>\n",
       "      <td>True</td>\n",
       "      <td>Succesful</td>\n",
       "      <td>0.034316</td>\n",
       "      <td>0.035026</td>\n",
       "    </tr>\n",
       "    <tr>\n",
       "      <th>495</th>\n",
       "      <td>82.0</td>\n",
       "      <td>11.0</td>\n",
       "      <td>3.0</td>\n",
       "      <td>10.0</td>\n",
       "      <td>475.0</td>\n",
       "      <td>3155.83</td>\n",
       "      <td>0.02</td>\n",
       "      <td>44.71</td>\n",
       "      <td>70.59</td>\n",
       "      <td>141084.24</td>\n",
       "      <td>...</td>\n",
       "      <td>0</td>\n",
       "      <td>32.0</td>\n",
       "      <td>68.0</td>\n",
       "      <td>285.0</td>\n",
       "      <td>190.0</td>\n",
       "      <td>21.0</td>\n",
       "      <td>True</td>\n",
       "      <td>Redesign</td>\n",
       "      <td>0.184290</td>\n",
       "      <td>0.183888</td>\n",
       "    </tr>\n",
       "    <tr>\n",
       "      <th>496</th>\n",
       "      <td>10.0</td>\n",
       "      <td>2.0</td>\n",
       "      <td>1.0</td>\n",
       "      <td>1.0</td>\n",
       "      <td>32.0</td>\n",
       "      <td>150.41</td>\n",
       "      <td>0.15</td>\n",
       "      <td>6.50</td>\n",
       "      <td>23.14</td>\n",
       "      <td>977.69</td>\n",
       "      <td>...</td>\n",
       "      <td>0</td>\n",
       "      <td>13.0</td>\n",
       "      <td>13.0</td>\n",
       "      <td>19.0</td>\n",
       "      <td>13.0</td>\n",
       "      <td>3.0</td>\n",
       "      <td>True</td>\n",
       "      <td>Succesful</td>\n",
       "      <td>0.008783</td>\n",
       "      <td>0.008757</td>\n",
       "    </tr>\n",
       "    <tr>\n",
       "      <th>497</th>\n",
       "      <td>28.0</td>\n",
       "      <td>6.0</td>\n",
       "      <td>5.0</td>\n",
       "      <td>5.0</td>\n",
       "      <td>104.0</td>\n",
       "      <td>564.33</td>\n",
       "      <td>0.06</td>\n",
       "      <td>16.09</td>\n",
       "      <td>35.08</td>\n",
       "      <td>9078.38</td>\n",
       "      <td>...</td>\n",
       "      <td>0</td>\n",
       "      <td>20.0</td>\n",
       "      <td>23.0</td>\n",
       "      <td>67.0</td>\n",
       "      <td>37.0</td>\n",
       "      <td>11.0</td>\n",
       "      <td>True</td>\n",
       "      <td>Succesful</td>\n",
       "      <td>0.032955</td>\n",
       "      <td>0.033275</td>\n",
       "    </tr>\n",
       "  </tbody>\n",
       "</table>\n",
       "<p>498 rows × 25 columns</p>\n",
       "</div>"
      ],
      "text/plain": [
       "      loc  v(g)  ev(g)  iv(g)      n        v     l      d      i          e  \\\n",
       "0     1.1   1.4    1.4    1.4    1.3     1.30  1.30   1.30   1.30       1.30   \n",
       "1     1.0   1.0    1.0    1.0    1.0     1.00  1.00   1.00   1.00       1.00   \n",
       "2    24.0   5.0    1.0    3.0   63.0   309.13  0.11   9.50  32.54    2936.77   \n",
       "3    20.0   4.0    4.0    2.0   47.0   215.49  0.06  16.00  13.47    3447.89   \n",
       "4    24.0   6.0    6.0    2.0   72.0   346.13  0.06  17.33  19.97    5999.58   \n",
       "..    ...   ...    ...    ...    ...      ...   ...    ...    ...        ...   \n",
       "493  47.0   3.0    1.0    3.0  256.0  1563.78  0.04  28.00  55.85   43785.90   \n",
       "494  24.0   4.0    3.0    3.0  107.0   587.63  0.05  19.13  30.72   11241.58   \n",
       "495  82.0  11.0    3.0   10.0  475.0  3155.83  0.02  44.71  70.59  141084.24   \n",
       "496  10.0   2.0    1.0    1.0   32.0   150.41  0.15   6.50  23.14     977.69   \n",
       "497  28.0   6.0    5.0    5.0  104.0   564.33  0.06  16.09  35.08    9078.38   \n",
       "\n",
       "     ...  locCodeAndComment  uniq_Op  uniq_Opnd  total_Op  total_Opnd  \\\n",
       "0    ...                  2      1.2        1.2       1.2         1.2   \n",
       "1    ...                  1      1.0        1.0       1.0         1.0   \n",
       "2    ...                  0     15.0       15.0      44.0        19.0   \n",
       "3    ...                  0     16.0        8.0      31.0        16.0   \n",
       "4    ...                  0     16.0       12.0      46.0        26.0   \n",
       "..   ...                ...      ...        ...       ...         ...   \n",
       "493  ...                  0     23.0       46.0     144.0       112.0   \n",
       "494  ...                  0     22.0       23.0      67.0        40.0   \n",
       "495  ...                  0     32.0       68.0     285.0       190.0   \n",
       "496  ...                  0     13.0       13.0      19.0        13.0   \n",
       "497  ...                  0     20.0       23.0      67.0        37.0   \n",
       "\n",
       "     branchCount  defects  complexityEvaluation  v_ScaledUp  b_ScaledUp  \n",
       "0            1.4    False             Succesful    0.000076    0.227671  \n",
       "1            1.0     True             Succesful    0.000058    0.175131  \n",
       "2            9.0    False             Succesful    0.018052    0.017513  \n",
       "3            7.0    False             Succesful    0.012584    0.012259  \n",
       "4           11.0    False             Succesful    0.020213    0.021016  \n",
       "..           ...      ...                   ...         ...         ...  \n",
       "493          5.0     True              Redesign    0.091319    0.091068  \n",
       "494          7.0     True             Succesful    0.034316    0.035026  \n",
       "495         21.0     True              Redesign    0.184290    0.183888  \n",
       "496          3.0     True             Succesful    0.008783    0.008757  \n",
       "497         11.0     True             Succesful    0.032955    0.033275  \n",
       "\n",
       "[498 rows x 25 columns]"
      ]
     },
     "execution_count": 15,
     "metadata": {},
     "output_type": "execute_result"
    }
   ],
   "source": [
    "from sklearn import preprocessing\n",
    "\n",
    "scale_v = data[['v']]\n",
    "scale_b = data[['b']]\n",
    "\n",
    "minmax_scaler = preprocessing.MinMaxScaler()\n",
    "\n",
    "v_scaled = minmax_scaler.fit_transform(scale_v)\n",
    "b_scaled = minmax_scaler.fit_transform(scale_b)\n",
    "\n",
    "data['v_ScaledUp'] = pd.DataFrame(v_scaled)\n",
    "data['b_ScaledUp'] = pd.DataFrame(b_scaled)\n",
    "\n",
    "data"
   ]
  },
  {
   "cell_type": "code",
   "execution_count": 16,
   "metadata": {},
   "outputs": [
    {
     "data": {
      "text/html": [
       "<div>\n",
       "<style scoped>\n",
       "    .dataframe tbody tr th:only-of-type {\n",
       "        vertical-align: middle;\n",
       "    }\n",
       "\n",
       "    .dataframe tbody tr th {\n",
       "        vertical-align: top;\n",
       "    }\n",
       "\n",
       "    .dataframe thead th {\n",
       "        text-align: right;\n",
       "    }\n",
       "</style>\n",
       "<table border=\"1\" class=\"dataframe\">\n",
       "  <thead>\n",
       "    <tr style=\"text-align: right;\">\n",
       "      <th></th>\n",
       "      <th>v</th>\n",
       "      <th>b</th>\n",
       "      <th>v_ScaledUp</th>\n",
       "      <th>b_ScaledUp</th>\n",
       "    </tr>\n",
       "  </thead>\n",
       "  <tbody>\n",
       "    <tr>\n",
       "      <th>0</th>\n",
       "      <td>1.30</td>\n",
       "      <td>1.30</td>\n",
       "      <td>0.000076</td>\n",
       "      <td>0.227671</td>\n",
       "    </tr>\n",
       "    <tr>\n",
       "      <th>1</th>\n",
       "      <td>1.00</td>\n",
       "      <td>1.00</td>\n",
       "      <td>0.000058</td>\n",
       "      <td>0.175131</td>\n",
       "    </tr>\n",
       "    <tr>\n",
       "      <th>2</th>\n",
       "      <td>309.13</td>\n",
       "      <td>0.10</td>\n",
       "      <td>0.018052</td>\n",
       "      <td>0.017513</td>\n",
       "    </tr>\n",
       "    <tr>\n",
       "      <th>3</th>\n",
       "      <td>215.49</td>\n",
       "      <td>0.07</td>\n",
       "      <td>0.012584</td>\n",
       "      <td>0.012259</td>\n",
       "    </tr>\n",
       "    <tr>\n",
       "      <th>4</th>\n",
       "      <td>346.13</td>\n",
       "      <td>0.12</td>\n",
       "      <td>0.020213</td>\n",
       "      <td>0.021016</td>\n",
       "    </tr>\n",
       "    <tr>\n",
       "      <th>...</th>\n",
       "      <td>...</td>\n",
       "      <td>...</td>\n",
       "      <td>...</td>\n",
       "      <td>...</td>\n",
       "    </tr>\n",
       "    <tr>\n",
       "      <th>493</th>\n",
       "      <td>1563.78</td>\n",
       "      <td>0.52</td>\n",
       "      <td>0.091319</td>\n",
       "      <td>0.091068</td>\n",
       "    </tr>\n",
       "    <tr>\n",
       "      <th>494</th>\n",
       "      <td>587.63</td>\n",
       "      <td>0.20</td>\n",
       "      <td>0.034316</td>\n",
       "      <td>0.035026</td>\n",
       "    </tr>\n",
       "    <tr>\n",
       "      <th>495</th>\n",
       "      <td>3155.83</td>\n",
       "      <td>1.05</td>\n",
       "      <td>0.184290</td>\n",
       "      <td>0.183888</td>\n",
       "    </tr>\n",
       "    <tr>\n",
       "      <th>496</th>\n",
       "      <td>150.41</td>\n",
       "      <td>0.05</td>\n",
       "      <td>0.008783</td>\n",
       "      <td>0.008757</td>\n",
       "    </tr>\n",
       "    <tr>\n",
       "      <th>497</th>\n",
       "      <td>564.33</td>\n",
       "      <td>0.19</td>\n",
       "      <td>0.032955</td>\n",
       "      <td>0.033275</td>\n",
       "    </tr>\n",
       "  </tbody>\n",
       "</table>\n",
       "<p>498 rows × 4 columns</p>\n",
       "</div>"
      ],
      "text/plain": [
       "           v     b  v_ScaledUp  b_ScaledUp\n",
       "0       1.30  1.30    0.000076    0.227671\n",
       "1       1.00  1.00    0.000058    0.175131\n",
       "2     309.13  0.10    0.018052    0.017513\n",
       "3     215.49  0.07    0.012584    0.012259\n",
       "4     346.13  0.12    0.020213    0.021016\n",
       "..       ...   ...         ...         ...\n",
       "493  1563.78  0.52    0.091319    0.091068\n",
       "494   587.63  0.20    0.034316    0.035026\n",
       "495  3155.83  1.05    0.184290    0.183888\n",
       "496   150.41  0.05    0.008783    0.008757\n",
       "497   564.33  0.19    0.032955    0.033275\n",
       "\n",
       "[498 rows x 4 columns]"
      ]
     },
     "execution_count": 16,
     "metadata": {},
     "output_type": "execute_result"
    }
   ],
   "source": [
    "scaled_data = pd.concat([data.v , data.b , data.v_ScaledUp , data.b_ScaledUp], axis=1)\n",
    "scaled_data"
   ]
  },
  {
   "cell_type": "code",
   "execution_count": 17,
   "metadata": {},
   "outputs": [
    {
     "name": "stdout",
     "output_type": "stream",
     "text": [
      "<class 'pandas.core.frame.DataFrame'>\n",
      "RangeIndex: 498 entries, 0 to 497\n",
      "Data columns (total 25 columns):\n",
      " #   Column                Non-Null Count  Dtype  \n",
      "---  ------                --------------  -----  \n",
      " 0   loc                   498 non-null    float64\n",
      " 1   v(g)                  498 non-null    float64\n",
      " 2   ev(g)                 498 non-null    float64\n",
      " 3   iv(g)                 498 non-null    float64\n",
      " 4   n                     498 non-null    float64\n",
      " 5   v                     498 non-null    float64\n",
      " 6   l                     498 non-null    float64\n",
      " 7   d                     498 non-null    float64\n",
      " 8   i                     498 non-null    float64\n",
      " 9   e                     498 non-null    float64\n",
      " 10  b                     498 non-null    float64\n",
      " 11  t                     498 non-null    float64\n",
      " 12  lOCode                498 non-null    int64  \n",
      " 13  lOComment             498 non-null    int64  \n",
      " 14  lOBlank               498 non-null    int64  \n",
      " 15  locCodeAndComment     498 non-null    int64  \n",
      " 16  uniq_Op               498 non-null    float64\n",
      " 17  uniq_Opnd             498 non-null    float64\n",
      " 18  total_Op              498 non-null    float64\n",
      " 19  total_Opnd            498 non-null    float64\n",
      " 20  branchCount           498 non-null    float64\n",
      " 21  defects               498 non-null    bool   \n",
      " 22  complexityEvaluation  498 non-null    object \n",
      " 23  v_ScaledUp            498 non-null    float64\n",
      " 24  b_ScaledUp            498 non-null    float64\n",
      "dtypes: bool(1), float64(19), int64(4), object(1)\n",
      "memory usage: 94.0+ KB\n"
     ]
    }
   ],
   "source": [
    "data.info()"
   ]
  },
  {
   "cell_type": "code",
   "execution_count": 18,
   "metadata": {},
   "outputs": [],
   "source": [
    "from sklearn.metrics import confusion_matrix, classification_report\n",
    "from sklearn.metrics import roc_curve, roc_auc_score\n",
    "from sklearn import model_selection\n",
    "\n",
    "X = data.iloc[:, :-10].values  #Select related attribute values for selection\n",
    "Y = data.complexityEvaluation.values   #Select classification attribute values"
   ]
  },
  {
   "cell_type": "code",
   "execution_count": 19,
   "metadata": {},
   "outputs": [
    {
     "data": {
      "text/plain": [
       "array(['Succesful', 'Succesful', 'Succesful', 'Succesful', 'Succesful',\n",
       "       'Succesful', 'Succesful', 'Succesful', 'Succesful', 'Redesign',\n",
       "       'Succesful', 'Succesful', 'Succesful', 'Succesful', 'Redesign',\n",
       "       'Succesful', 'Succesful', 'Succesful', 'Succesful', 'Succesful',\n",
       "       'Succesful', 'Succesful', 'Succesful', 'Succesful', 'Succesful',\n",
       "       'Succesful', 'Succesful', 'Succesful', 'Redesign', 'Redesign',\n",
       "       'Succesful', 'Redesign', 'Redesign', 'Redesign', 'Succesful',\n",
       "       'Succesful', 'Succesful', 'Succesful', 'Succesful', 'Succesful',\n",
       "       'Succesful', 'Succesful', 'Succesful', 'Redesign', 'Redesign',\n",
       "       'Redesign', 'Succesful', 'Succesful', 'Succesful', 'Redesign',\n",
       "       'Redesign', 'Succesful', 'Redesign', 'Succesful', 'Succesful',\n",
       "       'Succesful', 'Succesful', 'Succesful', 'Succesful', 'Redesign',\n",
       "       'Succesful', 'Succesful', 'Succesful', 'Succesful', 'Succesful',\n",
       "       'Succesful', 'Succesful', 'Redesign', 'Succesful', 'Succesful',\n",
       "       'Redesign', 'Succesful', 'Succesful', 'Redesign', 'Succesful',\n",
       "       'Succesful', 'Succesful', 'Succesful', 'Succesful', 'Succesful',\n",
       "       'Succesful', 'Succesful', 'Succesful', 'Succesful', 'Succesful',\n",
       "       'Succesful', 'Succesful', 'Succesful', 'Succesful', 'Succesful',\n",
       "       'Succesful', 'Succesful', 'Succesful', 'Succesful', 'Succesful',\n",
       "       'Succesful', 'Succesful', 'Succesful', 'Succesful', 'Succesful',\n",
       "       'Succesful', 'Succesful', 'Redesign', 'Succesful', 'Succesful',\n",
       "       'Redesign', 'Succesful', 'Succesful', 'Redesign', 'Succesful',\n",
       "       'Succesful', 'Succesful', 'Redesign', 'Redesign', 'Succesful',\n",
       "       'Succesful', 'Succesful', 'Succesful', 'Redesign', 'Redesign',\n",
       "       'Succesful', 'Redesign', 'Succesful', 'Succesful', 'Succesful',\n",
       "       'Succesful', 'Redesign', 'Redesign', 'Succesful', 'Succesful',\n",
       "       'Succesful', 'Succesful', 'Succesful', 'Succesful', 'Succesful',\n",
       "       'Redesign', 'Succesful', 'Succesful', 'Succesful', 'Redesign',\n",
       "       'Succesful', 'Succesful', 'Succesful', 'Succesful', 'Succesful',\n",
       "       'Succesful', 'Succesful', 'Succesful', 'Succesful', 'Succesful',\n",
       "       'Succesful', 'Succesful', 'Redesign', 'Succesful', 'Succesful',\n",
       "       'Succesful', 'Succesful', 'Redesign', 'Redesign', 'Succesful',\n",
       "       'Succesful', 'Redesign', 'Succesful', 'Succesful', 'Succesful',\n",
       "       'Succesful', 'Succesful', 'Succesful', 'Succesful', 'Succesful',\n",
       "       'Succesful', 'Succesful', 'Redesign', 'Succesful', 'Succesful',\n",
       "       'Succesful', 'Succesful', 'Succesful', 'Succesful', 'Succesful',\n",
       "       'Succesful', 'Succesful', 'Succesful', 'Succesful', 'Succesful',\n",
       "       'Succesful', 'Succesful', 'Succesful', 'Redesign', 'Succesful',\n",
       "       'Redesign', 'Succesful', 'Succesful', 'Succesful', 'Succesful',\n",
       "       'Succesful', 'Succesful', 'Succesful', 'Succesful', 'Succesful',\n",
       "       'Succesful', 'Redesign', 'Succesful', 'Succesful', 'Succesful',\n",
       "       'Succesful', 'Redesign', 'Succesful', 'Succesful', 'Succesful',\n",
       "       'Succesful', 'Redesign', 'Succesful', 'Succesful', 'Succesful',\n",
       "       'Succesful', 'Succesful', 'Succesful', 'Succesful', 'Succesful',\n",
       "       'Succesful', 'Succesful', 'Succesful', 'Succesful', 'Succesful',\n",
       "       'Redesign', 'Succesful', 'Succesful', 'Succesful', 'Succesful',\n",
       "       'Succesful', 'Succesful', 'Succesful', 'Succesful', 'Succesful',\n",
       "       'Succesful', 'Succesful', 'Succesful', 'Succesful', 'Succesful',\n",
       "       'Redesign', 'Redesign', 'Succesful', 'Redesign', 'Succesful',\n",
       "       'Succesful', 'Succesful', 'Succesful', 'Succesful', 'Succesful',\n",
       "       'Succesful', 'Succesful', 'Succesful', 'Redesign', 'Succesful',\n",
       "       'Redesign', 'Redesign', 'Succesful', 'Succesful', 'Succesful',\n",
       "       'Succesful', 'Succesful', 'Succesful', 'Succesful', 'Succesful',\n",
       "       'Redesign', 'Succesful', 'Succesful', 'Succesful', 'Succesful',\n",
       "       'Succesful', 'Succesful', 'Succesful', 'Redesign', 'Redesign',\n",
       "       'Redesign', 'Redesign', 'Succesful', 'Succesful', 'Succesful',\n",
       "       'Succesful', 'Succesful', 'Redesign', 'Redesign', 'Redesign',\n",
       "       'Redesign', 'Succesful', 'Succesful', 'Succesful', 'Succesful',\n",
       "       'Redesign', 'Redesign', 'Redesign', 'Redesign', 'Redesign',\n",
       "       'Succesful', 'Redesign', 'Redesign', 'Succesful', 'Succesful',\n",
       "       'Redesign', 'Succesful', 'Redesign', 'Succesful', 'Succesful',\n",
       "       'Succesful', 'Succesful', 'Succesful', 'Redesign', 'Redesign',\n",
       "       'Succesful', 'Succesful', 'Succesful', 'Succesful', 'Succesful',\n",
       "       'Succesful', 'Succesful', 'Succesful', 'Succesful', 'Succesful',\n",
       "       'Succesful', 'Succesful', 'Succesful', 'Succesful', 'Succesful',\n",
       "       'Succesful', 'Succesful', 'Succesful', 'Succesful', 'Succesful',\n",
       "       'Succesful', 'Succesful', 'Succesful', 'Redesign', 'Succesful',\n",
       "       'Succesful', 'Succesful', 'Succesful', 'Succesful', 'Succesful',\n",
       "       'Succesful', 'Succesful', 'Succesful', 'Redesign', 'Succesful',\n",
       "       'Redesign', 'Redesign', 'Succesful', 'Succesful', 'Succesful',\n",
       "       'Succesful', 'Redesign', 'Redesign', 'Succesful', 'Redesign',\n",
       "       'Redesign', 'Succesful', 'Redesign', 'Redesign', 'Succesful',\n",
       "       'Redesign', 'Redesign', 'Succesful', 'Succesful', 'Redesign',\n",
       "       'Redesign', 'Succesful', 'Succesful', 'Succesful', 'Redesign',\n",
       "       'Redesign', 'Redesign', 'Redesign', 'Succesful', 'Succesful',\n",
       "       'Succesful', 'Succesful', 'Succesful', 'Succesful', 'Succesful',\n",
       "       'Succesful', 'Succesful', 'Succesful', 'Succesful', 'Succesful',\n",
       "       'Succesful', 'Succesful', 'Succesful', 'Succesful', 'Succesful',\n",
       "       'Succesful', 'Succesful', 'Succesful', 'Succesful', 'Succesful',\n",
       "       'Succesful', 'Succesful', 'Succesful', 'Succesful', 'Succesful',\n",
       "       'Succesful', 'Succesful', 'Succesful', 'Succesful', 'Succesful',\n",
       "       'Succesful', 'Succesful', 'Succesful', 'Succesful', 'Succesful',\n",
       "       'Succesful', 'Succesful', 'Succesful', 'Succesful', 'Succesful',\n",
       "       'Succesful', 'Succesful', 'Succesful', 'Succesful', 'Succesful',\n",
       "       'Redesign', 'Succesful', 'Succesful', 'Succesful', 'Succesful',\n",
       "       'Succesful', 'Redesign', 'Succesful', 'Succesful', 'Succesful',\n",
       "       'Succesful', 'Succesful', 'Succesful', 'Succesful', 'Redesign',\n",
       "       'Redesign', 'Succesful', 'Succesful', 'Succesful', 'Redesign',\n",
       "       'Succesful', 'Succesful', 'Succesful', 'Succesful', 'Succesful',\n",
       "       'Succesful', 'Succesful', 'Succesful', 'Succesful', 'Succesful',\n",
       "       'Succesful', 'Succesful', 'Redesign', 'Succesful', 'Succesful',\n",
       "       'Redesign', 'Redesign', 'Redesign', 'Redesign', 'Succesful',\n",
       "       'Succesful', 'Redesign', 'Succesful', 'Redesign', 'Succesful',\n",
       "       'Redesign', 'Redesign', 'Redesign', 'Redesign', 'Redesign',\n",
       "       'Redesign', 'Redesign', 'Redesign', 'Succesful', 'Succesful',\n",
       "       'Redesign', 'Succesful', 'Succesful', 'Redesign', 'Succesful',\n",
       "       'Redesign', 'Succesful', 'Redesign', 'Succesful', 'Redesign',\n",
       "       'Succesful', 'Succesful', 'Succesful', 'Succesful', 'Succesful',\n",
       "       'Succesful', 'Succesful', 'Redesign', 'Redesign', 'Succesful',\n",
       "       'Redesign', 'Succesful', 'Succesful'], dtype=object)"
      ]
     },
     "execution_count": 19,
     "metadata": {},
     "output_type": "execute_result"
    }
   ],
   "source": [
    "Y"
   ]
  },
  {
   "cell_type": "code",
   "execution_count": 20,
   "metadata": {},
   "outputs": [],
   "source": [
    "#Parsing selection and verification datasets\n",
    "validation_size = 0.20\n",
    "seed = 7\n",
    "X_train, X_validation, Y_train, Y_validation = model_selection.train_test_split(X, Y, test_size = validation_size, random_state = seed)"
   ]
  },
  {
   "cell_type": "code",
   "execution_count": 21,
   "metadata": {},
   "outputs": [],
   "source": [
    "from sklearn import svm"
   ]
  },
  {
   "cell_type": "code",
   "execution_count": 22,
   "metadata": {},
   "outputs": [],
   "source": [
    "model = svm.SVC(kernel='linear', C=0.01)"
   ]
  },
  {
   "cell_type": "code",
   "execution_count": 23,
   "metadata": {},
   "outputs": [
    {
     "name": "stdout",
     "output_type": "stream",
     "text": [
      "SVM Algorithm\n",
      "              precision    recall  f1-score   support\n",
      "\n",
      "    Redesign       1.00      1.00      1.00        21\n",
      "   Succesful       1.00      1.00      1.00        79\n",
      "\n",
      "    accuracy                           1.00       100\n",
      "   macro avg       1.00      1.00      1.00       100\n",
      "weighted avg       1.00      1.00      1.00       100\n",
      "\n",
      "[[21  0]\n",
      " [ 0 79]]\n",
      "ACC:  1.0\n"
     ]
    }
   ],
   "source": [
    "from sklearn.model_selection import train_test_split\n",
    "X_train, X_test, y_train, y_test = train_test_split(X, Y, test_size = 0.2, random_state = 0)\n",
    "\n",
    "model.fit(X_train, y_train)\n",
    "\n",
    "y_pred = model.predict(X_test)\n",
    "\n",
    "#Summary of the predictions made by the classifier\n",
    "print(\"SVM Algorithm\")\n",
    "print(classification_report(y_test, y_pred))\n",
    "print(confusion_matrix(y_test, y_pred))\n",
    "#Accuracy score\n",
    "from sklearn.metrics import accuracy_score\n",
    "print(\"ACC: \",accuracy_score(y_pred,y_test))"
   ]
  }
 ],
 "metadata": {
  "kernelspec": {
   "display_name": "Python 3",
   "language": "python",
   "name": "python3"
  },
  "language_info": {
   "codemirror_mode": {
    "name": "ipython",
    "version": 3
   },
   "file_extension": ".py",
   "mimetype": "text/x-python",
   "name": "python",
   "nbconvert_exporter": "python",
   "pygments_lexer": "ipython3",
   "version": "3.11.2"
  }
 },
 "nbformat": 4,
 "nbformat_minor": 2
}
